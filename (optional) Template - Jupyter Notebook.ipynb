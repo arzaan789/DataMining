{
 "cells": [
  {
   "cell_type": "markdown",
   "metadata": {
    "id": "dhJxDq-nTqp5"
   },
   "source": [
    "# **CS4850 Data Mining Final Coursework**\n",
    "#### Student: Arzaan Ul Mairaj\n",
    "#### Student ID: 240280217\n",
    "#### Programme: MSC AI"
   ]
  },
  {
   "cell_type": "markdown",
   "metadata": {
    "id": "2wUewdzfjwtN"
   },
   "source": [
    "## Brief summary of document\n",
    "This document describes the analysis of a dataset related to..."
   ]
  },
  {
   "cell_type": "markdown",
   "metadata": {
    "id": "reBjLsAPvGdc"
   },
   "source": [
    "## Exploratory Data Analysis and Data Pre-processing\n",
    "[_Add a short description of what is done + code blocks (with code comments as needed) related to initial loading of packages, of the data set, and your EDA + Pre-processing steps_]"
   ]
  },
  {
   "cell_type": "code",
   "execution_count": 66,
   "metadata": {
    "colab": {
     "base_uri": "https://localhost:8080/"
    },
    "id": "n5reJMi0k5Gc",
    "outputId": "35458fef-a6bf-44a5-94fb-976334f6e2b6",
    "ExecuteTime": {
     "end_time": "2025-04-08T01:05:10.865857Z",
     "start_time": "2025-04-08T01:05:10.623051Z"
    }
   },
   "outputs": [],
   "source": [
    "# Pip install whatever needed\n",
    "# !pip install pandas scikit-learn matplotlib imblearn"
   ]
  },
  {
   "cell_type": "code",
   "execution_count": 67,
   "metadata": {
    "id": "b3g7Q00yfI1o",
    "ExecuteTime": {
     "end_time": "2025-04-08T01:05:10.886211Z",
     "start_time": "2025-04-08T01:05:10.627655Z"
    }
   },
   "outputs": [],
   "source": [
    "#import libraries\n",
    "import warnings\n",
    "warnings.filterwarnings('ignore')\n",
    "import pandas as pd\n",
    "import matplotlib.pyplot as plt\n",
    "import numpy as np\n",
    "from sklearn.model_selection import GroupShuffleSplit\n",
    "from sklearn.ensemble import IsolationForest\n",
    "from sklearn.preprocessing import StandardScaler\n",
    "from sklearn.model_selection import train_test_split\n",
    "from sklearn.decomposition import PCA\n",
    "from imblearn.under_sampling import RandomUnderSampler\n",
    "from sklearn.ensemble import RandomForestClassifier\n",
    "from sklearn.metrics import confusion_matrix\n",
    "from sklearn.linear_model import LogisticRegression\n",
    "from xgboost import XGBClassifier\n",
    "from imblearn.over_sampling import RandomOverSampler\n",
    "from imblearn.over_sampling import SMOTE\n",
    "from sklearn.model_selection import RandomizedSearchCV, GridSearchCV\n",
    "from sklearn.model_selection import GroupKFold\n",
    "from sklearn.metrics import make_scorer\n",
    "from sklearn.pipeline import Pipeline\n",
    "np.random.seed(42)"
   ]
  },
  {
   "cell_type": "code",
   "execution_count": 68,
   "metadata": {
    "colab": {
     "base_uri": "https://localhost:8080/",
     "height": 371
    },
    "id": "P-4Qdhl8ftvD",
    "outputId": "e8120cb5-e8da-407b-9371-e6e1ba31ce5f",
    "ExecuteTime": {
     "end_time": "2025-04-08T01:05:17.144437Z",
     "start_time": "2025-04-08T01:05:10.629617Z"
    }
   },
   "outputs": [],
   "source": [
    "# Load the dataset\n",
    "df = pd.read_csv(\"df.csv\")"
   ]
  },
  {
   "cell_type": "code",
   "execution_count": 69,
   "outputs": [
    {
     "data": {
      "text/plain": "       Info_PepID  Info_organism_id Info_protein_id  Info_pos Info_AA  \\\n0  XP_805308.1:48              5693     XP_805308.1      1798       K   \n1  XP_820569.1:60              5693     XP_820569.1      1322       T   \n2   XP_815900.1:8              5693     XP_815900.1       149       R   \n3  XP_821138.1:10              5693     XP_821138.1       187       E   \n4   XP_804893.1:6              5693     XP_804893.1       113       T   \n\n        Info_epitope_id Info_nPos Info_nNeg  Info_cluster  Class  ...  \\\n0                361766         0         1            50      1  ...   \n1         406333,251535       0,0       1,1           263      1  ...   \n2                285339         0         1           197      1  ...   \n3         396765,346179       0,0       1,1           270      1  ...   \n4  307209,417548,272283     0,0,0     1,1,1            39      1  ...   \n\n   feat_esm1b_1270  feat_esm1b_1271  feat_esm1b_1272  feat_esm1b_1273  \\\n0        -0.468073         0.116790         0.807796        -0.017825   \n1        -0.088303         0.242516         0.351394         0.108301   \n2         0.121043         0.248497         0.388882        -0.257999   \n3        -0.039452         0.102934         0.039270         0.305421   \n4        -0.074366         0.182009         0.374801         0.150980   \n\n   feat_esm1b_1274  feat_esm1b_1275  feat_esm1b_1276  feat_esm1b_1277  \\\n0         0.319631         0.440370         0.160651         0.187754   \n1         0.058621         0.035160        -0.285763        -0.031222   \n2        -0.532345         0.043773        -0.496472         0.082051   \n3         0.069568        -0.207785        -0.155033         0.177424   \n4         0.063649         0.251235        -0.217734        -0.070261   \n\n   feat_esm1b_1278  feat_esm1b_1279  \n0        -0.009569        -0.148201  \n1        -0.022093        -0.066371  \n2         0.516216         0.131131  \n3        -0.191218        -0.144111  \n4              NaN         0.108773  \n\n[5 rows x 1290 columns]",
      "text/html": "<div>\n<style scoped>\n    .dataframe tbody tr th:only-of-type {\n        vertical-align: middle;\n    }\n\n    .dataframe tbody tr th {\n        vertical-align: top;\n    }\n\n    .dataframe thead th {\n        text-align: right;\n    }\n</style>\n<table border=\"1\" class=\"dataframe\">\n  <thead>\n    <tr style=\"text-align: right;\">\n      <th></th>\n      <th>Info_PepID</th>\n      <th>Info_organism_id</th>\n      <th>Info_protein_id</th>\n      <th>Info_pos</th>\n      <th>Info_AA</th>\n      <th>Info_epitope_id</th>\n      <th>Info_nPos</th>\n      <th>Info_nNeg</th>\n      <th>Info_cluster</th>\n      <th>Class</th>\n      <th>...</th>\n      <th>feat_esm1b_1270</th>\n      <th>feat_esm1b_1271</th>\n      <th>feat_esm1b_1272</th>\n      <th>feat_esm1b_1273</th>\n      <th>feat_esm1b_1274</th>\n      <th>feat_esm1b_1275</th>\n      <th>feat_esm1b_1276</th>\n      <th>feat_esm1b_1277</th>\n      <th>feat_esm1b_1278</th>\n      <th>feat_esm1b_1279</th>\n    </tr>\n  </thead>\n  <tbody>\n    <tr>\n      <th>0</th>\n      <td>XP_805308.1:48</td>\n      <td>5693</td>\n      <td>XP_805308.1</td>\n      <td>1798</td>\n      <td>K</td>\n      <td>361766</td>\n      <td>0</td>\n      <td>1</td>\n      <td>50</td>\n      <td>1</td>\n      <td>...</td>\n      <td>-0.468073</td>\n      <td>0.116790</td>\n      <td>0.807796</td>\n      <td>-0.017825</td>\n      <td>0.319631</td>\n      <td>0.440370</td>\n      <td>0.160651</td>\n      <td>0.187754</td>\n      <td>-0.009569</td>\n      <td>-0.148201</td>\n    </tr>\n    <tr>\n      <th>1</th>\n      <td>XP_820569.1:60</td>\n      <td>5693</td>\n      <td>XP_820569.1</td>\n      <td>1322</td>\n      <td>T</td>\n      <td>406333,251535</td>\n      <td>0,0</td>\n      <td>1,1</td>\n      <td>263</td>\n      <td>1</td>\n      <td>...</td>\n      <td>-0.088303</td>\n      <td>0.242516</td>\n      <td>0.351394</td>\n      <td>0.108301</td>\n      <td>0.058621</td>\n      <td>0.035160</td>\n      <td>-0.285763</td>\n      <td>-0.031222</td>\n      <td>-0.022093</td>\n      <td>-0.066371</td>\n    </tr>\n    <tr>\n      <th>2</th>\n      <td>XP_815900.1:8</td>\n      <td>5693</td>\n      <td>XP_815900.1</td>\n      <td>149</td>\n      <td>R</td>\n      <td>285339</td>\n      <td>0</td>\n      <td>1</td>\n      <td>197</td>\n      <td>1</td>\n      <td>...</td>\n      <td>0.121043</td>\n      <td>0.248497</td>\n      <td>0.388882</td>\n      <td>-0.257999</td>\n      <td>-0.532345</td>\n      <td>0.043773</td>\n      <td>-0.496472</td>\n      <td>0.082051</td>\n      <td>0.516216</td>\n      <td>0.131131</td>\n    </tr>\n    <tr>\n      <th>3</th>\n      <td>XP_821138.1:10</td>\n      <td>5693</td>\n      <td>XP_821138.1</td>\n      <td>187</td>\n      <td>E</td>\n      <td>396765,346179</td>\n      <td>0,0</td>\n      <td>1,1</td>\n      <td>270</td>\n      <td>1</td>\n      <td>...</td>\n      <td>-0.039452</td>\n      <td>0.102934</td>\n      <td>0.039270</td>\n      <td>0.305421</td>\n      <td>0.069568</td>\n      <td>-0.207785</td>\n      <td>-0.155033</td>\n      <td>0.177424</td>\n      <td>-0.191218</td>\n      <td>-0.144111</td>\n    </tr>\n    <tr>\n      <th>4</th>\n      <td>XP_804893.1:6</td>\n      <td>5693</td>\n      <td>XP_804893.1</td>\n      <td>113</td>\n      <td>T</td>\n      <td>307209,417548,272283</td>\n      <td>0,0,0</td>\n      <td>1,1,1</td>\n      <td>39</td>\n      <td>1</td>\n      <td>...</td>\n      <td>-0.074366</td>\n      <td>0.182009</td>\n      <td>0.374801</td>\n      <td>0.150980</td>\n      <td>0.063649</td>\n      <td>0.251235</td>\n      <td>-0.217734</td>\n      <td>-0.070261</td>\n      <td>NaN</td>\n      <td>0.108773</td>\n    </tr>\n  </tbody>\n</table>\n<p>5 rows × 1290 columns</p>\n</div>"
     },
     "execution_count": 69,
     "metadata": {},
     "output_type": "execute_result"
    }
   ],
   "source": [
    "df.head()"
   ],
   "metadata": {
    "collapsed": false,
    "ExecuteTime": {
     "end_time": "2025-04-08T01:05:17.156850Z",
     "start_time": "2025-04-08T01:05:17.143523Z"
    }
   }
  },
  {
   "cell_type": "code",
   "execution_count": 70,
   "outputs": [
    {
     "name": "stdout",
     "output_type": "stream",
     "text": [
      "<class 'pandas.core.frame.DataFrame'>\n",
      "RangeIndex: 45000 entries, 0 to 44999\n",
      "Columns: 1280 entries, feat_esm1b_0 to feat_esm1b_1279\n",
      "dtypes: float64(1280)\n",
      "memory usage: 439.5 MB\n"
     ]
    }
   ],
   "source": [
    "df.iloc[:, 10:].info()"
   ],
   "metadata": {
    "collapsed": false,
    "ExecuteTime": {
     "end_time": "2025-04-08T01:05:17.467579Z",
     "start_time": "2025-04-08T01:05:17.152026Z"
    }
   }
  },
  {
   "cell_type": "markdown",
   "source": [
    "## Only one data type, float64, which is good. No need to convert any data types."
   ],
   "metadata": {
    "collapsed": false
   }
  },
  {
   "cell_type": "code",
   "execution_count": 71,
   "outputs": [
    {
     "name": "stdout",
     "output_type": "stream",
     "text": [
      "0\n"
     ]
    },
    {
     "data": {
      "text/plain": "Class\n 1    0.9836\n-1    0.0164\nName: proportion, dtype: float64"
     },
     "execution_count": 71,
     "metadata": {},
     "output_type": "execute_result"
    },
    {
     "data": {
      "text/plain": "<Figure size 640x480 with 1 Axes>",
      "image/png": "[encoded data removed]"
     },
     "metadata": {},
     "output_type": "display_data"
    }
   ],
   "source": [
    "print(df['Class'].isna().sum())\n",
    "# plot distribution of target variable\n",
    "df['Class'].value_counts(normalize=True).plot(kind='bar')\n",
    "df['Class'].value_counts(normalize=True)"
   ],
   "metadata": {
    "collapsed": false,
    "ExecuteTime": {
     "end_time": "2025-04-08T01:05:17.549781Z",
     "start_time": "2025-04-08T01:05:17.466916Z"
    }
   }
  },
  {
   "cell_type": "code",
   "execution_count": 72,
   "outputs": [
    {
     "data": {
      "text/plain": "<Axes: xlabel='Info_cluster'>"
     },
     "execution_count": 72,
     "metadata": {},
     "output_type": "execute_result"
    },
    {
     "data": {
      "text/plain": "<Figure size 640x480 with 1 Axes>",
      "image/png": "[encoded data removed]"
     },
     "metadata": {},
     "output_type": "display_data"
    }
   ],
   "source": [
    "# check class balance across each Info_cluster\n",
    "df.groupby('Info_cluster')['Class'].value_counts().unstack().plot(kind='bar', stacked=True)"
   ],
   "metadata": {
    "collapsed": false,
    "ExecuteTime": {
     "end_time": "2025-04-08T01:05:18.090436Z",
     "start_time": "2025-04-08T01:05:17.529144Z"
    }
   }
  },
  {
   "cell_type": "markdown",
   "source": [
    "## Class data is severely imbalanced, ratio of -1 to 1 is 0.02:0.98, some clusters don't even have any -1s."
   ],
   "metadata": {
    "collapsed": false
   }
  },
  {
   "cell_type": "code",
   "execution_count": 73,
   "outputs": [
    {
     "data": {
      "text/plain": "1"
     },
     "execution_count": 73,
     "metadata": {},
     "output_type": "execute_result"
    }
   ],
   "source": [
    "# Info_organism_id seems repetitive, I will check if it is the same for all observations\n",
    "df['Info_organism_id'].nunique()"
   ],
   "metadata": {
    "collapsed": false,
    "ExecuteTime": {
     "end_time": "2025-04-08T01:05:18.094119Z",
     "start_time": "2025-04-08T01:05:18.088650Z"
    }
   }
  },
  {
   "cell_type": "code",
   "execution_count": 74,
   "outputs": [],
   "source": [
    "# I'll drop Info_organism_id since it is the same for all observations, I know it will not be used in modelling anyway but I will drop it for comfort reasons since I won't have to focus on it anymore when I'm looking at the info data\n",
    "df = df.drop(['Info_organism_id'], axis=1)"
   ],
   "metadata": {
    "collapsed": false,
    "ExecuteTime": {
     "end_time": "2025-04-08T01:05:18.183752Z",
     "start_time": "2025-04-08T01:05:18.092470Z"
    }
   }
  },
  {
   "cell_type": "markdown",
   "source": [
    "## Checking for missing values"
   ],
   "metadata": {
    "collapsed": false
   }
  },
  {
   "cell_type": "code",
   "execution_count": 75,
   "outputs": [
    {
     "data": {
      "text/plain": "<Axes: ylabel='Frequency'>"
     },
     "execution_count": 75,
     "metadata": {},
     "output_type": "execute_result"
    },
    {
     "data": {
      "text/plain": "<Figure size 640x480 with 1 Axes>",
      "image/png": "[encoded data removed]"
     },
     "metadata": {},
     "output_type": "display_data"
    }
   ],
   "source": [
    "# checking distribution of missing values in features\n",
    "df.iloc[:, 9:].isna().sum().plot(kind='hist')"
   ],
   "metadata": {
    "collapsed": false,
    "ExecuteTime": {
     "end_time": "2025-04-08T01:05:19.116318Z",
     "start_time": "2025-04-08T01:05:18.151904Z"
    }
   }
  },
  {
   "cell_type": "markdown",
   "source": [
    "## The x-axis scale goes till 40000, which means there is atleast one column with greater than or equal to 40000 missing values. I will check the statistics of missing values in features."
   ],
   "metadata": {
    "collapsed": false
   }
  },
  {
   "cell_type": "code",
   "execution_count": 76,
   "outputs": [
    {
     "data": {
      "text/plain": "count     1280.000000\nmean       153.371875\nstd       1129.557108\nmin        113.000000\n25%        120.750000\n50%        122.000000\n75%        123.000000\nmax      40534.000000\ndtype: float64"
     },
     "execution_count": 76,
     "metadata": {},
     "output_type": "execute_result"
    }
   ],
   "source": [
    "# check statistics of missing values in features\n",
    "missing_values = df.iloc[:, 9:].isna().sum().tolist()\n",
    "\n",
    "# stats of missing values\n",
    "missing_values = pd.Series(missing_values)\n",
    "missing_values.describe()"
   ],
   "metadata": {
    "collapsed": false,
    "ExecuteTime": {
     "end_time": "2025-04-08T01:05:20.147026Z",
     "start_time": "2025-04-08T01:05:19.097092Z"
    }
   }
  },
  {
   "cell_type": "code",
   "execution_count": 77,
   "outputs": [
    {
     "data": {
      "text/plain": "0.9007555555555555"
     },
     "execution_count": 77,
     "metadata": {},
     "output_type": "execute_result"
    }
   ],
   "source": [
    "40534/len(df)"
   ],
   "metadata": {
    "collapsed": false,
    "ExecuteTime": {
     "end_time": "2025-04-08T01:05:20.147648Z",
     "start_time": "2025-04-08T01:05:20.143660Z"
    }
   }
  },
  {
   "cell_type": "markdown",
   "source": [
    "## There is a column (or multiple) with most values (90%) missing. I will find and drop it/them since it will not be useful for the model."
   ],
   "metadata": {
    "collapsed": false
   }
  },
  {
   "cell_type": "code",
   "execution_count": 78,
   "outputs": [
    {
     "data": {
      "text/plain": "649"
     },
     "execution_count": 78,
     "metadata": {},
     "output_type": "execute_result"
    }
   ],
   "source": [
    "#which index has max value for missing values\n",
    "missing_values.idxmax()"
   ],
   "metadata": {
    "collapsed": false,
    "ExecuteTime": {
     "end_time": "2025-04-08T01:05:20.148321Z",
     "start_time": "2025-04-08T01:05:20.144208Z"
    }
   }
  },
  {
   "cell_type": "code",
   "execution_count": 79,
   "outputs": [],
   "source": [
    "df = df.drop(['feat_esm1b_649'], axis=1)"
   ],
   "metadata": {
    "collapsed": false,
    "ExecuteTime": {
     "end_time": "2025-04-08T01:05:20.443206Z",
     "start_time": "2025-04-08T01:05:20.144364Z"
    }
   }
  },
  {
   "cell_type": "code",
   "execution_count": 80,
   "outputs": [
    {
     "data": {
      "text/plain": "<Axes: ylabel='Frequency'>"
     },
     "execution_count": 80,
     "metadata": {},
     "output_type": "execute_result"
    },
    {
     "data": {
      "text/plain": "<Figure size 640x480 with 1 Axes>",
      "image/png": "[encoded data removed]"
     },
     "metadata": {},
     "output_type": "display_data"
    }
   ],
   "source": [
    "df.iloc[:, 9:].isna().sum().plot(kind='hist')"
   ],
   "metadata": {
    "collapsed": false,
    "ExecuteTime": {
     "end_time": "2025-04-08T01:05:21.239634Z",
     "start_time": "2025-04-08T01:05:20.443803Z"
    }
   }
  },
  {
   "cell_type": "code",
   "execution_count": 81,
   "outputs": [
    {
     "data": {
      "text/plain": "count    1279.000000\nmean      121.799844\nstd         2.003276\nmin       113.000000\n25%       120.500000\n50%       122.000000\n75%       123.000000\nmax       126.000000\ndtype: float64"
     },
     "execution_count": 81,
     "metadata": {},
     "output_type": "execute_result"
    }
   ],
   "source": [
    "# check statistics of missing values in features\n",
    "missing_values = df.iloc[:, 9:].isna().sum().tolist()\n",
    "\n",
    "# stats of missing values\n",
    "missing_values = pd.Series(missing_values)\n",
    "missing_values.describe()"
   ],
   "metadata": {
    "collapsed": false,
    "ExecuteTime": {
     "end_time": "2025-04-08T01:05:21.675970Z",
     "start_time": "2025-04-08T01:05:21.210936Z"
    }
   }
  },
  {
   "cell_type": "code",
   "execution_count": 82,
   "outputs": [
    {
     "name": "stdout",
     "output_type": "stream",
     "text": [
      "0.27066666666666667\n"
     ]
    }
   ],
   "source": [
    "print(121.8/len(df)*100)"
   ],
   "metadata": {
    "collapsed": false,
    "ExecuteTime": {
     "end_time": "2025-04-08T01:05:21.676716Z",
     "start_time": "2025-04-08T01:05:21.631050Z"
    }
   }
  },
  {
   "cell_type": "markdown",
   "source": [
    "# Every column has missing values and they are around 0.27% of the total values"
   ],
   "metadata": {
    "collapsed": false
   }
  },
  {
   "cell_type": "code",
   "execution_count": 83,
   "outputs": [
    {
     "data": {
      "text/plain": "np.int64(0)"
     },
     "execution_count": 83,
     "metadata": {},
     "output_type": "execute_result"
    }
   ],
   "source": [
    "# checking if any columns from df.iloc[:, 9:] have values equal to 0, since they might be missing values, as most of the columns have continuous float values so zero might be unlikely to be a value and could be a placeholder for missing values\n",
    "zero_values = df.iloc[:, 9:].eq(0).sum().sum()\n",
    "zero_values"
   ],
   "metadata": {
    "collapsed": false,
    "ExecuteTime": {
     "end_time": "2025-04-08T01:05:21.863587Z",
     "start_time": "2025-04-08T01:05:21.633487Z"
    }
   }
  },
  {
   "cell_type": "code",
   "execution_count": 84,
   "outputs": [
    {
     "data": {
      "text/plain": "1216        1\n1215       10\n1214       70\n8           4\n7          11\n6          84\n5         358\n4        1466\n3        4387\n2       10138\n1       15732\n0       12739\nName: count, dtype: int64"
     },
     "execution_count": 84,
     "metadata": {},
     "output_type": "execute_result"
    },
    {
     "data": {
      "text/plain": "<Figure size 640x480 with 1 Axes>",
      "image/png": "[encoded data removed]"
     },
     "metadata": {},
     "output_type": "display_data"
    }
   ],
   "source": [
    "# how many rows have missing values\n",
    "missing_rows = df.iloc[:, 9:].isna().sum(axis=1)\n",
    "missing_rows.value_counts().sort_index(ascending=False).plot(kind='bar')\n",
    "missing_rows.value_counts().sort_index(ascending=False)"
   ],
   "metadata": {
    "collapsed": false,
    "ExecuteTime": {
     "end_time": "2025-04-08T01:05:22.444804Z",
     "start_time": "2025-04-08T01:05:21.864472Z"
    }
   }
  },
  {
   "cell_type": "markdown",
   "source": [
    "## 1 row has 1216 missing values, 10 rows have 1215 missing values and 70 rows have 1214 missing values. I will drop these observations. The rest have very few missing values, in the range of 1-8 so I will impute them. However, I will first check if the missing values are missing at random or not."
   ],
   "metadata": {
    "collapsed": false
   }
  },
  {
   "cell_type": "code",
   "execution_count": 85,
   "outputs": [
    {
     "data": {
      "text/plain": "           Info_PepID Info_protein_id  Info_pos Info_AA Info_epitope_id  \\\n238    XP_810147.1:26     XP_810147.1       577       D          405037   \n400    XP_820538.1:50     XP_820538.1       974       S          358318   \n2273   XP_805780.1:16     XP_805780.1       378       D   401330,321238   \n3078    XP_812887.1:2     XP_812887.1        37       H   338988,308215   \n5203   XP_821144.1:12     XP_821144.1       250       P          387019   \n...               ...             ...       ...     ...             ...   \n43070   XP_819249.1:6     XP_819249.1       171       I          362595   \n43265  XP_812173.1:18     XP_812173.1       379       L          298135   \n43364   XP_809937.1:6     XP_809937.1        45       Q          306044   \n44526  XP_820304.1:22     XP_820304.1       425       L          328759   \n44628  XP_806088.1:32     XP_806088.1       708       C          399995   \n\n      Info_nPos Info_nNeg  Info_cluster  Class  \n238           0         1           127      1  \n400           0         1           261      1  \n2273        0,0       1,1            59      1  \n3078        0,0       1,1           166      1  \n5203          0         1            15      1  \n...         ...       ...           ...    ...  \n43070         0         1           136      1  \n43265         0         1           156      1  \n43364         0         1           124      1  \n44526         0         1            63      1  \n44628         0         1            62      1  \n\n[81 rows x 9 columns]",
      "text/html": "<div>\n<style scoped>\n    .dataframe tbody tr th:only-of-type {\n        vertical-align: middle;\n    }\n\n    .dataframe tbody tr th {\n        vertical-align: top;\n    }\n\n    .dataframe thead th {\n        text-align: right;\n    }\n</style>\n<table border=\"1\" class=\"dataframe\">\n  <thead>\n    <tr style=\"text-align: right;\">\n      <th></th>\n      <th>Info_PepID</th>\n      <th>Info_protein_id</th>\n      <th>Info_pos</th>\n      <th>Info_AA</th>\n      <th>Info_epitope_id</th>\n      <th>Info_nPos</th>\n      <th>Info_nNeg</th>\n      <th>Info_cluster</th>\n      <th>Class</th>\n    </tr>\n  </thead>\n  <tbody>\n    <tr>\n      <th>238</th>\n      <td>XP_810147.1:26</td>\n      <td>XP_810147.1</td>\n      <td>577</td>\n      <td>D</td>\n      <td>405037</td>\n      <td>0</td>\n      <td>1</td>\n      <td>127</td>\n      <td>1</td>\n    </tr>\n    <tr>\n      <th>400</th>\n      <td>XP_820538.1:50</td>\n      <td>XP_820538.1</td>\n      <td>974</td>\n      <td>S</td>\n      <td>358318</td>\n      <td>0</td>\n      <td>1</td>\n      <td>261</td>\n      <td>1</td>\n    </tr>\n    <tr>\n      <th>2273</th>\n      <td>XP_805780.1:16</td>\n      <td>XP_805780.1</td>\n      <td>378</td>\n      <td>D</td>\n      <td>401330,321238</td>\n      <td>0,0</td>\n      <td>1,1</td>\n      <td>59</td>\n      <td>1</td>\n    </tr>\n    <tr>\n      <th>3078</th>\n      <td>XP_812887.1:2</td>\n      <td>XP_812887.1</td>\n      <td>37</td>\n      <td>H</td>\n      <td>338988,308215</td>\n      <td>0,0</td>\n      <td>1,1</td>\n      <td>166</td>\n      <td>1</td>\n    </tr>\n    <tr>\n      <th>5203</th>\n      <td>XP_821144.1:12</td>\n      <td>XP_821144.1</td>\n      <td>250</td>\n      <td>P</td>\n      <td>387019</td>\n      <td>0</td>\n      <td>1</td>\n      <td>15</td>\n      <td>1</td>\n    </tr>\n    <tr>\n      <th>...</th>\n      <td>...</td>\n      <td>...</td>\n      <td>...</td>\n      <td>...</td>\n      <td>...</td>\n      <td>...</td>\n      <td>...</td>\n      <td>...</td>\n      <td>...</td>\n    </tr>\n    <tr>\n      <th>43070</th>\n      <td>XP_819249.1:6</td>\n      <td>XP_819249.1</td>\n      <td>171</td>\n      <td>I</td>\n      <td>362595</td>\n      <td>0</td>\n      <td>1</td>\n      <td>136</td>\n      <td>1</td>\n    </tr>\n    <tr>\n      <th>43265</th>\n      <td>XP_812173.1:18</td>\n      <td>XP_812173.1</td>\n      <td>379</td>\n      <td>L</td>\n      <td>298135</td>\n      <td>0</td>\n      <td>1</td>\n      <td>156</td>\n      <td>1</td>\n    </tr>\n    <tr>\n      <th>43364</th>\n      <td>XP_809937.1:6</td>\n      <td>XP_809937.1</td>\n      <td>45</td>\n      <td>Q</td>\n      <td>306044</td>\n      <td>0</td>\n      <td>1</td>\n      <td>124</td>\n      <td>1</td>\n    </tr>\n    <tr>\n      <th>44526</th>\n      <td>XP_820304.1:22</td>\n      <td>XP_820304.1</td>\n      <td>425</td>\n      <td>L</td>\n      <td>328759</td>\n      <td>0</td>\n      <td>1</td>\n      <td>63</td>\n      <td>1</td>\n    </tr>\n    <tr>\n      <th>44628</th>\n      <td>XP_806088.1:32</td>\n      <td>XP_806088.1</td>\n      <td>708</td>\n      <td>C</td>\n      <td>399995</td>\n      <td>0</td>\n      <td>1</td>\n      <td>62</td>\n      <td>1</td>\n    </tr>\n  </tbody>\n</table>\n<p>81 rows × 9 columns</p>\n</div>"
     },
     "execution_count": 85,
     "metadata": {},
     "output_type": "execute_result"
    }
   ],
   "source": [
    "# get info rows with missing values >= 1214\n",
    "df[missing_rows >= 1214].iloc[:, :9]\n"
   ],
   "metadata": {
    "collapsed": false,
    "ExecuteTime": {
     "end_time": "2025-04-08T01:05:22.487209Z",
     "start_time": "2025-04-08T01:05:22.133823Z"
    }
   }
  },
  {
   "cell_type": "code",
   "execution_count": 86,
   "outputs": [
    {
     "name": "stdout",
     "output_type": "stream",
     "text": [
      "Info_PepID         81\n",
      "Info_protein_id    72\n",
      "Info_pos           81\n",
      "Info_AA            20\n",
      "Info_epitope_id    81\n",
      "Info_nPos           5\n",
      "Info_nNeg           5\n",
      "Info_cluster       69\n",
      "Class               2\n",
      "dtype: int64\n",
      "Info_PepID          4208\n",
      "Info_protein_id      409\n",
      "Info_pos            3169\n",
      "Info_AA               20\n",
      "Info_epitope_id    12441\n",
      "Info_nPos             23\n",
      "Info_nNeg             21\n",
      "Info_cluster         265\n",
      "Class                  2\n",
      "dtype: int64\n"
     ]
    }
   ],
   "source": [
    "print(df[missing_rows >= 1214].iloc[:, :9].nunique())\n",
    "print(df.iloc[:, :9].nunique())"
   ],
   "metadata": {
    "collapsed": false,
    "ExecuteTime": {
     "end_time": "2025-04-08T01:05:22.489074Z",
     "start_time": "2025-04-08T01:05:22.134168Z"
    }
   }
  },
  {
   "cell_type": "markdown",
   "source": [
    "# Upon comparing the unique values of the info columns of the rows with 1214 or more missing values with the unique values of the info columns of the whole dataset, I can see that the rows with 1214 or more missing values are reasonably random and I can drop these rows."
   ],
   "metadata": {
    "collapsed": false
   }
  },
  {
   "cell_type": "code",
   "execution_count": 87,
   "outputs": [
    {
     "name": "stdout",
     "output_type": "stream",
     "text": [
      "44919\n"
     ]
    }
   ],
   "source": [
    "# drop rows with 1214 or more missing values\n",
    "df = df.drop(df[missing_rows >= 1214].index)\n",
    "print(len(df))"
   ],
   "metadata": {
    "collapsed": false,
    "ExecuteTime": {
     "end_time": "2025-04-08T01:05:22.602768Z",
     "start_time": "2025-04-08T01:05:22.435857Z"
    }
   }
  },
  {
   "cell_type": "markdown",
   "source": [
    "## Handling duplicate rows"
   ],
   "metadata": {
    "collapsed": false
   }
  },
  {
   "cell_type": "code",
   "execution_count": 88,
   "outputs": [
    {
     "data": {
      "text/plain": "np.int64(0)"
     },
     "execution_count": 88,
     "metadata": {},
     "output_type": "execute_result"
    }
   ],
   "source": [
    "# check for duplicate rows\n",
    "df.duplicated().sum()"
   ],
   "metadata": {
    "collapsed": false,
    "ExecuteTime": {
     "end_time": "2025-04-08T01:05:24.934381Z",
     "start_time": "2025-04-08T01:05:22.560086Z"
    }
   }
  },
  {
   "cell_type": "code",
   "execution_count": 89,
   "outputs": [
    {
     "data": {
      "text/plain": "np.int64(32484)"
     },
     "execution_count": 89,
     "metadata": {},
     "output_type": "execute_result"
    }
   ],
   "source": [
    "# Getting duplicates based on ID columns\n",
    "df[['Info_PepID', 'Info_protein_id', 'Info_epitope_id']].duplicated().sum()"
   ],
   "metadata": {
    "collapsed": false,
    "ExecuteTime": {
     "end_time": "2025-04-08T01:05:24.990426Z",
     "start_time": "2025-04-08T01:05:24.935803Z"
    }
   }
  },
  {
   "cell_type": "markdown",
   "source": [
    "## Without domain knowledge, I cannot say if the duplicates are valid or not. I will keep them for now. They also do comprise a large portion of the dataset, so they might be valid. I'll now check if there are any columns that have relatively low variance compared to others."
   ],
   "metadata": {
    "collapsed": false
   }
  },
  {
   "cell_type": "code",
   "execution_count": 90,
   "outputs": [
    {
     "data": {
      "text/plain": "<Axes: >"
     },
     "execution_count": 90,
     "metadata": {},
     "output_type": "execute_result"
    },
    {
     "data": {
      "text/plain": "<Figure size 640x480 with 1 Axes>",
      "image/png": "[encoded data removed]"
     },
     "metadata": {},
     "output_type": "display_data"
    }
   ],
   "source": [
    "variances = df.iloc[:, 9:].var().sort_values()\n",
    "variances.sort_values().plot(kind='bar')"
   ],
   "metadata": {
    "collapsed": false,
    "ExecuteTime": {
     "end_time": "2025-04-08T01:05:28.593833Z",
     "start_time": "2025-04-08T01:05:24.949105Z"
    }
   }
  },
  {
   "cell_type": "markdown",
   "source": [
    "## There does seem to be a column with high variance, but most columns are similar in variance with none being too low compared to the others, so I'll let it be for now."
   ],
   "metadata": {
    "collapsed": false
   }
  },
  {
   "cell_type": "markdown",
   "source": [
    "## Splitting the data before imputing missing values"
   ],
   "metadata": {
    "collapsed": false
   }
  },
  {
   "cell_type": "code",
   "execution_count": 91,
   "outputs": [],
   "source": [
    "# Using GroupShuffleSplit to split the data by Info_cluster so that the clusters are not split between train and test\n",
    "gss = GroupShuffleSplit(n_splits=2, test_size=0.2, random_state=42)\n",
    "train_idx, test_idx = next(gss.split(df, groups=df['Info_cluster'])) # split by cluster, not by individual\n",
    "train_df = df.iloc[train_idx]\n",
    "X_test = df.iloc[test_idx]\n",
    "y_test = X_test['Class']\n",
    "X_test = X_test.drop(['Class'], axis=1)\n",
    "\n",
    "gss = GroupShuffleSplit(n_splits=2, test_size=0.2, random_state=6)\n",
    "train_idx, val_idx = next(gss.split(train_df, groups=train_df['Info_cluster'])) # split by cluster, not by individual\n",
    "X_train = train_df.iloc[train_idx]\n",
    "y_train = X_train['Class']\n",
    "X_train = X_train.drop(['Class'], axis=1)\n",
    "X_val = train_df.iloc[val_idx]\n",
    "y_val = X_val['Class']\n",
    "X_val = X_val.drop(['Class'], axis=1)"
   ],
   "metadata": {
    "collapsed": false,
    "ExecuteTime": {
     "end_time": "2025-04-08T01:05:29.208865Z",
     "start_time": "2025-04-08T01:05:28.593220Z"
    }
   }
  },
  {
   "cell_type": "code",
   "execution_count": 92,
   "outputs": [
    {
     "data": {
      "text/plain": "27581"
     },
     "execution_count": 92,
     "metadata": {},
     "output_type": "execute_result"
    }
   ],
   "source": [
    "len(X_train)"
   ],
   "metadata": {
    "collapsed": false,
    "ExecuteTime": {
     "end_time": "2025-04-08T01:05:29.209299Z",
     "start_time": "2025-04-08T01:05:29.205175Z"
    }
   }
  },
  {
   "cell_type": "code",
   "execution_count": 93,
   "outputs": [
    {
     "data": {
      "text/plain": "Class\n 1    0.983539\n-1    0.016461\nName: proportion, dtype: float64"
     },
     "execution_count": 93,
     "metadata": {},
     "output_type": "execute_result"
    }
   ],
   "source": [
    "y_train.value_counts(normalize=True)"
   ],
   "metadata": {
    "collapsed": false,
    "ExecuteTime": {
     "end_time": "2025-04-08T01:05:29.209530Z",
     "start_time": "2025-04-08T01:05:29.206075Z"
    }
   }
  },
  {
   "cell_type": "code",
   "execution_count": 94,
   "outputs": [
    {
     "data": {
      "text/plain": "Class\n 1    0.981929\n-1    0.018071\nName: proportion, dtype: float64"
     },
     "execution_count": 94,
     "metadata": {},
     "output_type": "execute_result"
    }
   ],
   "source": [
    "y_val.value_counts(normalize=True)"
   ],
   "metadata": {
    "collapsed": false,
    "ExecuteTime": {
     "end_time": "2025-04-08T01:05:29.227379Z",
     "start_time": "2025-04-08T01:05:29.210869Z"
    }
   }
  },
  {
   "cell_type": "code",
   "execution_count": 95,
   "outputs": [
    {
     "data": {
      "text/plain": "Class\n 1    0.985072\n-1    0.014928\nName: proportion, dtype: float64"
     },
     "execution_count": 95,
     "metadata": {},
     "output_type": "execute_result"
    }
   ],
   "source": [
    "y_test.value_counts(normalize=True)"
   ],
   "metadata": {
    "collapsed": false,
    "ExecuteTime": {
     "end_time": "2025-04-08T01:05:29.227575Z",
     "start_time": "2025-04-08T01:05:29.218763Z"
    }
   }
  },
  {
   "cell_type": "markdown",
   "source": [
    "## The class imbalance is sufficiently maintained in the train and test splits."
   ],
   "metadata": {
    "collapsed": false
   }
  },
  {
   "cell_type": "code",
   "execution_count": 96,
   "outputs": [
    {
     "name": "stdout",
     "output_type": "stream",
     "text": [
      "0\n"
     ]
    }
   ],
   "source": [
    "# making sure the split is correct\n",
    "train_clusters = X_train['Info_cluster'].unique()\n",
    "test_clusters = X_test['Info_cluster'].unique()\n",
    "val_clusters = X_val['Info_cluster'].unique()\n",
    "print(len(set(train_clusters) & set(test_clusters) & set(val_clusters))) # should be 0 since & is intersection"
   ],
   "metadata": {
    "collapsed": false,
    "ExecuteTime": {
     "end_time": "2025-04-08T01:05:29.234825Z",
     "start_time": "2025-04-08T01:05:29.225488Z"
    }
   }
  },
  {
   "cell_type": "code",
   "execution_count": 97,
   "outputs": [],
   "source": [
    "X_train = X_train.iloc[:, 7:]\n",
    "X_val = X_val.iloc[:, 7:]\n",
    "X_test = X_test.iloc[:, 7:]"
   ],
   "metadata": {
    "collapsed": false,
    "ExecuteTime": {
     "end_time": "2025-04-08T01:05:29.461407Z",
     "start_time": "2025-04-08T01:05:29.232743Z"
    }
   }
  },
  {
   "cell_type": "markdown",
   "source": [
    "## I was going to impute missing values using Stochastic Regression Imputation or even just KNN but the sheer volume of the dataset makes it computationally expensive. Hence, I'll just use mean imputation for now."
   ],
   "metadata": {
    "collapsed": false
   }
  },
  {
   "cell_type": "code",
   "execution_count": 98,
   "outputs": [],
   "source": [
    "# impute missing values with mean\n",
    "X_train.iloc[:, 1:] = X_train.iloc[:, 1:].fillna(X_train.iloc[:, 1:].mean())\n",
    "X_val.iloc[:, 1:] = X_val.iloc[:, 1:].fillna(X_train.iloc[:, 1:].mean()) # using train mean to impute val to avoid data leakage\n",
    "X_test.iloc[:, 1:] = X_test.iloc[:, 1:].fillna(X_train.iloc[:, 1:].mean()) # using train mean to impute test to avoid data leakage"
   ],
   "metadata": {
    "collapsed": false,
    "ExecuteTime": {
     "end_time": "2025-04-08T01:05:30.734559Z",
     "start_time": "2025-04-08T01:05:29.461527Z"
    }
   }
  },
  {
   "cell_type": "markdown",
   "source": [
    "## Checking scale of data"
   ],
   "metadata": {
    "collapsed": false
   }
  },
  {
   "cell_type": "code",
   "execution_count": 99,
   "outputs": [],
   "source": [
    "min_values = X_train.iloc[:, 1:].min().values\n",
    "max_values = X_train.iloc[:, 1:].max().values"
   ],
   "metadata": {
    "collapsed": false,
    "ExecuteTime": {
     "end_time": "2025-04-08T01:05:30.831100Z",
     "start_time": "2025-04-08T01:05:30.733990Z"
    }
   }
  },
  {
   "cell_type": "code",
   "execution_count": 100,
   "outputs": [
    {
     "data": {
      "text/plain": "<Figure size 1200x600 with 1 Axes>",
      "image/png": "[encoded data removed]"
     },
     "metadata": {},
     "output_type": "display_data"
    }
   ],
   "source": [
    "plt.figure(figsize=(12, 6))\n",
    "plt.plot(min_values, label='Minima', alpha=0.7)\n",
    "plt.plot(max_values, label='Maxima', alpha=0.7)\n",
    "plt.xlabel('Feature Index')\n",
    "plt.ylabel('Value')\n",
    "plt.title('Minima and Maxima Across All Features')\n",
    "plt.legend()\n",
    "plt.grid(True)\n",
    "plt.show()"
   ],
   "metadata": {
    "collapsed": false,
    "ExecuteTime": {
     "end_time": "2025-04-08T01:05:30.892479Z",
     "start_time": "2025-04-08T01:05:30.838615Z"
    }
   }
  },
  {
   "cell_type": "markdown",
   "source": [
    "## The scale of the data is different across some features. I will scale the data, but not before dealing with outliers. Since the data is so large, I can't use graphical methods to detect outliers. I will use isolation forest to detect outliers."
   ],
   "metadata": {
    "collapsed": false
   }
  },
  {
   "cell_type": "code",
   "execution_count": 101,
   "outputs": [],
   "source": [
    "X_y_train = X_train.copy()\n",
    "X_y_train['Class'] = y_train"
   ],
   "metadata": {
    "collapsed": false,
    "ExecuteTime": {
     "end_time": "2025-04-08T01:05:31.019050Z",
     "start_time": "2025-04-08T01:05:30.892878Z"
    }
   }
  },
  {
   "cell_type": "code",
   "execution_count": 102,
   "outputs": [],
   "source": [
    "# Initialize Isolation Forest\n",
    "iso_forest = IsolationForest(\n",
    "    random_state=42,\n",
    "    n_jobs=-1\n",
    ")\n",
    "\n",
    "outlier_preds = iso_forest.fit_predict(X_y_train.iloc[:, 1:-1])\n",
    "\n",
    "X_y_train['is_not_outlier'] = outlier_preds"
   ],
   "metadata": {
    "collapsed": false,
    "ExecuteTime": {
     "end_time": "2025-04-08T01:05:31.408856Z",
     "start_time": "2025-04-08T01:05:30.925388Z"
    }
   }
  },
  {
   "cell_type": "code",
   "execution_count": 103,
   "outputs": [
    {
     "name": "stdout",
     "output_type": "stream",
     "text": [
      "is_not_outlier\n",
      " 1    0.958305\n",
      "-1    0.041695\n",
      "Name: proportion, dtype: float64\n"
     ]
    },
    {
     "data": {
      "text/plain": "is_not_outlier\n 1    26431\n-1     1150\nName: count, dtype: int64"
     },
     "execution_count": 103,
     "metadata": {},
     "output_type": "execute_result"
    },
    {
     "data": {
      "text/plain": "<Figure size 640x480 with 1 Axes>",
      "image/png": "[encoded data removed]"
     },
     "metadata": {},
     "output_type": "display_data"
    }
   ],
   "source": [
    "# Check how many outliers were detected\n",
    "X_y_train['is_not_outlier'].value_counts().plot(kind='bar')\n",
    "print(X_y_train['is_not_outlier'].value_counts(normalize=True))\n",
    "X_y_train['is_not_outlier'].value_counts()"
   ],
   "metadata": {
    "collapsed": false,
    "ExecuteTime": {
     "end_time": "2025-04-08T01:05:36.292577Z",
     "start_time": "2025-04-08T01:05:36.252824Z"
    }
   }
  },
  {
   "cell_type": "markdown",
   "source": [
    "## Since the outliers are only ~4.2% of the data, I will remove them and then scale the data. When you don't pass in the contamination parameter, the thresholding is done according to what is the method in the paper.\n"
   ],
   "metadata": {
    "collapsed": false
   }
  },
  {
   "cell_type": "code",
   "execution_count": 40,
   "outputs": [],
   "source": [
    "X_y_train = X_y_train[X_y_train['is_not_outlier'] == 1]\n",
    "X_y_train = X_y_train.drop(['is_not_outlier'], axis=1)\n",
    "X_train = X_y_train.iloc[:, :-1]\n",
    "y_train = X_y_train['Class']"
   ],
   "metadata": {
    "collapsed": false,
    "ExecuteTime": {
     "end_time": "2025-04-08T00:53:19.267823Z",
     "start_time": "2025-04-08T00:53:19.152342Z"
    }
   }
  },
  {
   "cell_type": "code",
   "execution_count": 41,
   "outputs": [],
   "source": [
    "# Scaling\n",
    "scaler = StandardScaler()\n",
    "X_train.iloc[:,1:] = scaler.fit_transform(X_train.iloc[:, 1:])\n",
    "X_val.iloc[:,1:] = scaler.transform(X_val.iloc[:, 1:])\n",
    "X_test.iloc[:,1:] = scaler.transform(X_test.iloc[:, 1:])"
   ],
   "metadata": {
    "collapsed": false,
    "ExecuteTime": {
     "end_time": "2025-04-08T00:53:19.636121Z",
     "start_time": "2025-04-08T00:53:19.269654Z"
    }
   }
  },
  {
   "cell_type": "code",
   "execution_count": 42,
   "outputs": [
    {
     "data": {
      "text/plain": "       Info_cluster  feat_esm1b_0  feat_esm1b_1  feat_esm1b_2  feat_esm1b_3  \\\n0                50      0.703129     -0.673589     -0.240686     -2.412645   \n3               270      1.436325     -0.510360     -1.061137     -1.534090   \n4                39     -1.545342      0.707956      0.853994     -0.466215   \n6               195     -0.713651     -0.956238      0.093647      0.762506   \n8               205     -0.986917     -0.012721      1.103249      0.991632   \n...             ...           ...           ...           ...           ...   \n44990           191     -0.481926      0.312967      2.738800     -0.574085   \n44991           150     -0.085576     -0.036881     -0.285631      0.564408   \n44992            96      1.177481     -0.521606      1.157800      0.713100   \n44996             8     -1.297619     -0.566434     -0.476928      0.391359   \n44998           205      1.242317     -1.158978     -0.234304     -1.651019   \n\n       feat_esm1b_4  feat_esm1b_5  feat_esm1b_6  feat_esm1b_7  feat_esm1b_8  \\\n0         -1.814724      1.786330      0.726708     -1.250825      2.915206   \n3          0.159890      0.922832     -0.817089     -0.431403      0.983145   \n4         -0.450106      2.121188     -0.828514      0.643322     -0.298001   \n6          0.868587      0.150905     -0.703919     -0.635207      1.010559   \n8          0.268670      1.386520     -1.509398      1.065096     -0.198550   \n...             ...           ...           ...           ...           ...   \n44990      0.753938      0.621002     -0.708091      0.648469     -1.050976   \n44991     -1.560728      0.581463     -0.492432      0.813082     -0.017568   \n44992     -0.775492      0.507746     -0.097284      0.833480     -0.681896   \n44996      0.446431     -1.305629     -0.858833     -1.313224      1.264653   \n44998      0.192766     -0.591056      0.194397     -0.419760     -0.550777   \n\n       ...  feat_esm1b_1270  feat_esm1b_1271  feat_esm1b_1272  \\\n0      ...        -1.985388        -0.615524         2.076479   \n3      ...         0.400979        -0.681244        -1.141667   \n4      ...         0.206595        -0.306192         0.263344   \n6      ...         0.944598         0.416726        -1.166796   \n8      ...        -0.359061        -0.241164        -1.343564   \n...    ...              ...              ...              ...   \n44990  ...        -1.026048         0.071114         0.132653   \n44991  ...         0.008410         0.910939        -0.300417   \n44992  ...         0.343070        -0.102166        -1.546240   \n44996  ...         2.123250        -0.526296         0.564716   \n44998  ...         0.351458        -0.210685        -1.341406   \n\n       feat_esm1b_1273  feat_esm1b_1274  feat_esm1b_1275  feat_esm1b_1276  \\\n0            -0.102806         1.592264         2.122277         1.768951   \n3             1.335830         0.374662        -1.573692         0.238369   \n4             0.648475         0.345844         1.043775        -0.065636   \n6             2.386114         0.091970         0.311595        -1.240981   \n8             0.024583         1.521537        -2.874805        -0.282505   \n...                ...              ...              ...              ...   \n44990        -1.273790        -0.942774        -0.646169        -0.265622   \n44991         0.428526         1.565614         0.409287        -0.523657   \n44992         1.861111        -0.242822         1.981336         0.036502   \n44996        -0.094495         0.462329        -0.859518         0.518446   \n44998        -1.812627        -0.646421         0.134255         0.435947   \n\n       feat_esm1b_1277  feat_esm1b_1278  feat_esm1b_1279  \n0             1.013956        -0.698582        -1.238423  \n3             0.961145        -1.480292        -1.212630  \n4            -0.305132         0.019554         0.382129  \n6             0.886433        -1.080875         0.909661  \n8            -0.293475        -0.538889         0.429641  \n...                ...              ...              ...  \n44990        -0.559757        -0.259629         1.218408  \n44991        -0.307636        -0.331801        -0.911205  \n44992         0.116577         0.208161         0.819154  \n44996        -1.570101        -0.824996        -0.212871  \n44998        -0.539823         0.189273         0.366381  \n\n[26431 rows x 1280 columns]",
      "text/html": "<div>\n<style scoped>\n    .dataframe tbody tr th:only-of-type {\n        vertical-align: middle;\n    }\n\n    .dataframe tbody tr th {\n        vertical-align: top;\n    }\n\n    .dataframe thead th {\n        text-align: right;\n    }\n</style>\n<table border=\"1\" class=\"dataframe\">\n  <thead>\n    <tr style=\"text-align: right;\">\n      <th></th>\n      <th>Info_cluster</th>\n      <th>feat_esm1b_0</th>\n      <th>feat_esm1b_1</th>\n      <th>feat_esm1b_2</th>\n      <th>feat_esm1b_3</th>\n      <th>feat_esm1b_4</th>\n      <th>feat_esm1b_5</th>\n      <th>feat_esm1b_6</th>\n      <th>feat_esm1b_7</th>\n      <th>feat_esm1b_8</th>\n      <th>...</th>\n      <th>feat_esm1b_1270</th>\n      <th>feat_esm1b_1271</th>\n      <th>feat_esm1b_1272</th>\n      <th>feat_esm1b_1273</th>\n      <th>feat_esm1b_1274</th>\n      <th>feat_esm1b_1275</th>\n      <th>feat_esm1b_1276</th>\n      <th>feat_esm1b_1277</th>\n      <th>feat_esm1b_1278</th>\n      <th>feat_esm1b_1279</th>\n    </tr>\n  </thead>\n  <tbody>\n    <tr>\n      <th>0</th>\n      <td>50</td>\n      <td>0.703129</td>\n      <td>-0.673589</td>\n      <td>-0.240686</td>\n      <td>-2.412645</td>\n      <td>-1.814724</td>\n      <td>1.786330</td>\n      <td>0.726708</td>\n      <td>-1.250825</td>\n      <td>2.915206</td>\n      <td>...</td>\n      <td>-1.985388</td>\n      <td>-0.615524</td>\n      <td>2.076479</td>\n      <td>-0.102806</td>\n      <td>1.592264</td>\n      <td>2.122277</td>\n      <td>1.768951</td>\n      <td>1.013956</td>\n      <td>-0.698582</td>\n      <td>-1.238423</td>\n    </tr>\n    <tr>\n      <th>3</th>\n      <td>270</td>\n      <td>1.436325</td>\n      <td>-0.510360</td>\n      <td>-1.061137</td>\n      <td>-1.534090</td>\n      <td>0.159890</td>\n      <td>0.922832</td>\n      <td>-0.817089</td>\n      <td>-0.431403</td>\n      <td>0.983145</td>\n      <td>...</td>\n      <td>0.400979</td>\n      <td>-0.681244</td>\n      <td>-1.141667</td>\n      <td>1.335830</td>\n      <td>0.374662</td>\n      <td>-1.573692</td>\n      <td>0.238369</td>\n      <td>0.961145</td>\n      <td>-1.480292</td>\n      <td>-1.212630</td>\n    </tr>\n    <tr>\n      <th>4</th>\n      <td>39</td>\n      <td>-1.545342</td>\n      <td>0.707956</td>\n      <td>0.853994</td>\n      <td>-0.466215</td>\n      <td>-0.450106</td>\n      <td>2.121188</td>\n      <td>-0.828514</td>\n      <td>0.643322</td>\n      <td>-0.298001</td>\n      <td>...</td>\n      <td>0.206595</td>\n      <td>-0.306192</td>\n      <td>0.263344</td>\n      <td>0.648475</td>\n      <td>0.345844</td>\n      <td>1.043775</td>\n      <td>-0.065636</td>\n      <td>-0.305132</td>\n      <td>0.019554</td>\n      <td>0.382129</td>\n    </tr>\n    <tr>\n      <th>6</th>\n      <td>195</td>\n      <td>-0.713651</td>\n      <td>-0.956238</td>\n      <td>0.093647</td>\n      <td>0.762506</td>\n      <td>0.868587</td>\n      <td>0.150905</td>\n      <td>-0.703919</td>\n      <td>-0.635207</td>\n      <td>1.010559</td>\n      <td>...</td>\n      <td>0.944598</td>\n      <td>0.416726</td>\n      <td>-1.166796</td>\n      <td>2.386114</td>\n      <td>0.091970</td>\n      <td>0.311595</td>\n      <td>-1.240981</td>\n      <td>0.886433</td>\n      <td>-1.080875</td>\n      <td>0.909661</td>\n    </tr>\n    <tr>\n      <th>8</th>\n      <td>205</td>\n      <td>-0.986917</td>\n      <td>-0.012721</td>\n      <td>1.103249</td>\n      <td>0.991632</td>\n      <td>0.268670</td>\n      <td>1.386520</td>\n      <td>-1.509398</td>\n      <td>1.065096</td>\n      <td>-0.198550</td>\n      <td>...</td>\n      <td>-0.359061</td>\n      <td>-0.241164</td>\n      <td>-1.343564</td>\n      <td>0.024583</td>\n      <td>1.521537</td>\n      <td>-2.874805</td>\n      <td>-0.282505</td>\n      <td>-0.293475</td>\n      <td>-0.538889</td>\n      <td>0.429641</td>\n    </tr>\n    <tr>\n      <th>...</th>\n      <td>...</td>\n      <td>...</td>\n      <td>...</td>\n      <td>...</td>\n      <td>...</td>\n      <td>...</td>\n      <td>...</td>\n      <td>...</td>\n      <td>...</td>\n      <td>...</td>\n      <td>...</td>\n      <td>...</td>\n      <td>...</td>\n      <td>...</td>\n      <td>...</td>\n      <td>...</td>\n      <td>...</td>\n      <td>...</td>\n      <td>...</td>\n      <td>...</td>\n      <td>...</td>\n    </tr>\n    <tr>\n      <th>44990</th>\n      <td>191</td>\n      <td>-0.481926</td>\n      <td>0.312967</td>\n      <td>2.738800</td>\n      <td>-0.574085</td>\n      <td>0.753938</td>\n      <td>0.621002</td>\n      <td>-0.708091</td>\n      <td>0.648469</td>\n      <td>-1.050976</td>\n      <td>...</td>\n      <td>-1.026048</td>\n      <td>0.071114</td>\n      <td>0.132653</td>\n      <td>-1.273790</td>\n      <td>-0.942774</td>\n      <td>-0.646169</td>\n      <td>-0.265622</td>\n      <td>-0.559757</td>\n      <td>-0.259629</td>\n      <td>1.218408</td>\n    </tr>\n    <tr>\n      <th>44991</th>\n      <td>150</td>\n      <td>-0.085576</td>\n      <td>-0.036881</td>\n      <td>-0.285631</td>\n      <td>0.564408</td>\n      <td>-1.560728</td>\n      <td>0.581463</td>\n      <td>-0.492432</td>\n      <td>0.813082</td>\n      <td>-0.017568</td>\n      <td>...</td>\n      <td>0.008410</td>\n      <td>0.910939</td>\n      <td>-0.300417</td>\n      <td>0.428526</td>\n      <td>1.565614</td>\n      <td>0.409287</td>\n      <td>-0.523657</td>\n      <td>-0.307636</td>\n      <td>-0.331801</td>\n      <td>-0.911205</td>\n    </tr>\n    <tr>\n      <th>44992</th>\n      <td>96</td>\n      <td>1.177481</td>\n      <td>-0.521606</td>\n      <td>1.157800</td>\n      <td>0.713100</td>\n      <td>-0.775492</td>\n      <td>0.507746</td>\n      <td>-0.097284</td>\n      <td>0.833480</td>\n      <td>-0.681896</td>\n      <td>...</td>\n      <td>0.343070</td>\n      <td>-0.102166</td>\n      <td>-1.546240</td>\n      <td>1.861111</td>\n      <td>-0.242822</td>\n      <td>1.981336</td>\n      <td>0.036502</td>\n      <td>0.116577</td>\n      <td>0.208161</td>\n      <td>0.819154</td>\n    </tr>\n    <tr>\n      <th>44996</th>\n      <td>8</td>\n      <td>-1.297619</td>\n      <td>-0.566434</td>\n      <td>-0.476928</td>\n      <td>0.391359</td>\n      <td>0.446431</td>\n      <td>-1.305629</td>\n      <td>-0.858833</td>\n      <td>-1.313224</td>\n      <td>1.264653</td>\n      <td>...</td>\n      <td>2.123250</td>\n      <td>-0.526296</td>\n      <td>0.564716</td>\n      <td>-0.094495</td>\n      <td>0.462329</td>\n      <td>-0.859518</td>\n      <td>0.518446</td>\n      <td>-1.570101</td>\n      <td>-0.824996</td>\n      <td>-0.212871</td>\n    </tr>\n    <tr>\n      <th>44998</th>\n      <td>205</td>\n      <td>1.242317</td>\n      <td>-1.158978</td>\n      <td>-0.234304</td>\n      <td>-1.651019</td>\n      <td>0.192766</td>\n      <td>-0.591056</td>\n      <td>0.194397</td>\n      <td>-0.419760</td>\n      <td>-0.550777</td>\n      <td>...</td>\n      <td>0.351458</td>\n      <td>-0.210685</td>\n      <td>-1.341406</td>\n      <td>-1.812627</td>\n      <td>-0.646421</td>\n      <td>0.134255</td>\n      <td>0.435947</td>\n      <td>-0.539823</td>\n      <td>0.189273</td>\n      <td>0.366381</td>\n    </tr>\n  </tbody>\n</table>\n<p>26431 rows × 1280 columns</p>\n</div>"
     },
     "execution_count": 42,
     "metadata": {},
     "output_type": "execute_result"
    }
   ],
   "source": [
    "X_train"
   ],
   "metadata": {
    "collapsed": false,
    "ExecuteTime": {
     "end_time": "2025-04-08T00:53:19.652542Z",
     "start_time": "2025-04-08T00:53:19.637477Z"
    }
   }
  },
  {
   "cell_type": "markdown",
   "source": [
    "# Features are now scaled"
   ],
   "metadata": {
    "collapsed": false
   }
  },
  {
   "cell_type": "markdown",
   "source": [
    "## Feature reduction: PCA. Again, because of the size of the dataset, I will use PCA to reduce the number of features. Let's first see how many components can explain 90% of the variance"
   ],
   "metadata": {
    "collapsed": false
   }
  },
  {
   "cell_type": "code",
   "execution_count": 43,
   "outputs": [
    {
     "data": {
      "text/plain": "606"
     },
     "execution_count": 43,
     "metadata": {},
     "output_type": "execute_result"
    }
   ],
   "source": [
    "pca = PCA(n_components=0.90, random_state=42)\n",
    "X_train_pca = pca.fit_transform(X_train.iloc[:, 1:])\n",
    "len(pca.explained_variance_ratio_)"
   ],
   "metadata": {
    "collapsed": false,
    "ExecuteTime": {
     "end_time": "2025-04-08T00:53:24.537989Z",
     "start_time": "2025-04-08T00:53:19.656595Z"
    }
   }
  },
  {
   "cell_type": "markdown",
   "source": [
    "# 90% of the variance can be explained by 606 components, which is around half the original dimensions. I'll now use the Kaiser criterion to see how many components have eigenvalues greater than 1. Then, I'll inspect using a Scree plot as well to see how many components I should use. "
   ],
   "metadata": {
    "collapsed": false
   }
  },
  {
   "cell_type": "code",
   "execution_count": 44,
   "outputs": [
    {
     "data": {
      "text/plain": "np.int64(195)"
     },
     "execution_count": 44,
     "metadata": {},
     "output_type": "execute_result"
    }
   ],
   "source": [
    "pca = PCA(random_state=42).fit(X_train.iloc[:, 1:])\n",
    "eigenvalues = pca.explained_variance_  # Get eigenvalues\n",
    "np.where(eigenvalues < 1)[0][0]"
   ],
   "metadata": {
    "collapsed": false,
    "ExecuteTime": {
     "end_time": "2025-04-08T00:53:28.706565Z",
     "start_time": "2025-04-08T00:53:24.539162Z"
    }
   }
  },
  {
   "cell_type": "markdown",
   "source": [
    "## I will now use a Scree plot for 195 components to see how many components I should use. The Kaiser retains quite a lot of components but it's a good starting point."
   ],
   "metadata": {
    "collapsed": false
   }
  },
  {
   "cell_type": "code",
   "execution_count": 45,
   "outputs": [
    {
     "data": {
      "text/plain": "<Figure size 640x480 with 1 Axes>",
      "image/png": "[encoded data removed]"
     },
     "metadata": {},
     "output_type": "display_data"
    }
   ],
   "source": [
    "pca = PCA(random_state=42, n_components=195).fit(X_train.iloc[:, 2:])\n",
    "PC_values = np.arange(pca.n_components_) + 1\n",
    "plt.plot(PC_values, pca.explained_variance_ratio_, 'o-', linewidth=2, color='blue')\n",
    "plt.title('Scree Plot')\n",
    "plt.xlabel('Principal Component')\n",
    "plt.ylabel('Variance Explained')\n",
    "plt.show()"
   ],
   "metadata": {
    "collapsed": false,
    "ExecuteTime": {
     "end_time": "2025-04-08T00:53:29.916915Z",
     "start_time": "2025-04-08T00:53:28.708641Z"
    }
   }
  },
  {
   "cell_type": "markdown",
   "source": [
    "## From the scree plot, it can be seen that the elbow is between 0 and 15 components. I will make the plot again for the first 50 components to see if I can get a better estimate."
   ],
   "metadata": {
    "collapsed": false
   }
  },
  {
   "cell_type": "code",
   "execution_count": 46,
   "outputs": [
    {
     "data": {
      "text/plain": "<Figure size 640x480 with 1 Axes>",
      "image/png": "[encoded data removed]"
     },
     "metadata": {},
     "output_type": "display_data"
    }
   ],
   "source": [
    "pca = PCA(random_state=42, n_components=15).fit(X_train.iloc[:, 2:])\n",
    "PC_values = np.arange(pca.n_components_) + 1\n",
    "plt.plot(PC_values, pca.explained_variance_ratio_, 'o-', linewidth=2, color='blue')\n",
    "plt.title('Scree Plot')\n",
    "plt.xlabel('Principal Component')\n",
    "plt.ylabel('Variance Explained')\n",
    "plt.show()"
   ],
   "metadata": {
    "collapsed": false,
    "ExecuteTime": {
     "end_time": "2025-04-08T00:53:30.492880Z",
     "start_time": "2025-04-08T00:53:29.915908Z"
    }
   }
  },
  {
   "cell_type": "markdown",
   "source": [
    "## As the elbow is on 3, I will use 3 components for PCA"
   ],
   "metadata": {
    "collapsed": false
   }
  },
  {
   "cell_type": "code",
   "execution_count": 47,
   "outputs": [
    {
     "data": {
      "text/plain": "       Info_cluster  feat_esm1b_0  feat_esm1b_1  feat_esm1b_2  feat_esm1b_3  \\\n0                50      0.703129     -0.673589     -0.240686     -2.412645   \n3               270      1.436325     -0.510360     -1.061137     -1.534090   \n4                39     -1.545342      0.707956      0.853994     -0.466215   \n6               195     -0.713651     -0.956238      0.093647      0.762506   \n8               205     -0.986917     -0.012721      1.103249      0.991632   \n...             ...           ...           ...           ...           ...   \n44990           191     -0.481926      0.312967      2.738800     -0.574085   \n44991           150     -0.085576     -0.036881     -0.285631      0.564408   \n44992            96      1.177481     -0.521606      1.157800      0.713100   \n44996             8     -1.297619     -0.566434     -0.476928      0.391359   \n44998           205      1.242317     -1.158978     -0.234304     -1.651019   \n\n       feat_esm1b_4  feat_esm1b_5  feat_esm1b_6  feat_esm1b_7  feat_esm1b_8  \\\n0         -1.814724      1.786330      0.726708     -1.250825      2.915206   \n3          0.159890      0.922832     -0.817089     -0.431403      0.983145   \n4         -0.450106      2.121188     -0.828514      0.643322     -0.298001   \n6          0.868587      0.150905     -0.703919     -0.635207      1.010559   \n8          0.268670      1.386520     -1.509398      1.065096     -0.198550   \n...             ...           ...           ...           ...           ...   \n44990      0.753938      0.621002     -0.708091      0.648469     -1.050976   \n44991     -1.560728      0.581463     -0.492432      0.813082     -0.017568   \n44992     -0.775492      0.507746     -0.097284      0.833480     -0.681896   \n44996      0.446431     -1.305629     -0.858833     -1.313224      1.264653   \n44998      0.192766     -0.591056      0.194397     -0.419760     -0.550777   \n\n       ...  feat_esm1b_1270  feat_esm1b_1271  feat_esm1b_1272  \\\n0      ...        -1.985388        -0.615524         2.076479   \n3      ...         0.400979        -0.681244        -1.141667   \n4      ...         0.206595        -0.306192         0.263344   \n6      ...         0.944598         0.416726        -1.166796   \n8      ...        -0.359061        -0.241164        -1.343564   \n...    ...              ...              ...              ...   \n44990  ...        -1.026048         0.071114         0.132653   \n44991  ...         0.008410         0.910939        -0.300417   \n44992  ...         0.343070        -0.102166        -1.546240   \n44996  ...         2.123250        -0.526296         0.564716   \n44998  ...         0.351458        -0.210685        -1.341406   \n\n       feat_esm1b_1273  feat_esm1b_1274  feat_esm1b_1275  feat_esm1b_1276  \\\n0            -0.102806         1.592264         2.122277         1.768951   \n3             1.335830         0.374662        -1.573692         0.238369   \n4             0.648475         0.345844         1.043775        -0.065636   \n6             2.386114         0.091970         0.311595        -1.240981   \n8             0.024583         1.521537        -2.874805        -0.282505   \n...                ...              ...              ...              ...   \n44990        -1.273790        -0.942774        -0.646169        -0.265622   \n44991         0.428526         1.565614         0.409287        -0.523657   \n44992         1.861111        -0.242822         1.981336         0.036502   \n44996        -0.094495         0.462329        -0.859518         0.518446   \n44998        -1.812627        -0.646421         0.134255         0.435947   \n\n       feat_esm1b_1277  feat_esm1b_1278  feat_esm1b_1279  \n0             1.013956        -0.698582        -1.238423  \n3             0.961145        -1.480292        -1.212630  \n4            -0.305132         0.019554         0.382129  \n6             0.886433        -1.080875         0.909661  \n8            -0.293475        -0.538889         0.429641  \n...                ...              ...              ...  \n44990        -0.559757        -0.259629         1.218408  \n44991        -0.307636        -0.331801        -0.911205  \n44992         0.116577         0.208161         0.819154  \n44996        -1.570101        -0.824996        -0.212871  \n44998        -0.539823         0.189273         0.366381  \n\n[26431 rows x 1280 columns]",
      "text/html": "<div>\n<style scoped>\n    .dataframe tbody tr th:only-of-type {\n        vertical-align: middle;\n    }\n\n    .dataframe tbody tr th {\n        vertical-align: top;\n    }\n\n    .dataframe thead th {\n        text-align: right;\n    }\n</style>\n<table border=\"1\" class=\"dataframe\">\n  <thead>\n    <tr style=\"text-align: right;\">\n      <th></th>\n      <th>Info_cluster</th>\n      <th>feat_esm1b_0</th>\n      <th>feat_esm1b_1</th>\n      <th>feat_esm1b_2</th>\n      <th>feat_esm1b_3</th>\n      <th>feat_esm1b_4</th>\n      <th>feat_esm1b_5</th>\n      <th>feat_esm1b_6</th>\n      <th>feat_esm1b_7</th>\n      <th>feat_esm1b_8</th>\n      <th>...</th>\n      <th>feat_esm1b_1270</th>\n      <th>feat_esm1b_1271</th>\n      <th>feat_esm1b_1272</th>\n      <th>feat_esm1b_1273</th>\n      <th>feat_esm1b_1274</th>\n      <th>feat_esm1b_1275</th>\n      <th>feat_esm1b_1276</th>\n      <th>feat_esm1b_1277</th>\n      <th>feat_esm1b_1278</th>\n      <th>feat_esm1b_1279</th>\n    </tr>\n  </thead>\n  <tbody>\n    <tr>\n      <th>0</th>\n      <td>50</td>\n      <td>0.703129</td>\n      <td>-0.673589</td>\n      <td>-0.240686</td>\n      <td>-2.412645</td>\n      <td>-1.814724</td>\n      <td>1.786330</td>\n      <td>0.726708</td>\n      <td>-1.250825</td>\n      <td>2.915206</td>\n      <td>...</td>\n      <td>-1.985388</td>\n      <td>-0.615524</td>\n      <td>2.076479</td>\n      <td>-0.102806</td>\n      <td>1.592264</td>\n      <td>2.122277</td>\n      <td>1.768951</td>\n      <td>1.013956</td>\n      <td>-0.698582</td>\n      <td>-1.238423</td>\n    </tr>\n    <tr>\n      <th>3</th>\n      <td>270</td>\n      <td>1.436325</td>\n      <td>-0.510360</td>\n      <td>-1.061137</td>\n      <td>-1.534090</td>\n      <td>0.159890</td>\n      <td>0.922832</td>\n      <td>-0.817089</td>\n      <td>-0.431403</td>\n      <td>0.983145</td>\n      <td>...</td>\n      <td>0.400979</td>\n      <td>-0.681244</td>\n      <td>-1.141667</td>\n      <td>1.335830</td>\n      <td>0.374662</td>\n      <td>-1.573692</td>\n      <td>0.238369</td>\n      <td>0.961145</td>\n      <td>-1.480292</td>\n      <td>-1.212630</td>\n    </tr>\n    <tr>\n      <th>4</th>\n      <td>39</td>\n      <td>-1.545342</td>\n      <td>0.707956</td>\n      <td>0.853994</td>\n      <td>-0.466215</td>\n      <td>-0.450106</td>\n      <td>2.121188</td>\n      <td>-0.828514</td>\n      <td>0.643322</td>\n      <td>-0.298001</td>\n      <td>...</td>\n      <td>0.206595</td>\n      <td>-0.306192</td>\n      <td>0.263344</td>\n      <td>0.648475</td>\n      <td>0.345844</td>\n      <td>1.043775</td>\n      <td>-0.065636</td>\n      <td>-0.305132</td>\n      <td>0.019554</td>\n      <td>0.382129</td>\n    </tr>\n    <tr>\n      <th>6</th>\n      <td>195</td>\n      <td>-0.713651</td>\n      <td>-0.956238</td>\n      <td>0.093647</td>\n      <td>0.762506</td>\n      <td>0.868587</td>\n      <td>0.150905</td>\n      <td>-0.703919</td>\n      <td>-0.635207</td>\n      <td>1.010559</td>\n      <td>...</td>\n      <td>0.944598</td>\n      <td>0.416726</td>\n      <td>-1.166796</td>\n      <td>2.386114</td>\n      <td>0.091970</td>\n      <td>0.311595</td>\n      <td>-1.240981</td>\n      <td>0.886433</td>\n      <td>-1.080875</td>\n      <td>0.909661</td>\n    </tr>\n    <tr>\n      <th>8</th>\n      <td>205</td>\n      <td>-0.986917</td>\n      <td>-0.012721</td>\n      <td>1.103249</td>\n      <td>0.991632</td>\n      <td>0.268670</td>\n      <td>1.386520</td>\n      <td>-1.509398</td>\n      <td>1.065096</td>\n      <td>-0.198550</td>\n      <td>...</td>\n      <td>-0.359061</td>\n      <td>-0.241164</td>\n      <td>-1.343564</td>\n      <td>0.024583</td>\n      <td>1.521537</td>\n      <td>-2.874805</td>\n      <td>-0.282505</td>\n      <td>-0.293475</td>\n      <td>-0.538889</td>\n      <td>0.429641</td>\n    </tr>\n    <tr>\n      <th>...</th>\n      <td>...</td>\n      <td>...</td>\n      <td>...</td>\n      <td>...</td>\n      <td>...</td>\n      <td>...</td>\n      <td>...</td>\n      <td>...</td>\n      <td>...</td>\n      <td>...</td>\n      <td>...</td>\n      <td>...</td>\n      <td>...</td>\n      <td>...</td>\n      <td>...</td>\n      <td>...</td>\n      <td>...</td>\n      <td>...</td>\n      <td>...</td>\n      <td>...</td>\n      <td>...</td>\n    </tr>\n    <tr>\n      <th>44990</th>\n      <td>191</td>\n      <td>-0.481926</td>\n      <td>0.312967</td>\n      <td>2.738800</td>\n      <td>-0.574085</td>\n      <td>0.753938</td>\n      <td>0.621002</td>\n      <td>-0.708091</td>\n      <td>0.648469</td>\n      <td>-1.050976</td>\n      <td>...</td>\n      <td>-1.026048</td>\n      <td>0.071114</td>\n      <td>0.132653</td>\n      <td>-1.273790</td>\n      <td>-0.942774</td>\n      <td>-0.646169</td>\n      <td>-0.265622</td>\n      <td>-0.559757</td>\n      <td>-0.259629</td>\n      <td>1.218408</td>\n    </tr>\n    <tr>\n      <th>44991</th>\n      <td>150</td>\n      <td>-0.085576</td>\n      <td>-0.036881</td>\n      <td>-0.285631</td>\n      <td>0.564408</td>\n      <td>-1.560728</td>\n      <td>0.581463</td>\n      <td>-0.492432</td>\n      <td>0.813082</td>\n      <td>-0.017568</td>\n      <td>...</td>\n      <td>0.008410</td>\n      <td>0.910939</td>\n      <td>-0.300417</td>\n      <td>0.428526</td>\n      <td>1.565614</td>\n      <td>0.409287</td>\n      <td>-0.523657</td>\n      <td>-0.307636</td>\n      <td>-0.331801</td>\n      <td>-0.911205</td>\n    </tr>\n    <tr>\n      <th>44992</th>\n      <td>96</td>\n      <td>1.177481</td>\n      <td>-0.521606</td>\n      <td>1.157800</td>\n      <td>0.713100</td>\n      <td>-0.775492</td>\n      <td>0.507746</td>\n      <td>-0.097284</td>\n      <td>0.833480</td>\n      <td>-0.681896</td>\n      <td>...</td>\n      <td>0.343070</td>\n      <td>-0.102166</td>\n      <td>-1.546240</td>\n      <td>1.861111</td>\n      <td>-0.242822</td>\n      <td>1.981336</td>\n      <td>0.036502</td>\n      <td>0.116577</td>\n      <td>0.208161</td>\n      <td>0.819154</td>\n    </tr>\n    <tr>\n      <th>44996</th>\n      <td>8</td>\n      <td>-1.297619</td>\n      <td>-0.566434</td>\n      <td>-0.476928</td>\n      <td>0.391359</td>\n      <td>0.446431</td>\n      <td>-1.305629</td>\n      <td>-0.858833</td>\n      <td>-1.313224</td>\n      <td>1.264653</td>\n      <td>...</td>\n      <td>2.123250</td>\n      <td>-0.526296</td>\n      <td>0.564716</td>\n      <td>-0.094495</td>\n      <td>0.462329</td>\n      <td>-0.859518</td>\n      <td>0.518446</td>\n      <td>-1.570101</td>\n      <td>-0.824996</td>\n      <td>-0.212871</td>\n    </tr>\n    <tr>\n      <th>44998</th>\n      <td>205</td>\n      <td>1.242317</td>\n      <td>-1.158978</td>\n      <td>-0.234304</td>\n      <td>-1.651019</td>\n      <td>0.192766</td>\n      <td>-0.591056</td>\n      <td>0.194397</td>\n      <td>-0.419760</td>\n      <td>-0.550777</td>\n      <td>...</td>\n      <td>0.351458</td>\n      <td>-0.210685</td>\n      <td>-1.341406</td>\n      <td>-1.812627</td>\n      <td>-0.646421</td>\n      <td>0.134255</td>\n      <td>0.435947</td>\n      <td>-0.539823</td>\n      <td>0.189273</td>\n      <td>0.366381</td>\n    </tr>\n  </tbody>\n</table>\n<p>26431 rows × 1280 columns</p>\n</div>"
     },
     "execution_count": 47,
     "metadata": {},
     "output_type": "execute_result"
    }
   ],
   "source": [
    "X_train"
   ],
   "metadata": {
    "collapsed": false,
    "ExecuteTime": {
     "end_time": "2025-04-08T00:53:47.723953Z",
     "start_time": "2025-04-08T00:53:47.664093Z"
    }
   }
  },
  {
   "cell_type": "code",
   "execution_count": 48,
   "outputs": [],
   "source": [
    "pca = PCA(random_state=42, n_components=3)\n",
    "X_train_pca = pca.fit_transform(X_train.iloc[:, 1:])\n",
    "X_val_pca = pca.transform(X_val.iloc[:, 1:])\n",
    "X_test_pca = pca.transform(X_test.iloc[:, 1:])"
   ],
   "metadata": {
    "collapsed": false,
    "ExecuteTime": {
     "end_time": "2025-04-08T00:54:07.274458Z",
     "start_time": "2025-04-08T00:54:06.094896Z"
    }
   }
  },
  {
   "cell_type": "code",
   "execution_count": 49,
   "outputs": [
    {
     "data": {
      "text/plain": "array([[ -5.90263686,  -0.0462577 ,  -6.99137706],\n       [-10.70735668,   2.84827639,  -6.57904161],\n       [ -8.01091092,   3.2268985 ,   2.96541157],\n       ...,\n       [ -9.89032131,   2.368599  ,   1.91437654],\n       [ -2.26031748,   1.44203676,  -2.34830833],\n       [-10.64286281,   1.18793078,  -5.50519662]], shape=(26431, 3))"
     },
     "execution_count": 49,
     "metadata": {},
     "output_type": "execute_result"
    }
   ],
   "source": [
    "X_train_pca"
   ],
   "metadata": {
    "collapsed": false,
    "ExecuteTime": {
     "end_time": "2025-04-08T00:54:08.125425Z",
     "start_time": "2025-04-08T00:54:08.111395Z"
    }
   }
  },
  {
   "cell_type": "code",
   "execution_count": 329,
   "outputs": [],
   "source": [
    "X_train_pca_df = pd.DataFrame(X_train_pca)\n",
    "X_train_pca_df['Info_cluster'] = X_train['Info_cluster'].values\n",
    "X_train_pca_df.to_csv('X_train_pca.csv', index=False)\n",
    "X_val_pca_df = pd.DataFrame(X_val_pca)\n",
    "X_val_pca_df.to_csv('X_val_pca.csv', index=False)\n",
    "X_test_pca_df = pd.DataFrame(X_test_pca)\n",
    "X_test_pca_df.to_csv('X_test_pca.csv', index=False)\n",
    "y_train_df = pd.DataFrame(y_train)\n",
    "y_train_df.to_csv('y_train.csv', index=False)\n",
    "y_val_df = pd.DataFrame(y_val)\n",
    "y_val_df.to_csv('y_val.csv', index=False)\n",
    "y_test_df = pd.DataFrame(y_test)\n",
    "y_test_df.to_csv('y_test.csv', index=False)"
   ],
   "metadata": {
    "collapsed": false,
    "ExecuteTime": {
     "end_time": "2025-04-06T01:55:47.539267Z",
     "start_time": "2025-04-06T01:55:47.347500Z"
    }
   }
  },
  {
   "cell_type": "code",
   "execution_count": 7,
   "outputs": [],
   "source": [
    "# read\n",
    "X_train_pca = pd.read_csv('X_train_pca.csv')\n",
    "X_val_pca = pd.read_csv('X_val_pca.csv')\n",
    "X_test_pca = pd.read_csv('X_test_pca.csv')\n",
    "y_train = pd.read_csv('y_train.csv')\n",
    "y_val = pd.read_csv('y_val.csv')\n",
    "y_test = pd.read_csv('y_test.csv')\n",
    "\n"
   ],
   "metadata": {
    "collapsed": false,
    "ExecuteTime": {
     "end_time": "2025-04-08T01:48:21.059727Z",
     "start_time": "2025-04-08T01:48:20.988594Z"
    }
   }
  },
  {
   "cell_type": "markdown",
   "source": [
    "# Since the classes are imbalanced, I'll check which sampling method works best for the imbalanced data, using a baseline model of logistic regression."
   ],
   "metadata": {
    "collapsed": false
   }
  },
  {
   "cell_type": "code",
   "execution_count": 9,
   "outputs": [],
   "source": [
    "# random undersampling\n",
    "rus = RandomUnderSampler(random_state=42)\n",
    "X_resampled, y_resampled = rus.fit_resample(X_train_pca, y_train)\n",
    "train_data_us = pd.DataFrame(X_resampled)\n",
    "y_us = y_resampled.copy()\n",
    "\n",
    "# random oversampling\n",
    "ros = RandomOverSampler(random_state=42)\n",
    "X_resampled, y_resampled = ros.fit_resample(X_train_pca, y_train)\n",
    "train_data_os = pd.DataFrame(X_resampled)\n",
    "y_os = y_resampled.copy()\n",
    "\n",
    "# SMOTE\n",
    "smote = SMOTE(random_state=42)\n",
    "X_resampled, y_resampled = smote.fit_resample(X_train_pca, y_train)\n",
    "train_data_smote = pd.DataFrame(X_resampled)\n",
    "y_smote = y_resampled.copy()"
   ],
   "metadata": {
    "collapsed": false,
    "ExecuteTime": {
     "end_time": "2025-04-08T01:48:33.574345Z",
     "start_time": "2025-04-08T01:48:33.493393Z"
    }
   }
  },
  {
   "cell_type": "markdown",
   "source": [
    "# I will now fit a logistic regression model to the data and check the balanced accuracy for each sampling method. I'll also try a cost sensitive logistic regression model."
   ],
   "metadata": {
    "collapsed": false
   }
  },
  {
   "cell_type": "code",
   "execution_count": 371,
   "outputs": [
    {
     "name": "stdout",
     "output_type": "stream",
     "text": [
      "TP: 4733 FP: 82 TN: 57 FN: 2820\n",
      "Specificity: 0.41007194244604317\n",
      "Sensitivity: 0.6266384218191448\n",
      "Random undersampling balanced accuracy: 0.518355182132594\n",
      "TP: 285 FP: 257 TN: 181 FN: 153\n",
      "Specificity: 0.4132420091324201\n",
      "Sensitivity: 0.6506849315068494\n",
      "Random undersampling balanced accuracy on train data: 0.5319634703196348\n",
      "\n",
      "TP: 7553 FP: 139 TN: 0 FN: 0\n",
      "Specificity: 0.0\n",
      "Sensitivity: 1.0\n",
      "Non-sampled balanced accuracy: 0.5\n",
      "TP: 25993 FP: 438 TN: 0 FN: 0\n",
      "Specificity: 0.0\n",
      "Sensitivity: 1.0\n",
      "Non-sampled balanced accuracy on train data: 0.5\n",
      "\n",
      "\n",
      "TP: 4877 FP: 85 TN: 54 FN: 2676\n",
      "Specificity: 0.38848920863309355\n",
      "Sensitivity: 0.645703693896465\n",
      "Random oversampling balanced accuracy: 0.5170964512647793\n",
      "TP: 16256 FP: 15368 TN: 10625 FN: 9737\n",
      "Specificity: 0.40876389797253104\n",
      "Sensitivity: 0.6253991459239026\n",
      "Random oversampling balanced accuracy on train data: 0.5170815219482168\n",
      "\n",
      "\n",
      "TP: 3799 FP: 66 TN: 73 FN: 3754\n",
      "Specificity: 0.5251798561151079\n",
      "Sensitivity: 0.5029789487620813\n",
      "SMOTE balanced accuracy: 0.5140794024385946\n",
      "TP: 12422 FP: 11628 TN: 14365 FN: 13571\n",
      "Specificity: 0.552648790058862\n",
      "Sensitivity: 0.47789789558727347\n",
      "SMOTE balanced accuracy on train data: 0.5152733428230678\n",
      "\n",
      "TP: 3080 FP: 59 TN: 80 FN: 4473\n",
      "Specificity: 0.5755395683453237\n",
      "Sensitivity: 0.4077849860982391\n",
      "Cost-sensitive Balanced accuracy: 0.4916622772217814\n",
      "TP: 10392 FP: 184 TN: 254 FN: 15601\n",
      "Specificity: 0.5799086757990868\n",
      "Sensitivity: 0.3997999461393452\n",
      "Cost-sensitive Balanced accuracy on train data: 0.489854310969216\n"
     ]
    }
   ],
   "source": [
    "def balanced_accuracy(y_true, y_pred):\n",
    "    tn, fp, fn, tp = confusion_matrix(y_true, y_pred).ravel()\n",
    "    specificity = tn / (tn + fp)\n",
    "    sensitivity = tp / (tp + fn)\n",
    "    print(\"TP:\", tp, \"FP:\", fp, \"TN:\", tn, \"FN:\", fn)\n",
    "    print(\"Specificity:\", specificity)\n",
    "    print(\"Sensitivity:\", sensitivity)\n",
    "    return (specificity + sensitivity) / 2\n",
    "\n",
    "lr = LogisticRegression(random_state=41, n_jobs=-1, solver='saga')\n",
    "lr.fit(train_data_us.iloc[:, :-1], y_us)\n",
    "y_pred = lr.predict(X_val_pca)\n",
    "print(\"Random undersampling balanced accuracy:\", balanced_accuracy(y_val, y_pred))\n",
    "y_pred = lr.predict(train_data_us.iloc[:, :-1])\n",
    "print(\"Random undersampling balanced accuracy on train data:\", balanced_accuracy(y_us, y_pred))\n",
    "print()\n",
    "lr = LogisticRegression(random_state=41, n_jobs=-1, solver='saga')\n",
    "lr.fit(X_train_pca.iloc[:,:-1], y_train)\n",
    "y_pred = lr.predict(X_val_pca)\n",
    "print(\"Non-sampled balanced accuracy:\", balanced_accuracy(y_val, y_pred))\n",
    "y_pred = lr.predict(X_train_pca.iloc[:,:-1])\n",
    "print(\"Non-sampled balanced accuracy on train data:\", balanced_accuracy(y_train, y_pred))\n",
    "print()\n",
    "print()\n",
    "lr = LogisticRegression(random_state=41, n_jobs=-1, solver='saga')\n",
    "lr.fit(train_data_os.iloc[:, :-1], y_os)\n",
    "y_pred = lr.predict(X_val_pca)\n",
    "print(\"Random oversampling balanced accuracy:\", balanced_accuracy(y_val, y_pred))\n",
    "y_pred = lr.predict(train_data_os.iloc[:, :-1])\n",
    "print(\"Random oversampling balanced accuracy on train data:\", balanced_accuracy(y_os, y_pred))\n",
    "print()\n",
    "print()\n",
    "lr = LogisticRegression(random_state=41, n_jobs=-1, solver='saga')\n",
    "lr.fit(train_data_smote.iloc[:, :-1], y_smote)\n",
    "y_pred = lr.predict(X_val_pca)\n",
    "print(\"SMOTE balanced accuracy:\", balanced_accuracy(y_val, y_pred))\n",
    "y_pred = lr.predict(train_data_smote.iloc[:, :-1])\n",
    "print(\"SMOTE balanced accuracy on train data:\", balanced_accuracy(y_smote, y_pred))\n",
    "print()\n",
    "print()\n",
    "lr = LogisticRegression(random_state=41, class_weight='balanced', n_jobs=-1, solver='saga')\n",
    "lr.fit(X_train_pca.iloc[:,:-1], y_train)\n",
    "y_pred = lr.predict(X_val_pca)\n",
    "print(\"Cost-sensitive Balanced accuracy:\", balanced_accuracy(y_val, y_pred))\n",
    "y_pred = lr.predict(X_train_pca.iloc[:,:-1])\n",
    "print(\"Cost-sensitive Balanced accuracy on train data:\", balanced_accuracy(y_train, y_pred))"
   ],
   "metadata": {
    "collapsed": false,
    "ExecuteTime": {
     "end_time": "2025-04-06T02:25:31.658179Z",
     "start_time": "2025-04-06T02:25:31.304320Z"
    }
   }
  },
  {
   "cell_type": "markdown",
   "source": [
    "## I printed out the train balanced accuracies as well to check for overfitting. Specificity and sensitivity are inversely related, so it is better that I choose the balanced accuracy that comes not from one value being 0 and the other 1. The highest balanced accuracy for validation data comes from Random Undersampling so I will use that for the final model."
   ],
   "metadata": {
    "collapsed": false
   }
  },
  {
   "cell_type": "markdown",
   "metadata": {
    "id": "NqdrKiy-dCQC"
   },
   "source": [
    "## Model fitting"
   ]
  },
  {
   "cell_type": "markdown",
   "source": [
    "## I will be trying out a few models. Logistic regression, Random Forest and XGBoost. I will first try out the models with default parameters, choosing the good performing models based on the balanced accuracy on the validation set and then tune the hyperparameters for them."
   ],
   "metadata": {
    "collapsed": false
   }
  },
  {
   "cell_type": "code",
   "execution_count": 10,
   "outputs": [],
   "source": [
    "def balanced_accuracy(y_true, y_pred):\n",
    "    tn, fp, fn, tp = confusion_matrix(y_true, y_pred).ravel()\n",
    "    specificity = tn / (tn + fp)\n",
    "    sensitivity = tp / (tp + fn)\n",
    "    print(\"Specificity:\", specificity)\n",
    "    print(\"Sensitivity:\", sensitivity)\n",
    "    return (specificity + sensitivity) / 2"
   ],
   "metadata": {
    "collapsed": false,
    "ExecuteTime": {
     "end_time": "2025-03-31T22:15:23.761930Z",
     "start_time": "2025-03-31T22:15:23.691725Z"
    }
   }
  },
  {
   "cell_type": "code",
   "execution_count": 393,
   "outputs": [],
   "source": [
    "X_val_pca"
   ],
   "metadata": {
    "collapsed": false
   }
  },
  {
   "cell_type": "code",
   "execution_count": 398,
   "outputs": [
    {
     "name": "stdout",
     "output_type": "stream",
     "text": [
      "Logistic Regression balanced accuracy: 0.518355182132594\n",
      "Logistic Regression balanced accuracy on train data: 0.5319634703196348\n",
      "Random Forest balanced accuracy: 0.49318008852549894\n",
      "Random Forest balanced accuracy on train data: 1.0\n",
      "XGBoost balanced accuracy: 0.49183372751024657\n",
      "XGBoost balanced accuracy on train data: 0.9920091324200913\n"
     ]
    }
   ],
   "source": [
    "lr = LogisticRegression(random_state=41, n_jobs=-1, solver='saga')\n",
    "lr.fit(train_data_us.iloc[:, :-1], y_us)\n",
    "y_pred = lr.predict(X_val_pca)\n",
    "print(\"Logistic Regression balanced accuracy:\", balanced_accuracy(y_val, y_pred))\n",
    "y_pred = lr.predict(train_data_us.iloc[:, :-1])\n",
    "print(\"Logistic Regression balanced accuracy on train data:\", balanced_accuracy(y_us, y_pred))\n",
    "\n",
    "\n",
    "rf = RandomForestClassifier(random_state=41, n_jobs=-1, class_weight='balanced')\n",
    "rf.fit(train_data_us.iloc[:, :-1], y_us)\n",
    "y_pred = rf.predict(X_val_pca)\n",
    "print(\"Random Forest balanced accuracy:\", balanced_accuracy(y_val, y_pred))\n",
    "y_pred = rf.predict(train_data_us.iloc[:, :-1])\n",
    "print(\"Random Forest balanced accuracy on train data:\", balanced_accuracy(y_us, y_pred))\n",
    "\n",
    "\n",
    "xgb = XGBClassifier(random_state=41, n_jobs=-1)\n",
    "xgb_y_train = y_us.replace(-1, 0)\n",
    "xgb.fit(train_data_us.iloc[:, :-1], xgb_y_train)\n",
    "y_pred = xgb.predict(X_val_pca)\n",
    "xgb_y_val = y_val.replace(-1, 0)\n",
    "print(\"XGBoost balanced accuracy:\", balanced_accuracy(xgb_y_val, y_pred))\n",
    "y_pred = xgb.predict(train_data_us.iloc[:, :-1])\n",
    "print(\"XGBoost balanced accuracy on train data:\", balanced_accuracy(xgb_y_train, y_pred))"
   ],
   "metadata": {
    "collapsed": false,
    "ExecuteTime": {
     "end_time": "2025-04-06T02:36:54.665035Z",
     "start_time": "2025-04-06T02:36:54.370423Z"
    }
   }
  },
  {
   "cell_type": "markdown",
   "source": [
    "## Logistic Regression is the only model that is not overfitting. I will now tune the hyperparameters for it."
   ],
   "metadata": {
    "collapsed": false
   }
  },
  {
   "cell_type": "code",
   "execution_count": 29,
   "outputs": [],
   "source": [
    "# I will now tune all the models using grid search.\n",
    "def balanced_accuracy(y_true, y_pred):\n",
    "    tn, fp, fn, tp = confusion_matrix(y_true, y_pred).ravel()\n",
    "    specificity = tn / (tn + fp)\n",
    "    sensitivity = tp / (tp + fn)\n",
    "    return (specificity + sensitivity) / 2\n",
    "\n",
    "scorer = make_scorer(balanced_accuracy, greater_is_better=True)\n",
    "\n",
    "gkf = GroupKFold(n_splits=5)\n",
    "\n",
    "params = {\n",
    "        \"penalty\": [\"l1\", \"l2\", \"elasticnet\", None],  # Regularization type\n",
    "    \"C\": [0.0001, 0.001, 0.01, 0.1, 1, 10, 100, 1000],  # Regularization strength\n",
    "    \"solver\": [\"liblinear\", \"lbfgs\", \"newton-cg\", \"saga\"],  # Optimization solver\n",
    "    \"max_iter\": [100, 200, 500, 1000, 5000],  # Maximum iterations\n",
    "    \"fit_intercept\": [True, False],  # Whether to include an intercept\n",
    "    \"class_weight\": [None, \"balanced\"],  # Handling imbalanced datasets\n",
    "    \"tol\": [1e-4, 1e-3, 1e-2, 1e-1],  # Tolerance for stopping criteria\n",
    "    \"dual\": [True, False],  # Dual formulation (only for l2 penalty)\n",
    "    \"l1_ratio\": [0.1, 0.5, 0.9],  # ElasticNet mixing ratio (only for saga + elasticnet)\n",
    "    \"warm_start\": [True, False],  # Use previous solution as initialization\n",
    "    \"intercept_scaling\": [0.1, 1, 10],  # Scaling of intercept (only for liblinear)\n",
    "}"
   ],
   "metadata": {
    "collapsed": false,
    "ExecuteTime": {
     "end_time": "2025-03-31T16:20:20.143306Z",
     "start_time": "2025-03-31T16:20:20.109575Z"
    }
   }
  },
  {
   "cell_type": "code",
   "execution_count": 399,
   "outputs": [
    {
     "name": "stderr",
     "output_type": "stream",
     "text": [
      "/Users/arzaan/PycharmProjects/ComputationalIntelligence/venv/lib/python3.12/site-packages/sklearn/utils/validation.py:1408: DataConversionWarning: A column-vector y was passed when a 1d array was expected. Please change the shape of y to (n_samples, ), for example using ravel().\n",
      "  y = column_or_1d(y, warn=True)\n",
      "/Users/arzaan/PycharmProjects/ComputationalIntelligence/venv/lib/python3.12/site-packages/sklearn/utils/validation.py:1408: DataConversionWarning: A column-vector y was passed when a 1d array was expected. Please change the shape of y to (n_samples, ), for example using ravel().\n",
      "  y = column_or_1d(y, warn=True)\n",
      "/Users/arzaan/PycharmProjects/ComputationalIntelligence/venv/lib/python3.12/site-packages/sklearn/utils/validation.py:1408: DataConversionWarning: A column-vector y was passed when a 1d array was expected. Please change the shape of y to (n_samples, ), for example using ravel().\n",
      "  y = column_or_1d(y, warn=True)\n",
      "/Users/arzaan/PycharmProjects/ComputationalIntelligence/venv/lib/python3.12/site-packages/sklearn/utils/validation.py:1408: DataConversionWarning: A column-vector y was passed when a 1d array was expected. Please change the shape of y to (n_samples, ), for example using ravel().\n",
      "  y = column_or_1d(y, warn=True)\n",
      "/Users/arzaan/PycharmProjects/ComputationalIntelligence/venv/lib/python3.12/site-packages/sklearn/utils/validation.py:1408: DataConversionWarning: A column-vector y was passed when a 1d array was expected. Please change the shape of y to (n_samples, ), for example using ravel().\n",
      "  y = column_or_1d(y, warn=True)\n",
      "/Users/arzaan/PycharmProjects/ComputationalIntelligence/venv/lib/python3.12/site-packages/sklearn/linear_model/_logistic.py:1196: UserWarning: l1_ratio parameter is only used when penalty is 'elasticnet'. Got (penalty=l2)\n",
      "  warnings.warn(\n",
      "/Users/arzaan/PycharmProjects/ComputationalIntelligence/venv/lib/python3.12/site-packages/sklearn/utils/validation.py:1408: DataConversionWarning: A column-vector y was passed when a 1d array was expected. Please change the shape of y to (n_samples, ), for example using ravel().\n",
      "  y = column_or_1d(y, warn=True)\n",
      "/Users/arzaan/PycharmProjects/ComputationalIntelligence/venv/lib/python3.12/site-packages/sklearn/linear_model/_logistic.py:1196: UserWarning: l1_ratio parameter is only used when penalty is 'elasticnet'. Got (penalty=l2)\n",
      "  warnings.warn(\n",
      "/Users/arzaan/PycharmProjects/ComputationalIntelligence/venv/lib/python3.12/site-packages/sklearn/linear_model/_logistic.py:1196: UserWarning: l1_ratio parameter is only used when penalty is 'elasticnet'. Got (penalty=l2)\n",
      "  warnings.warn(\n",
      "/Users/arzaan/PycharmProjects/ComputationalIntelligence/venv/lib/python3.12/site-packages/sklearn/utils/validation.py:1408: DataConversionWarning: A column-vector y was passed when a 1d array was expected. Please change the shape of y to (n_samples, ), for example using ravel().\n",
      "  y = column_or_1d(y, warn=True)\n",
      "/Users/arzaan/PycharmProjects/ComputationalIntelligence/venv/lib/python3.12/site-packages/sklearn/utils/validation.py:1408: DataConversionWarning: A column-vector y was passed when a 1d array was expected. Please change the shape of y to (n_samples, ), for example using ravel().\n",
      "  y = column_or_1d(y, warn=True)\n",
      "/Users/arzaan/PycharmProjects/ComputationalIntelligence/venv/lib/python3.12/site-packages/sklearn/linear_model/_logistic.py:1196: UserWarning: l1_ratio parameter is only used when penalty is 'elasticnet'. Got (penalty=l2)\n",
      "  warnings.warn(\n",
      "/Users/arzaan/PycharmProjects/ComputationalIntelligence/venv/lib/python3.12/site-packages/sklearn/utils/validation.py:1408: DataConversionWarning: A column-vector y was passed when a 1d array was expected. Please change the shape of y to (n_samples, ), for example using ravel().\n",
      "  y = column_or_1d(y, warn=True)\n",
      "/Users/arzaan/PycharmProjects/ComputationalIntelligence/venv/lib/python3.12/site-packages/sklearn/linear_model/_logistic.py:1196: UserWarning: l1_ratio parameter is only used when penalty is 'elasticnet'. Got (penalty=l2)\n",
      "  warnings.warn(\n",
      "/Users/arzaan/PycharmProjects/ComputationalIntelligence/venv/lib/python3.12/site-packages/sklearn/utils/validation.py:1408: DataConversionWarning: A column-vector y was passed when a 1d array was expected. Please change the shape of y to (n_samples, ), for example using ravel().\n",
      "  y = column_or_1d(y, warn=True)\n",
      "/Users/arzaan/PycharmProjects/ComputationalIntelligence/venv/lib/python3.12/site-packages/sklearn/linear_model/_logistic.py:1196: UserWarning: l1_ratio parameter is only used when penalty is 'elasticnet'. Got (penalty=None)\n",
      "  warnings.warn(\n",
      "/Users/arzaan/PycharmProjects/ComputationalIntelligence/venv/lib/python3.12/site-packages/sklearn/linear_model/_logistic.py:1207: UserWarning: Setting penalty=None will ignore the C and l1_ratio parameters\n",
      "  warnings.warn(\n",
      "/Users/arzaan/PycharmProjects/ComputationalIntelligence/venv/lib/python3.12/site-packages/sklearn/linear_model/_logistic.py:1196: UserWarning: l1_ratio parameter is only used when penalty is 'elasticnet'. Got (penalty=None)\n",
      "  warnings.warn(\n",
      "/Users/arzaan/PycharmProjects/ComputationalIntelligence/venv/lib/python3.12/site-packages/sklearn/linear_model/_logistic.py:1207: UserWarning: Setting penalty=None will ignore the C and l1_ratio parameters\n",
      "  warnings.warn(\n",
      "/Users/arzaan/PycharmProjects/ComputationalIntelligence/venv/lib/python3.12/site-packages/sklearn/utils/validation.py:1408: DataConversionWarning: A column-vector y was passed when a 1d array was expected. Please change the shape of y to (n_samples, ), for example using ravel().\n",
      "  y = column_or_1d(y, warn=True)\n",
      "/Users/arzaan/PycharmProjects/ComputationalIntelligence/venv/lib/python3.12/site-packages/sklearn/utils/validation.py:1408: DataConversionWarning: A column-vector y was passed when a 1d array was expected. Please change the shape of y to (n_samples, ), for example using ravel().\n",
      "  y = column_or_1d(y, warn=True)\n",
      "/Users/arzaan/PycharmProjects/ComputationalIntelligence/venv/lib/python3.12/site-packages/sklearn/linear_model/_logistic.py:1196: UserWarning: l1_ratio parameter is only used when penalty is 'elasticnet'. Got (penalty=None)\n",
      "  warnings.warn(\n",
      "/Users/arzaan/PycharmProjects/ComputationalIntelligence/venv/lib/python3.12/site-packages/sklearn/linear_model/_logistic.py:1207: UserWarning: Setting penalty=None will ignore the C and l1_ratio parameters\n",
      "  warnings.warn(\n",
      "/Users/arzaan/PycharmProjects/ComputationalIntelligence/venv/lib/python3.12/site-packages/sklearn/linear_model/_logistic.py:1196: UserWarning: l1_ratio parameter is only used when penalty is 'elasticnet'. Got (penalty=None)\n",
      "  warnings.warn(\n",
      "/Users/arzaan/PycharmProjects/ComputationalIntelligence/venv/lib/python3.12/site-packages/sklearn/linear_model/_logistic.py:1207: UserWarning: Setting penalty=None will ignore the C and l1_ratio parameters\n",
      "  warnings.warn(\n",
      "/Users/arzaan/PycharmProjects/ComputationalIntelligence/venv/lib/python3.12/site-packages/sklearn/utils/validation.py:1408: DataConversionWarning: A column-vector y was passed when a 1d array was expected. Please change the shape of y to (n_samples, ), for example using ravel().\n",
      "  y = column_or_1d(y, warn=True)\n",
      "/Users/arzaan/PycharmProjects/ComputationalIntelligence/venv/lib/python3.12/site-packages/sklearn/utils/validation.py:1408: DataConversionWarning: A column-vector y was passed when a 1d array was expected. Please change the shape of y to (n_samples, ), for example using ravel().\n",
      "  y = column_or_1d(y, warn=True)\n",
      "/Users/arzaan/PycharmProjects/ComputationalIntelligence/venv/lib/python3.12/site-packages/sklearn/linear_model/_logistic.py:1196: UserWarning: l1_ratio parameter is only used when penalty is 'elasticnet'. Got (penalty=None)\n",
      "  warnings.warn(\n",
      "/Users/arzaan/PycharmProjects/ComputationalIntelligence/venv/lib/python3.12/site-packages/sklearn/linear_model/_logistic.py:1207: UserWarning: Setting penalty=None will ignore the C and l1_ratio parameters\n",
      "  warnings.warn(\n",
      "/Users/arzaan/PycharmProjects/ComputationalIntelligence/venv/lib/python3.12/site-packages/sklearn/utils/validation.py:1408: DataConversionWarning: A column-vector y was passed when a 1d array was expected. Please change the shape of y to (n_samples, ), for example using ravel().\n",
      "  y = column_or_1d(y, warn=True)\n",
      "/Users/arzaan/PycharmProjects/ComputationalIntelligence/venv/lib/python3.12/site-packages/sklearn/linear_model/_logistic.py:1196: UserWarning: l1_ratio parameter is only used when penalty is 'elasticnet'. Got (penalty=l1)\n",
      "  warnings.warn(\n",
      "/Users/arzaan/PycharmProjects/ComputationalIntelligence/venv/lib/python3.12/site-packages/sklearn/linear_model/_logistic.py:1196: UserWarning: l1_ratio parameter is only used when penalty is 'elasticnet'. Got (penalty=l1)\n",
      "  warnings.warn(\n",
      "/Users/arzaan/PycharmProjects/ComputationalIntelligence/venv/lib/python3.12/site-packages/sklearn/utils/validation.py:1408: DataConversionWarning: A column-vector y was passed when a 1d array was expected. Please change the shape of y to (n_samples, ), for example using ravel().\n",
      "  y = column_or_1d(y, warn=True)\n",
      "/Users/arzaan/PycharmProjects/ComputationalIntelligence/venv/lib/python3.12/site-packages/sklearn/utils/validation.py:1408: DataConversionWarning: A column-vector y was passed when a 1d array was expected. Please change the shape of y to (n_samples, ), for example using ravel().\n",
      "  y = column_or_1d(y, warn=True)\n",
      "/Users/arzaan/PycharmProjects/ComputationalIntelligence/venv/lib/python3.12/site-packages/sklearn/linear_model/_logistic.py:1271: UserWarning: 'n_jobs' > 1 does not have any effect when 'solver' is set to 'liblinear'. Got 'n_jobs' = 8.\n",
      "  warnings.warn(\n",
      "/Users/arzaan/PycharmProjects/ComputationalIntelligence/venv/lib/python3.12/site-packages/sklearn/linear_model/_logistic.py:1271: UserWarning: 'n_jobs' > 1 does not have any effect when 'solver' is set to 'liblinear'. Got 'n_jobs' = 8.\n",
      "  warnings.warn(\n",
      "/Users/arzaan/PycharmProjects/ComputationalIntelligence/venv/lib/python3.12/site-packages/sklearn/linear_model/_logistic.py:1196: UserWarning: l1_ratio parameter is only used when penalty is 'elasticnet'. Got (penalty=l1)\n",
      "  warnings.warn(\n",
      "/Users/arzaan/PycharmProjects/ComputationalIntelligence/venv/lib/python3.12/site-packages/sklearn/utils/validation.py:1408: DataConversionWarning: A column-vector y was passed when a 1d array was expected. Please change the shape of y to (n_samples, ), for example using ravel().\n",
      "  y = column_or_1d(y, warn=True)\n",
      "/Users/arzaan/PycharmProjects/ComputationalIntelligence/venv/lib/python3.12/site-packages/sklearn/linear_model/_logistic.py:1271: UserWarning: 'n_jobs' > 1 does not have any effect when 'solver' is set to 'liblinear'. Got 'n_jobs' = 8.\n",
      "  warnings.warn(\n",
      "/Users/arzaan/PycharmProjects/ComputationalIntelligence/venv/lib/python3.12/site-packages/sklearn/linear_model/_logistic.py:1196: UserWarning: l1_ratio parameter is only used when penalty is 'elasticnet'. Got (penalty=l1)\n",
      "  warnings.warn(\n",
      "/Users/arzaan/PycharmProjects/ComputationalIntelligence/venv/lib/python3.12/site-packages/sklearn/utils/validation.py:1408: DataConversionWarning: A column-vector y was passed when a 1d array was expected. Please change the shape of y to (n_samples, ), for example using ravel().\n",
      "  y = column_or_1d(y, warn=True)\n",
      "/Users/arzaan/PycharmProjects/ComputationalIntelligence/venv/lib/python3.12/site-packages/sklearn/linear_model/_logistic.py:1196: UserWarning: l1_ratio parameter is only used when penalty is 'elasticnet'. Got (penalty=l1)\n",
      "  warnings.warn(\n",
      "/Users/arzaan/PycharmProjects/ComputationalIntelligence/venv/lib/python3.12/site-packages/sklearn/linear_model/_logistic.py:1271: UserWarning: 'n_jobs' > 1 does not have any effect when 'solver' is set to 'liblinear'. Got 'n_jobs' = 8.\n",
      "  warnings.warn(\n",
      "/Users/arzaan/PycharmProjects/ComputationalIntelligence/venv/lib/python3.12/site-packages/sklearn/linear_model/_logistic.py:1196: UserWarning: l1_ratio parameter is only used when penalty is 'elasticnet'. Got (penalty=l2)\n",
      "  warnings.warn(\n",
      "/Users/arzaan/PycharmProjects/ComputationalIntelligence/venv/lib/python3.12/site-packages/sklearn/linear_model/_logistic.py:1196: UserWarning: l1_ratio parameter is only used when penalty is 'elasticnet'. Got (penalty=l2)\n",
      "  warnings.warn(\n",
      "/Users/arzaan/PycharmProjects/ComputationalIntelligence/venv/lib/python3.12/site-packages/sklearn/utils/validation.py:1408: DataConversionWarning: A column-vector y was passed when a 1d array was expected. Please change the shape of y to (n_samples, ), for example using ravel().\n",
      "  y = column_or_1d(y, warn=True)\n",
      "/Users/arzaan/PycharmProjects/ComputationalIntelligence/venv/lib/python3.12/site-packages/sklearn/utils/validation.py:1408: DataConversionWarning: A column-vector y was passed when a 1d array was expected. Please change the shape of y to (n_samples, ), for example using ravel().\n",
      "  y = column_or_1d(y, warn=True)\n",
      "/Users/arzaan/PycharmProjects/ComputationalIntelligence/venv/lib/python3.12/site-packages/sklearn/linear_model/_logistic.py:1271: UserWarning: 'n_jobs' > 1 does not have any effect when 'solver' is set to 'liblinear'. Got 'n_jobs' = 8.\n",
      "  warnings.warn(\n",
      "/Users/arzaan/PycharmProjects/ComputationalIntelligence/venv/lib/python3.12/site-packages/sklearn/utils/validation.py:1408: DataConversionWarning: A column-vector y was passed when a 1d array was expected. Please change the shape of y to (n_samples, ), for example using ravel().\n",
      "  y = column_or_1d(y, warn=True)\n",
      "/Users/arzaan/PycharmProjects/ComputationalIntelligence/venv/lib/python3.12/site-packages/sklearn/linear_model/_logistic.py:1196: UserWarning: l1_ratio parameter is only used when penalty is 'elasticnet'. Got (penalty=l1)\n",
      "  warnings.warn(\n",
      "/Users/arzaan/PycharmProjects/ComputationalIntelligence/venv/lib/python3.12/site-packages/sklearn/linear_model/_logistic.py:1196: UserWarning: l1_ratio parameter is only used when penalty is 'elasticnet'. Got (penalty=l2)\n",
      "  warnings.warn(\n",
      "/Users/arzaan/PycharmProjects/ComputationalIntelligence/venv/lib/python3.12/site-packages/sklearn/utils/validation.py:1408: DataConversionWarning: A column-vector y was passed when a 1d array was expected. Please change the shape of y to (n_samples, ), for example using ravel().\n",
      "  y = column_or_1d(y, warn=True)\n",
      "/Users/arzaan/PycharmProjects/ComputationalIntelligence/venv/lib/python3.12/site-packages/sklearn/linear_model/_logistic.py:1271: UserWarning: 'n_jobs' > 1 does not have any effect when 'solver' is set to 'liblinear'. Got 'n_jobs' = 8.\n",
      "  warnings.warn(\n",
      "/Users/arzaan/PycharmProjects/ComputationalIntelligence/venv/lib/python3.12/site-packages/sklearn/linear_model/_logistic.py:1196: UserWarning: l1_ratio parameter is only used when penalty is 'elasticnet'. Got (penalty=l1)\n",
      "  warnings.warn(\n",
      "/Users/arzaan/PycharmProjects/ComputationalIntelligence/venv/lib/python3.12/site-packages/sklearn/utils/validation.py:1408: DataConversionWarning: A column-vector y was passed when a 1d array was expected. Please change the shape of y to (n_samples, ), for example using ravel().\n",
      "  y = column_or_1d(y, warn=True)\n",
      "/Users/arzaan/PycharmProjects/ComputationalIntelligence/venv/lib/python3.12/site-packages/sklearn/utils/validation.py:1408: DataConversionWarning: A column-vector y was passed when a 1d array was expected. Please change the shape of y to (n_samples, ), for example using ravel().\n",
      "  y = column_or_1d(y, warn=True)\n",
      "/Users/arzaan/PycharmProjects/ComputationalIntelligence/venv/lib/python3.12/site-packages/sklearn/linear_model/_logistic.py:1271: UserWarning: 'n_jobs' > 1 does not have any effect when 'solver' is set to 'liblinear'. Got 'n_jobs' = 8.\n",
      "  warnings.warn(\n",
      "/Users/arzaan/PycharmProjects/ComputationalIntelligence/venv/lib/python3.12/site-packages/sklearn/linear_model/_logistic.py:1196: UserWarning: l1_ratio parameter is only used when penalty is 'elasticnet'. Got (penalty=l1)\n",
      "  warnings.warn(\n",
      "/Users/arzaan/PycharmProjects/ComputationalIntelligence/venv/lib/python3.12/site-packages/sklearn/linear_model/_logistic.py:1196: UserWarning: l1_ratio parameter is only used when penalty is 'elasticnet'. Got (penalty=l1)\n",
      "  warnings.warn(\n",
      "/Users/arzaan/PycharmProjects/ComputationalIntelligence/venv/lib/python3.12/site-packages/sklearn/utils/validation.py:1408: DataConversionWarning: A column-vector y was passed when a 1d array was expected. Please change the shape of y to (n_samples, ), for example using ravel().\n",
      "  y = column_or_1d(y, warn=True)\n",
      "/Users/arzaan/PycharmProjects/ComputationalIntelligence/venv/lib/python3.12/site-packages/sklearn/linear_model/_logistic.py:1271: UserWarning: 'n_jobs' > 1 does not have any effect when 'solver' is set to 'liblinear'. Got 'n_jobs' = 8.\n",
      "  warnings.warn(\n",
      "/Users/arzaan/PycharmProjects/ComputationalIntelligence/venv/lib/python3.12/site-packages/sklearn/utils/validation.py:1408: DataConversionWarning: A column-vector y was passed when a 1d array was expected. Please change the shape of y to (n_samples, ), for example using ravel().\n",
      "  y = column_or_1d(y, warn=True)\n",
      "/Users/arzaan/PycharmProjects/ComputationalIntelligence/venv/lib/python3.12/site-packages/sklearn/linear_model/_logistic.py:1196: UserWarning: l1_ratio parameter is only used when penalty is 'elasticnet'. Got (penalty=l1)\n",
      "  warnings.warn(\n",
      "/Users/arzaan/PycharmProjects/ComputationalIntelligence/venv/lib/python3.12/site-packages/sklearn/utils/validation.py:1408: DataConversionWarning: A column-vector y was passed when a 1d array was expected. Please change the shape of y to (n_samples, ), for example using ravel().\n",
      "  y = column_or_1d(y, warn=True)\n",
      "/Users/arzaan/PycharmProjects/ComputationalIntelligence/venv/lib/python3.12/site-packages/sklearn/linear_model/_logistic.py:1271: UserWarning: 'n_jobs' > 1 does not have any effect when 'solver' is set to 'liblinear'. Got 'n_jobs' = 8.\n",
      "  warnings.warn(\n",
      "/Users/arzaan/PycharmProjects/ComputationalIntelligence/venv/lib/python3.12/site-packages/sklearn/linear_model/_logistic.py:1196: UserWarning: l1_ratio parameter is only used when penalty is 'elasticnet'. Got (penalty=l1)\n",
      "  warnings.warn(\n",
      "/Users/arzaan/PycharmProjects/ComputationalIntelligence/venv/lib/python3.12/site-packages/sklearn/utils/validation.py:1408: DataConversionWarning: A column-vector y was passed when a 1d array was expected. Please change the shape of y to (n_samples, ), for example using ravel().\n",
      "  y = column_or_1d(y, warn=True)\n",
      "/Users/arzaan/PycharmProjects/ComputationalIntelligence/venv/lib/python3.12/site-packages/sklearn/linear_model/_logistic.py:1196: UserWarning: l1_ratio parameter is only used when penalty is 'elasticnet'. Got (penalty=l2)\n",
      "  warnings.warn(\n",
      "/Users/arzaan/PycharmProjects/ComputationalIntelligence/venv/lib/python3.12/site-packages/sklearn/linear_model/_logistic.py:1196: UserWarning: l1_ratio parameter is only used when penalty is 'elasticnet'. Got (penalty=l2)\n",
      "  warnings.warn(\n",
      "/Users/arzaan/PycharmProjects/ComputationalIntelligence/venv/lib/python3.12/site-packages/sklearn/utils/validation.py:1408: DataConversionWarning: A column-vector y was passed when a 1d array was expected. Please change the shape of y to (n_samples, ), for example using ravel().\n",
      "  y = column_or_1d(y, warn=True)\n",
      "/Users/arzaan/PycharmProjects/ComputationalIntelligence/venv/lib/python3.12/site-packages/sklearn/utils/validation.py:1408: DataConversionWarning: A column-vector y was passed when a 1d array was expected. Please change the shape of y to (n_samples, ), for example using ravel().\n",
      "  y = column_or_1d(y, warn=True)\n",
      "/Users/arzaan/PycharmProjects/ComputationalIntelligence/venv/lib/python3.12/site-packages/sklearn/linear_model/_logistic.py:1196: UserWarning: l1_ratio parameter is only used when penalty is 'elasticnet'. Got (penalty=l2)\n",
      "  warnings.warn(\n",
      "/Users/arzaan/PycharmProjects/ComputationalIntelligence/venv/lib/python3.12/site-packages/sklearn/utils/validation.py:1408: DataConversionWarning: A column-vector y was passed when a 1d array was expected. Please change the shape of y to (n_samples, ), for example using ravel().\n",
      "  y = column_or_1d(y, warn=True)\n",
      "/Users/arzaan/PycharmProjects/ComputationalIntelligence/venv/lib/python3.12/site-packages/sklearn/linear_model/_logistic.py:1196: UserWarning: l1_ratio parameter is only used when penalty is 'elasticnet'. Got (penalty=l1)\n",
      "  warnings.warn(\n",
      "/Users/arzaan/PycharmProjects/ComputationalIntelligence/venv/lib/python3.12/site-packages/sklearn/utils/validation.py:1408: DataConversionWarning: A column-vector y was passed when a 1d array was expected. Please change the shape of y to (n_samples, ), for example using ravel().\n",
      "  y = column_or_1d(y, warn=True)\n",
      "/Users/arzaan/PycharmProjects/ComputationalIntelligence/venv/lib/python3.12/site-packages/sklearn/linear_model/_logistic.py:1196: UserWarning: l1_ratio parameter is only used when penalty is 'elasticnet'. Got (penalty=l2)\n",
      "  warnings.warn(\n",
      "/Users/arzaan/PycharmProjects/ComputationalIntelligence/venv/lib/python3.12/site-packages/sklearn/utils/validation.py:1408: DataConversionWarning: A column-vector y was passed when a 1d array was expected. Please change the shape of y to (n_samples, ), for example using ravel().\n",
      "  y = column_or_1d(y, warn=True)\n",
      "/Users/arzaan/PycharmProjects/ComputationalIntelligence/venv/lib/python3.12/site-packages/sklearn/linear_model/_logistic.py:1196: UserWarning: l1_ratio parameter is only used when penalty is 'elasticnet'. Got (penalty=l2)\n",
      "  warnings.warn(\n",
      "/Users/arzaan/PycharmProjects/ComputationalIntelligence/venv/lib/python3.12/site-packages/sklearn/utils/validation.py:1408: DataConversionWarning: A column-vector y was passed when a 1d array was expected. Please change the shape of y to (n_samples, ), for example using ravel().\n",
      "  y = column_or_1d(y, warn=True)\n",
      "/Users/arzaan/PycharmProjects/ComputationalIntelligence/venv/lib/python3.12/site-packages/sklearn/linear_model/_logistic.py:1196: UserWarning: l1_ratio parameter is only used when penalty is 'elasticnet'. Got (penalty=l2)\n",
      "  warnings.warn(\n",
      "/Users/arzaan/PycharmProjects/ComputationalIntelligence/venv/lib/python3.12/site-packages/sklearn/utils/validation.py:1408: DataConversionWarning: A column-vector y was passed when a 1d array was expected. Please change the shape of y to (n_samples, ), for example using ravel().\n",
      "  y = column_or_1d(y, warn=True)\n",
      "/Users/arzaan/PycharmProjects/ComputationalIntelligence/venv/lib/python3.12/site-packages/sklearn/linear_model/_logistic.py:1196: UserWarning: l1_ratio parameter is only used when penalty is 'elasticnet'. Got (penalty=l2)\n",
      "  warnings.warn(\n",
      "/Users/arzaan/PycharmProjects/ComputationalIntelligence/venv/lib/python3.12/site-packages/sklearn/linear_model/_logistic.py:1196: UserWarning: l1_ratio parameter is only used when penalty is 'elasticnet'. Got (penalty=l2)\n",
      "  warnings.warn(\n",
      "/Users/arzaan/PycharmProjects/ComputationalIntelligence/venv/lib/python3.12/site-packages/sklearn/utils/validation.py:1408: DataConversionWarning: A column-vector y was passed when a 1d array was expected. Please change the shape of y to (n_samples, ), for example using ravel().\n",
      "  y = column_or_1d(y, warn=True)\n",
      "/Users/arzaan/PycharmProjects/ComputationalIntelligence/venv/lib/python3.12/site-packages/sklearn/utils/validation.py:1408: DataConversionWarning: A column-vector y was passed when a 1d array was expected. Please change the shape of y to (n_samples, ), for example using ravel().\n",
      "  y = column_or_1d(y, warn=True)\n",
      "/Users/arzaan/PycharmProjects/ComputationalIntelligence/venv/lib/python3.12/site-packages/sklearn/linear_model/_logistic.py:1196: UserWarning: l1_ratio parameter is only used when penalty is 'elasticnet'. Got (penalty=l2)\n",
      "  warnings.warn(\n",
      "/Users/arzaan/PycharmProjects/ComputationalIntelligence/venv/lib/python3.12/site-packages/sklearn/linear_model/_logistic.py:1196: UserWarning: l1_ratio parameter is only used when penalty is 'elasticnet'. Got (penalty=l1)\n",
      "  warnings.warn(\n",
      "/Users/arzaan/PycharmProjects/ComputationalIntelligence/venv/lib/python3.12/site-packages/sklearn/utils/validation.py:1408: DataConversionWarning: A column-vector y was passed when a 1d array was expected. Please change the shape of y to (n_samples, ), for example using ravel().\n",
      "  y = column_or_1d(y, warn=True)\n",
      "/Users/arzaan/PycharmProjects/ComputationalIntelligence/venv/lib/python3.12/site-packages/sklearn/utils/validation.py:1408: DataConversionWarning: A column-vector y was passed when a 1d array was expected. Please change the shape of y to (n_samples, ), for example using ravel().\n",
      "  y = column_or_1d(y, warn=True)\n",
      "/Users/arzaan/PycharmProjects/ComputationalIntelligence/venv/lib/python3.12/site-packages/sklearn/linear_model/_logistic.py:1271: UserWarning: 'n_jobs' > 1 does not have any effect when 'solver' is set to 'liblinear'. Got 'n_jobs' = 8.\n",
      "  warnings.warn(\n",
      "/Users/arzaan/PycharmProjects/ComputationalIntelligence/venv/lib/python3.12/site-packages/sklearn/linear_model/_logistic.py:1196: UserWarning: l1_ratio parameter is only used when penalty is 'elasticnet'. Got (penalty=l2)\n",
      "  warnings.warn(\n",
      "/Users/arzaan/PycharmProjects/ComputationalIntelligence/venv/lib/python3.12/site-packages/sklearn/utils/validation.py:1408: DataConversionWarning: A column-vector y was passed when a 1d array was expected. Please change the shape of y to (n_samples, ), for example using ravel().\n",
      "  y = column_or_1d(y, warn=True)\n",
      "/Users/arzaan/PycharmProjects/ComputationalIntelligence/venv/lib/python3.12/site-packages/sklearn/linear_model/_logistic.py:1196: UserWarning: l1_ratio parameter is only used when penalty is 'elasticnet'. Got (penalty=l1)\n",
      "  warnings.warn(\n",
      "/Users/arzaan/PycharmProjects/ComputationalIntelligence/venv/lib/python3.12/site-packages/sklearn/utils/validation.py:1408: DataConversionWarning: A column-vector y was passed when a 1d array was expected. Please change the shape of y to (n_samples, ), for example using ravel().\n",
      "  y = column_or_1d(y, warn=True)\n",
      "/Users/arzaan/PycharmProjects/ComputationalIntelligence/venv/lib/python3.12/site-packages/sklearn/linear_model/_logistic.py:1196: UserWarning: l1_ratio parameter is only used when penalty is 'elasticnet'. Got (penalty=l2)\n",
      "  warnings.warn(\n",
      "/Users/arzaan/PycharmProjects/ComputationalIntelligence/venv/lib/python3.12/site-packages/sklearn/utils/validation.py:1408: DataConversionWarning: A column-vector y was passed when a 1d array was expected. Please change the shape of y to (n_samples, ), for example using ravel().\n",
      "  y = column_or_1d(y, warn=True)\n",
      "/Users/arzaan/PycharmProjects/ComputationalIntelligence/venv/lib/python3.12/site-packages/sklearn/linear_model/_logistic.py:1196: UserWarning: l1_ratio parameter is only used when penalty is 'elasticnet'. Got (penalty=l2)\n",
      "  warnings.warn(\n",
      "/Users/arzaan/PycharmProjects/ComputationalIntelligence/venv/lib/python3.12/site-packages/sklearn/utils/validation.py:1408: DataConversionWarning: A column-vector y was passed when a 1d array was expected. Please change the shape of y to (n_samples, ), for example using ravel().\n",
      "  y = column_or_1d(y, warn=True)\n",
      "/Users/arzaan/PycharmProjects/ComputationalIntelligence/venv/lib/python3.12/site-packages/sklearn/linear_model/_logistic.py:1196: UserWarning: l1_ratio parameter is only used when penalty is 'elasticnet'. Got (penalty=None)\n",
      "  warnings.warn(\n",
      "/Users/arzaan/PycharmProjects/ComputationalIntelligence/venv/lib/python3.12/site-packages/sklearn/linear_model/_logistic.py:1207: UserWarning: Setting penalty=None will ignore the C and l1_ratio parameters\n",
      "  warnings.warn(\n",
      "/Users/arzaan/PycharmProjects/ComputationalIntelligence/venv/lib/python3.12/site-packages/sklearn/utils/validation.py:1408: DataConversionWarning: A column-vector y was passed when a 1d array was expected. Please change the shape of y to (n_samples, ), for example using ravel().\n",
      "  y = column_or_1d(y, warn=True)\n",
      "/Users/arzaan/PycharmProjects/ComputationalIntelligence/venv/lib/python3.12/site-packages/sklearn/linear_model/_logistic.py:1196: UserWarning: l1_ratio parameter is only used when penalty is 'elasticnet'. Got (penalty=l2)\n",
      "  warnings.warn(\n",
      "/Users/arzaan/PycharmProjects/ComputationalIntelligence/venv/lib/python3.12/site-packages/sklearn/utils/validation.py:1408: DataConversionWarning: A column-vector y was passed when a 1d array was expected. Please change the shape of y to (n_samples, ), for example using ravel().\n",
      "  y = column_or_1d(y, warn=True)\n",
      "/Users/arzaan/PycharmProjects/ComputationalIntelligence/venv/lib/python3.12/site-packages/sklearn/utils/validation.py:1408: DataConversionWarning: A column-vector y was passed when a 1d array was expected. Please change the shape of y to (n_samples, ), for example using ravel().\n",
      "  y = column_or_1d(y, warn=True)\n",
      "/Users/arzaan/PycharmProjects/ComputationalIntelligence/venv/lib/python3.12/site-packages/sklearn/utils/validation.py:1408: DataConversionWarning: A column-vector y was passed when a 1d array was expected. Please change the shape of y to (n_samples, ), for example using ravel().\n",
      "  y = column_or_1d(y, warn=True)\n",
      "/Users/arzaan/PycharmProjects/ComputationalIntelligence/venv/lib/python3.12/site-packages/sklearn/linear_model/_logistic.py:1196: UserWarning: l1_ratio parameter is only used when penalty is 'elasticnet'. Got (penalty=l1)\n",
      "  warnings.warn(\n",
      "/Users/arzaan/PycharmProjects/ComputationalIntelligence/venv/lib/python3.12/site-packages/sklearn/utils/validation.py:1408: DataConversionWarning: A column-vector y was passed when a 1d array was expected. Please change the shape of y to (n_samples, ), for example using ravel().\n",
      "  y = column_or_1d(y, warn=True)\n",
      "/Users/arzaan/PycharmProjects/ComputationalIntelligence/venv/lib/python3.12/site-packages/sklearn/linear_model/_logistic.py:1196: UserWarning: l1_ratio parameter is only used when penalty is 'elasticnet'. Got (penalty=l2)\n",
      "  warnings.warn(\n",
      "/Users/arzaan/PycharmProjects/ComputationalIntelligence/venv/lib/python3.12/site-packages/sklearn/utils/validation.py:1408: DataConversionWarning: A column-vector y was passed when a 1d array was expected. Please change the shape of y to (n_samples, ), for example using ravel().\n",
      "  y = column_or_1d(y, warn=True)\n",
      "/Users/arzaan/PycharmProjects/ComputationalIntelligence/venv/lib/python3.12/site-packages/sklearn/linear_model/_logistic.py:1196: UserWarning: l1_ratio parameter is only used when penalty is 'elasticnet'. Got (penalty=l2)\n",
      "  warnings.warn(\n",
      "/Users/arzaan/PycharmProjects/ComputationalIntelligence/venv/lib/python3.12/site-packages/sklearn/utils/validation.py:1408: DataConversionWarning: A column-vector y was passed when a 1d array was expected. Please change the shape of y to (n_samples, ), for example using ravel().\n",
      "  y = column_or_1d(y, warn=True)\n",
      "/Users/arzaan/PycharmProjects/ComputationalIntelligence/venv/lib/python3.12/site-packages/sklearn/linear_model/_logistic.py:1196: UserWarning: l1_ratio parameter is only used when penalty is 'elasticnet'. Got (penalty=l2)\n",
      "  warnings.warn(\n",
      "/Users/arzaan/PycharmProjects/ComputationalIntelligence/venv/lib/python3.12/site-packages/sklearn/linear_model/_logistic.py:1196: UserWarning: l1_ratio parameter is only used when penalty is 'elasticnet'. Got (penalty=None)\n",
      "  warnings.warn(\n",
      "/Users/arzaan/PycharmProjects/ComputationalIntelligence/venv/lib/python3.12/site-packages/sklearn/linear_model/_logistic.py:1207: UserWarning: Setting penalty=None will ignore the C and l1_ratio parameters\n",
      "  warnings.warn(\n",
      "/Users/arzaan/PycharmProjects/ComputationalIntelligence/venv/lib/python3.12/site-packages/sklearn/utils/validation.py:1408: DataConversionWarning: A column-vector y was passed when a 1d array was expected. Please change the shape of y to (n_samples, ), for example using ravel().\n",
      "  y = column_or_1d(y, warn=True)\n",
      "/Users/arzaan/PycharmProjects/ComputationalIntelligence/venv/lib/python3.12/site-packages/sklearn/utils/validation.py:1408: DataConversionWarning: A column-vector y was passed when a 1d array was expected. Please change the shape of y to (n_samples, ), for example using ravel().\n",
      "  y = column_or_1d(y, warn=True)\n",
      "/Users/arzaan/PycharmProjects/ComputationalIntelligence/venv/lib/python3.12/site-packages/sklearn/linear_model/_logistic.py:1196: UserWarning: l1_ratio parameter is only used when penalty is 'elasticnet'. Got (penalty=l2)\n",
      "  warnings.warn(\n",
      "/Users/arzaan/PycharmProjects/ComputationalIntelligence/venv/lib/python3.12/site-packages/sklearn/utils/validation.py:1408: DataConversionWarning: A column-vector y was passed when a 1d array was expected. Please change the shape of y to (n_samples, ), for example using ravel().\n",
      "  y = column_or_1d(y, warn=True)\n",
      "/Users/arzaan/PycharmProjects/ComputationalIntelligence/venv/lib/python3.12/site-packages/sklearn/utils/validation.py:1408: DataConversionWarning: A column-vector y was passed when a 1d array was expected. Please change the shape of y to (n_samples, ), for example using ravel().\n",
      "  y = column_or_1d(y, warn=True)\n",
      "/Users/arzaan/PycharmProjects/ComputationalIntelligence/venv/lib/python3.12/site-packages/sklearn/utils/validation.py:1408: DataConversionWarning: A column-vector y was passed when a 1d array was expected. Please change the shape of y to (n_samples, ), for example using ravel().\n",
      "  y = column_or_1d(y, warn=True)\n",
      "/Users/arzaan/PycharmProjects/ComputationalIntelligence/venv/lib/python3.12/site-packages/sklearn/linear_model/_logistic.py:1196: UserWarning: l1_ratio parameter is only used when penalty is 'elasticnet'. Got (penalty=l2)\n",
      "  warnings.warn(\n",
      "/Users/arzaan/PycharmProjects/ComputationalIntelligence/venv/lib/python3.12/site-packages/sklearn/utils/validation.py:1408: DataConversionWarning: A column-vector y was passed when a 1d array was expected. Please change the shape of y to (n_samples, ), for example using ravel().\n",
      "  y = column_or_1d(y, warn=True)\n",
      "/Users/arzaan/PycharmProjects/ComputationalIntelligence/venv/lib/python3.12/site-packages/sklearn/linear_model/_logistic.py:1196: UserWarning: l1_ratio parameter is only used when penalty is 'elasticnet'. Got (penalty=None)\n",
      "  warnings.warn(\n",
      "/Users/arzaan/PycharmProjects/ComputationalIntelligence/venv/lib/python3.12/site-packages/sklearn/linear_model/_logistic.py:1207: UserWarning: Setting penalty=None will ignore the C and l1_ratio parameters\n",
      "  warnings.warn(\n",
      "/Users/arzaan/PycharmProjects/ComputationalIntelligence/venv/lib/python3.12/site-packages/sklearn/utils/validation.py:1408: DataConversionWarning: A column-vector y was passed when a 1d array was expected. Please change the shape of y to (n_samples, ), for example using ravel().\n",
      "  y = column_or_1d(y, warn=True)\n",
      "/Users/arzaan/PycharmProjects/ComputationalIntelligence/venv/lib/python3.12/site-packages/sklearn/linear_model/_logistic.py:1196: UserWarning: l1_ratio parameter is only used when penalty is 'elasticnet'. Got (penalty=l2)\n",
      "  warnings.warn(\n",
      "/Users/arzaan/PycharmProjects/ComputationalIntelligence/venv/lib/python3.12/site-packages/sklearn/utils/validation.py:1408: DataConversionWarning: A column-vector y was passed when a 1d array was expected. Please change the shape of y to (n_samples, ), for example using ravel().\n",
      "  y = column_or_1d(y, warn=True)\n",
      "/Users/arzaan/PycharmProjects/ComputationalIntelligence/venv/lib/python3.12/site-packages/sklearn/linear_model/_logistic.py:1196: UserWarning: l1_ratio parameter is only used when penalty is 'elasticnet'. Got (penalty=l2)\n",
      "  warnings.warn(\n",
      "/Users/arzaan/PycharmProjects/ComputationalIntelligence/venv/lib/python3.12/site-packages/sklearn/linear_model/_logistic.py:1196: UserWarning: l1_ratio parameter is only used when penalty is 'elasticnet'. Got (penalty=None)\n",
      "  warnings.warn(\n",
      "/Users/arzaan/PycharmProjects/ComputationalIntelligence/venv/lib/python3.12/site-packages/sklearn/linear_model/_logistic.py:1207: UserWarning: Setting penalty=None will ignore the C and l1_ratio parameters\n",
      "  warnings.warn(\n",
      "/Users/arzaan/PycharmProjects/ComputationalIntelligence/venv/lib/python3.12/site-packages/sklearn/utils/validation.py:1408: DataConversionWarning: A column-vector y was passed when a 1d array was expected. Please change the shape of y to (n_samples, ), for example using ravel().\n",
      "  y = column_or_1d(y, warn=True)\n",
      "/Users/arzaan/PycharmProjects/ComputationalIntelligence/venv/lib/python3.12/site-packages/sklearn/utils/validation.py:1408: DataConversionWarning: A column-vector y was passed when a 1d array was expected. Please change the shape of y to (n_samples, ), for example using ravel().\n",
      "  y = column_or_1d(y, warn=True)\n",
      "/Users/arzaan/PycharmProjects/ComputationalIntelligence/venv/lib/python3.12/site-packages/sklearn/linear_model/_logistic.py:1196: UserWarning: l1_ratio parameter is only used when penalty is 'elasticnet'. Got (penalty=l2)\n",
      "  warnings.warn(\n",
      "/Users/arzaan/PycharmProjects/ComputationalIntelligence/venv/lib/python3.12/site-packages/sklearn/utils/validation.py:1408: DataConversionWarning: A column-vector y was passed when a 1d array was expected. Please change the shape of y to (n_samples, ), for example using ravel().\n",
      "  y = column_or_1d(y, warn=True)\n",
      "/Users/arzaan/PycharmProjects/ComputationalIntelligence/venv/lib/python3.12/site-packages/sklearn/utils/validation.py:1408: DataConversionWarning: A column-vector y was passed when a 1d array was expected. Please change the shape of y to (n_samples, ), for example using ravel().\n",
      "  y = column_or_1d(y, warn=True)\n",
      "/Users/arzaan/PycharmProjects/ComputationalIntelligence/venv/lib/python3.12/site-packages/sklearn/linear_model/_logistic.py:1196: UserWarning: l1_ratio parameter is only used when penalty is 'elasticnet'. Got (penalty=None)\n",
      "  warnings.warn(\n",
      "/Users/arzaan/PycharmProjects/ComputationalIntelligence/venv/lib/python3.12/site-packages/sklearn/linear_model/_logistic.py:1207: UserWarning: Setting penalty=None will ignore the C and l1_ratio parameters\n",
      "  warnings.warn(\n",
      "/Users/arzaan/PycharmProjects/ComputationalIntelligence/venv/lib/python3.12/site-packages/sklearn/utils/validation.py:1408: DataConversionWarning: A column-vector y was passed when a 1d array was expected. Please change the shape of y to (n_samples, ), for example using ravel().\n",
      "  y = column_or_1d(y, warn=True)\n",
      "/Users/arzaan/PycharmProjects/ComputationalIntelligence/venv/lib/python3.12/site-packages/sklearn/linear_model/_logistic.py:1196: UserWarning: l1_ratio parameter is only used when penalty is 'elasticnet'. Got (penalty=None)\n",
      "  warnings.warn(\n",
      "/Users/arzaan/PycharmProjects/ComputationalIntelligence/venv/lib/python3.12/site-packages/sklearn/linear_model/_logistic.py:1207: UserWarning: Setting penalty=None will ignore the C and l1_ratio parameters\n",
      "  warnings.warn(\n",
      "/Users/arzaan/PycharmProjects/ComputationalIntelligence/venv/lib/python3.12/site-packages/sklearn/utils/validation.py:1408: DataConversionWarning: A column-vector y was passed when a 1d array was expected. Please change the shape of y to (n_samples, ), for example using ravel().\n",
      "  y = column_or_1d(y, warn=True)\n",
      "/Users/arzaan/PycharmProjects/ComputationalIntelligence/venv/lib/python3.12/site-packages/sklearn/linear_model/_logistic.py:1196: UserWarning: l1_ratio parameter is only used when penalty is 'elasticnet'. Got (penalty=None)\n",
      "  warnings.warn(\n",
      "/Users/arzaan/PycharmProjects/ComputationalIntelligence/venv/lib/python3.12/site-packages/sklearn/linear_model/_logistic.py:1207: UserWarning: Setting penalty=None will ignore the C and l1_ratio parameters\n",
      "  warnings.warn(\n",
      "/Users/arzaan/PycharmProjects/ComputationalIntelligence/venv/lib/python3.12/site-packages/sklearn/utils/validation.py:1408: DataConversionWarning: A column-vector y was passed when a 1d array was expected. Please change the shape of y to (n_samples, ), for example using ravel().\n",
      "  y = column_or_1d(y, warn=True)\n",
      "/Users/arzaan/PycharmProjects/ComputationalIntelligence/venv/lib/python3.12/site-packages/sklearn/linear_model/_logistic.py:1196: UserWarning: l1_ratio parameter is only used when penalty is 'elasticnet'. Got (penalty=l2)\n",
      "  warnings.warn(\n",
      "/Users/arzaan/PycharmProjects/ComputationalIntelligence/venv/lib/python3.12/site-packages/sklearn/utils/validation.py:1408: DataConversionWarning: A column-vector y was passed when a 1d array was expected. Please change the shape of y to (n_samples, ), for example using ravel().\n",
      "  y = column_or_1d(y, warn=True)\n"
     ]
    },
    {
     "name": "stdout",
     "output_type": "stream",
     "text": [
      "Logistic Regression best params: {'warm_start': True, 'tol': 0.01, 'solver': 'newton-cg', 'penalty': 'l2', 'max_iter': 200, 'l1_ratio': 0.9, 'intercept_scaling': 0.1, 'fit_intercept': False, 'dual': False, 'C': 0.01}\n",
      "Logistic Regression best score: 0.5240903547295965\n"
     ]
    },
    {
     "name": "stderr",
     "output_type": "stream",
     "text": [
      "/Users/arzaan/PycharmProjects/ComputationalIntelligence/venv/lib/python3.12/site-packages/sklearn/linear_model/_logistic.py:1196: UserWarning: l1_ratio parameter is only used when penalty is 'elasticnet'. Got (penalty=l1)\n",
      "  warnings.warn(\n",
      "/Users/arzaan/PycharmProjects/ComputationalIntelligence/venv/lib/python3.12/site-packages/sklearn/utils/validation.py:1408: DataConversionWarning: A column-vector y was passed when a 1d array was expected. Please change the shape of y to (n_samples, ), for example using ravel().\n",
      "  y = column_or_1d(y, warn=True)\n",
      "/Users/arzaan/PycharmProjects/ComputationalIntelligence/venv/lib/python3.12/site-packages/sklearn/linear_model/_logistic.py:1196: UserWarning: l1_ratio parameter is only used when penalty is 'elasticnet'. Got (penalty=l2)\n",
      "  warnings.warn(\n",
      "/Users/arzaan/PycharmProjects/ComputationalIntelligence/venv/lib/python3.12/site-packages/sklearn/linear_model/_logistic.py:1271: UserWarning: 'n_jobs' > 1 does not have any effect when 'solver' is set to 'liblinear'. Got 'n_jobs' = 8.\n",
      "  warnings.warn(\n",
      "/Users/arzaan/PycharmProjects/ComputationalIntelligence/venv/lib/python3.12/site-packages/sklearn/utils/validation.py:1408: DataConversionWarning: A column-vector y was passed when a 1d array was expected. Please change the shape of y to (n_samples, ), for example using ravel().\n",
      "  y = column_or_1d(y, warn=True)\n",
      "/Users/arzaan/PycharmProjects/ComputationalIntelligence/venv/lib/python3.12/site-packages/sklearn/linear_model/_logistic.py:1196: UserWarning: l1_ratio parameter is only used when penalty is 'elasticnet'. Got (penalty=l1)\n",
      "  warnings.warn(\n",
      "/Users/arzaan/PycharmProjects/ComputationalIntelligence/venv/lib/python3.12/site-packages/sklearn/utils/validation.py:1408: DataConversionWarning: A column-vector y was passed when a 1d array was expected. Please change the shape of y to (n_samples, ), for example using ravel().\n",
      "  y = column_or_1d(y, warn=True)\n",
      "/Users/arzaan/PycharmProjects/ComputationalIntelligence/venv/lib/python3.12/site-packages/sklearn/linear_model/_logistic.py:1271: UserWarning: 'n_jobs' > 1 does not have any effect when 'solver' is set to 'liblinear'. Got 'n_jobs' = 8.\n",
      "  warnings.warn(\n",
      "/Users/arzaan/PycharmProjects/ComputationalIntelligence/venv/lib/python3.12/site-packages/sklearn/linear_model/_logistic.py:1196: UserWarning: l1_ratio parameter is only used when penalty is 'elasticnet'. Got (penalty=None)\n",
      "  warnings.warn(\n",
      "/Users/arzaan/PycharmProjects/ComputationalIntelligence/venv/lib/python3.12/site-packages/sklearn/linear_model/_logistic.py:1207: UserWarning: Setting penalty=None will ignore the C and l1_ratio parameters\n",
      "  warnings.warn(\n",
      "/Users/arzaan/PycharmProjects/ComputationalIntelligence/venv/lib/python3.12/site-packages/sklearn/utils/validation.py:1408: DataConversionWarning: A column-vector y was passed when a 1d array was expected. Please change the shape of y to (n_samples, ), for example using ravel().\n",
      "  y = column_or_1d(y, warn=True)\n",
      "/Users/arzaan/PycharmProjects/ComputationalIntelligence/venv/lib/python3.12/site-packages/sklearn/linear_model/_logistic.py:1196: UserWarning: l1_ratio parameter is only used when penalty is 'elasticnet'. Got (penalty=l1)\n",
      "  warnings.warn(\n",
      "/Users/arzaan/PycharmProjects/ComputationalIntelligence/venv/lib/python3.12/site-packages/sklearn/utils/validation.py:1408: DataConversionWarning: A column-vector y was passed when a 1d array was expected. Please change the shape of y to (n_samples, ), for example using ravel().\n",
      "  y = column_or_1d(y, warn=True)\n",
      "/Users/arzaan/PycharmProjects/ComputationalIntelligence/venv/lib/python3.12/site-packages/sklearn/linear_model/_logistic.py:1271: UserWarning: 'n_jobs' > 1 does not have any effect when 'solver' is set to 'liblinear'. Got 'n_jobs' = 8.\n",
      "  warnings.warn(\n",
      "/Users/arzaan/PycharmProjects/ComputationalIntelligence/venv/lib/python3.12/site-packages/sklearn/linear_model/_logistic.py:1196: UserWarning: l1_ratio parameter is only used when penalty is 'elasticnet'. Got (penalty=l1)\n",
      "  warnings.warn(\n",
      "/Users/arzaan/PycharmProjects/ComputationalIntelligence/venv/lib/python3.12/site-packages/sklearn/utils/validation.py:1408: DataConversionWarning: A column-vector y was passed when a 1d array was expected. Please change the shape of y to (n_samples, ), for example using ravel().\n",
      "  y = column_or_1d(y, warn=True)\n",
      "/Users/arzaan/PycharmProjects/ComputationalIntelligence/venv/lib/python3.12/site-packages/sklearn/linear_model/_logistic.py:1271: UserWarning: 'n_jobs' > 1 does not have any effect when 'solver' is set to 'liblinear'. Got 'n_jobs' = 8.\n",
      "  warnings.warn(\n",
      "/Users/arzaan/PycharmProjects/ComputationalIntelligence/venv/lib/python3.12/site-packages/sklearn/linear_model/_logistic.py:1196: UserWarning: l1_ratio parameter is only used when penalty is 'elasticnet'. Got (penalty=None)\n",
      "  warnings.warn(\n",
      "/Users/arzaan/PycharmProjects/ComputationalIntelligence/venv/lib/python3.12/site-packages/sklearn/linear_model/_logistic.py:1207: UserWarning: Setting penalty=None will ignore the C and l1_ratio parameters\n",
      "  warnings.warn(\n",
      "/Users/arzaan/PycharmProjects/ComputationalIntelligence/venv/lib/python3.12/site-packages/sklearn/utils/validation.py:1408: DataConversionWarning: A column-vector y was passed when a 1d array was expected. Please change the shape of y to (n_samples, ), for example using ravel().\n",
      "  y = column_or_1d(y, warn=True)\n",
      "/Users/arzaan/PycharmProjects/ComputationalIntelligence/venv/lib/python3.12/site-packages/sklearn/linear_model/_logistic.py:1196: UserWarning: l1_ratio parameter is only used when penalty is 'elasticnet'. Got (penalty=l1)\n",
      "  warnings.warn(\n",
      "/Users/arzaan/PycharmProjects/ComputationalIntelligence/venv/lib/python3.12/site-packages/sklearn/linear_model/_logistic.py:1196: UserWarning: l1_ratio parameter is only used when penalty is 'elasticnet'. Got (penalty=l1)\n",
      "  warnings.warn(\n",
      "/Users/arzaan/PycharmProjects/ComputationalIntelligence/venv/lib/python3.12/site-packages/sklearn/utils/validation.py:1408: DataConversionWarning: A column-vector y was passed when a 1d array was expected. Please change the shape of y to (n_samples, ), for example using ravel().\n",
      "  y = column_or_1d(y, warn=True)\n",
      "/Users/arzaan/PycharmProjects/ComputationalIntelligence/venv/lib/python3.12/site-packages/sklearn/linear_model/_logistic.py:1271: UserWarning: 'n_jobs' > 1 does not have any effect when 'solver' is set to 'liblinear'. Got 'n_jobs' = 8.\n",
      "  warnings.warn(\n",
      "/Users/arzaan/PycharmProjects/ComputationalIntelligence/venv/lib/python3.12/site-packages/sklearn/linear_model/_logistic.py:1196: UserWarning: l1_ratio parameter is only used when penalty is 'elasticnet'. Got (penalty=l1)\n",
      "  warnings.warn(\n",
      "/Users/arzaan/PycharmProjects/ComputationalIntelligence/venv/lib/python3.12/site-packages/sklearn/utils/validation.py:1408: DataConversionWarning: A column-vector y was passed when a 1d array was expected. Please change the shape of y to (n_samples, ), for example using ravel().\n",
      "  y = column_or_1d(y, warn=True)\n",
      "/Users/arzaan/PycharmProjects/ComputationalIntelligence/venv/lib/python3.12/site-packages/sklearn/linear_model/_logistic.py:1271: UserWarning: 'n_jobs' > 1 does not have any effect when 'solver' is set to 'liblinear'. Got 'n_jobs' = 8.\n",
      "  warnings.warn(\n",
      "/Users/arzaan/PycharmProjects/ComputationalIntelligence/venv/lib/python3.12/site-packages/sklearn/utils/validation.py:1408: DataConversionWarning: A column-vector y was passed when a 1d array was expected. Please change the shape of y to (n_samples, ), for example using ravel().\n",
      "  y = column_or_1d(y, warn=True)\n",
      "/Users/arzaan/PycharmProjects/ComputationalIntelligence/venv/lib/python3.12/site-packages/sklearn/linear_model/_logistic.py:1271: UserWarning: 'n_jobs' > 1 does not have any effect when 'solver' is set to 'liblinear'. Got 'n_jobs' = 8.\n",
      "  warnings.warn(\n",
      "/Users/arzaan/PycharmProjects/ComputationalIntelligence/venv/lib/python3.12/site-packages/sklearn/linear_model/_logistic.py:1196: UserWarning: l1_ratio parameter is only used when penalty is 'elasticnet'. Got (penalty=l1)\n",
      "  warnings.warn(\n",
      "/Users/arzaan/PycharmProjects/ComputationalIntelligence/venv/lib/python3.12/site-packages/sklearn/utils/validation.py:1408: DataConversionWarning: A column-vector y was passed when a 1d array was expected. Please change the shape of y to (n_samples, ), for example using ravel().\n",
      "  y = column_or_1d(y, warn=True)\n",
      "/Users/arzaan/PycharmProjects/ComputationalIntelligence/venv/lib/python3.12/site-packages/sklearn/linear_model/_logistic.py:1271: UserWarning: 'n_jobs' > 1 does not have any effect when 'solver' is set to 'liblinear'. Got 'n_jobs' = 8.\n",
      "  warnings.warn(\n",
      "/Users/arzaan/PycharmProjects/ComputationalIntelligence/venv/lib/python3.12/site-packages/sklearn/linear_model/_logistic.py:1196: UserWarning: l1_ratio parameter is only used when penalty is 'elasticnet'. Got (penalty=l2)\n",
      "  warnings.warn(\n",
      "/Users/arzaan/PycharmProjects/ComputationalIntelligence/venv/lib/python3.12/site-packages/sklearn/utils/validation.py:1408: DataConversionWarning: A column-vector y was passed when a 1d array was expected. Please change the shape of y to (n_samples, ), for example using ravel().\n",
      "  y = column_or_1d(y, warn=True)\n",
      "/Users/arzaan/PycharmProjects/ComputationalIntelligence/venv/lib/python3.12/site-packages/sklearn/linear_model/_logistic.py:1196: UserWarning: l1_ratio parameter is only used when penalty is 'elasticnet'. Got (penalty=l1)\n",
      "  warnings.warn(\n",
      "/Users/arzaan/PycharmProjects/ComputationalIntelligence/venv/lib/python3.12/site-packages/sklearn/utils/validation.py:1408: DataConversionWarning: A column-vector y was passed when a 1d array was expected. Please change the shape of y to (n_samples, ), for example using ravel().\n",
      "  y = column_or_1d(y, warn=True)\n",
      "/Users/arzaan/PycharmProjects/ComputationalIntelligence/venv/lib/python3.12/site-packages/sklearn/linear_model/_logistic.py:1196: UserWarning: l1_ratio parameter is only used when penalty is 'elasticnet'. Got (penalty=l1)\n",
      "  warnings.warn(\n",
      "/Users/arzaan/PycharmProjects/ComputationalIntelligence/venv/lib/python3.12/site-packages/sklearn/linear_model/_logistic.py:1271: UserWarning: 'n_jobs' > 1 does not have any effect when 'solver' is set to 'liblinear'. Got 'n_jobs' = 8.\n",
      "  warnings.warn(\n",
      "/Users/arzaan/PycharmProjects/ComputationalIntelligence/venv/lib/python3.12/site-packages/sklearn/utils/validation.py:1408: DataConversionWarning: A column-vector y was passed when a 1d array was expected. Please change the shape of y to (n_samples, ), for example using ravel().\n",
      "  y = column_or_1d(y, warn=True)\n",
      "/Users/arzaan/PycharmProjects/ComputationalIntelligence/venv/lib/python3.12/site-packages/sklearn/linear_model/_logistic.py:1271: UserWarning: 'n_jobs' > 1 does not have any effect when 'solver' is set to 'liblinear'. Got 'n_jobs' = 8.\n",
      "  warnings.warn(\n",
      "/Users/arzaan/PycharmProjects/ComputationalIntelligence/venv/lib/python3.12/site-packages/sklearn/linear_model/_logistic.py:1196: UserWarning: l1_ratio parameter is only used when penalty is 'elasticnet'. Got (penalty=l1)\n",
      "  warnings.warn(\n",
      "/Users/arzaan/PycharmProjects/ComputationalIntelligence/venv/lib/python3.12/site-packages/sklearn/linear_model/_logistic.py:1196: UserWarning: l1_ratio parameter is only used when penalty is 'elasticnet'. Got (penalty=l1)\n",
      "  warnings.warn(\n",
      "/Users/arzaan/PycharmProjects/ComputationalIntelligence/venv/lib/python3.12/site-packages/sklearn/linear_model/_logistic.py:1196: UserWarning: l1_ratio parameter is only used when penalty is 'elasticnet'. Got (penalty=l1)\n",
      "  warnings.warn(\n",
      "/Users/arzaan/PycharmProjects/ComputationalIntelligence/venv/lib/python3.12/site-packages/sklearn/utils/validation.py:1408: DataConversionWarning: A column-vector y was passed when a 1d array was expected. Please change the shape of y to (n_samples, ), for example using ravel().\n",
      "  y = column_or_1d(y, warn=True)\n",
      "/Users/arzaan/PycharmProjects/ComputationalIntelligence/venv/lib/python3.12/site-packages/sklearn/utils/validation.py:1408: DataConversionWarning: A column-vector y was passed when a 1d array was expected. Please change the shape of y to (n_samples, ), for example using ravel().\n",
      "  y = column_or_1d(y, warn=True)\n",
      "/Users/arzaan/PycharmProjects/ComputationalIntelligence/venv/lib/python3.12/site-packages/sklearn/linear_model/_logistic.py:1271: UserWarning: 'n_jobs' > 1 does not have any effect when 'solver' is set to 'liblinear'. Got 'n_jobs' = 8.\n",
      "  warnings.warn(\n",
      "/Users/arzaan/PycharmProjects/ComputationalIntelligence/venv/lib/python3.12/site-packages/sklearn/linear_model/_logistic.py:1271: UserWarning: 'n_jobs' > 1 does not have any effect when 'solver' is set to 'liblinear'. Got 'n_jobs' = 8.\n",
      "  warnings.warn(\n",
      "/Users/arzaan/PycharmProjects/ComputationalIntelligence/venv/lib/python3.12/site-packages/sklearn/utils/validation.py:1408: DataConversionWarning: A column-vector y was passed when a 1d array was expected. Please change the shape of y to (n_samples, ), for example using ravel().\n",
      "  y = column_or_1d(y, warn=True)\n",
      "/Users/arzaan/PycharmProjects/ComputationalIntelligence/venv/lib/python3.12/site-packages/sklearn/linear_model/_logistic.py:1271: UserWarning: 'n_jobs' > 1 does not have any effect when 'solver' is set to 'liblinear'. Got 'n_jobs' = 8.\n",
      "  warnings.warn(\n",
      "/Users/arzaan/PycharmProjects/ComputationalIntelligence/venv/lib/python3.12/site-packages/sklearn/linear_model/_logistic.py:1196: UserWarning: l1_ratio parameter is only used when penalty is 'elasticnet'. Got (penalty=l1)\n",
      "  warnings.warn(\n",
      "/Users/arzaan/PycharmProjects/ComputationalIntelligence/venv/lib/python3.12/site-packages/sklearn/linear_model/_logistic.py:1196: UserWarning: l1_ratio parameter is only used when penalty is 'elasticnet'. Got (penalty=None)\n",
      "  warnings.warn(\n",
      "/Users/arzaan/PycharmProjects/ComputationalIntelligence/venv/lib/python3.12/site-packages/sklearn/linear_model/_logistic.py:1207: UserWarning: Setting penalty=None will ignore the C and l1_ratio parameters\n",
      "  warnings.warn(\n",
      "/Users/arzaan/PycharmProjects/ComputationalIntelligence/venv/lib/python3.12/site-packages/sklearn/linear_model/_logistic.py:1196: UserWarning: l1_ratio parameter is only used when penalty is 'elasticnet'. Got (penalty=l1)\n",
      "  warnings.warn(\n",
      "/Users/arzaan/PycharmProjects/ComputationalIntelligence/venv/lib/python3.12/site-packages/sklearn/linear_model/_logistic.py:1196: UserWarning: l1_ratio parameter is only used when penalty is 'elasticnet'. Got (penalty=l2)\n",
      "  warnings.warn(\n",
      "/Users/arzaan/PycharmProjects/ComputationalIntelligence/venv/lib/python3.12/site-packages/sklearn/utils/validation.py:1408: DataConversionWarning: A column-vector y was passed when a 1d array was expected. Please change the shape of y to (n_samples, ), for example using ravel().\n",
      "  y = column_or_1d(y, warn=True)\n",
      "/Users/arzaan/PycharmProjects/ComputationalIntelligence/venv/lib/python3.12/site-packages/sklearn/utils/validation.py:1408: DataConversionWarning: A column-vector y was passed when a 1d array was expected. Please change the shape of y to (n_samples, ), for example using ravel().\n",
      "  y = column_or_1d(y, warn=True)\n",
      "/Users/arzaan/PycharmProjects/ComputationalIntelligence/venv/lib/python3.12/site-packages/sklearn/linear_model/_logistic.py:1271: UserWarning: 'n_jobs' > 1 does not have any effect when 'solver' is set to 'liblinear'. Got 'n_jobs' = 8.\n",
      "  warnings.warn(\n",
      "/Users/arzaan/PycharmProjects/ComputationalIntelligence/venv/lib/python3.12/site-packages/sklearn/utils/validation.py:1408: DataConversionWarning: A column-vector y was passed when a 1d array was expected. Please change the shape of y to (n_samples, ), for example using ravel().\n",
      "  y = column_or_1d(y, warn=True)\n",
      "/Users/arzaan/PycharmProjects/ComputationalIntelligence/venv/lib/python3.12/site-packages/sklearn/utils/validation.py:1408: DataConversionWarning: A column-vector y was passed when a 1d array was expected. Please change the shape of y to (n_samples, ), for example using ravel().\n",
      "  y = column_or_1d(y, warn=True)\n",
      "/Users/arzaan/PycharmProjects/ComputationalIntelligence/venv/lib/python3.12/site-packages/sklearn/linear_model/_logistic.py:1271: UserWarning: 'n_jobs' > 1 does not have any effect when 'solver' is set to 'liblinear'. Got 'n_jobs' = 8.\n",
      "  warnings.warn(\n",
      "/Users/arzaan/PycharmProjects/ComputationalIntelligence/venv/lib/python3.12/site-packages/sklearn/linear_model/_logistic.py:1196: UserWarning: l1_ratio parameter is only used when penalty is 'elasticnet'. Got (penalty=None)\n",
      "  warnings.warn(\n",
      "/Users/arzaan/PycharmProjects/ComputationalIntelligence/venv/lib/python3.12/site-packages/sklearn/linear_model/_logistic.py:1207: UserWarning: Setting penalty=None will ignore the C and l1_ratio parameters\n",
      "  warnings.warn(\n",
      "/Users/arzaan/PycharmProjects/ComputationalIntelligence/venv/lib/python3.12/site-packages/sklearn/linear_model/_logistic.py:1196: UserWarning: l1_ratio parameter is only used when penalty is 'elasticnet'. Got (penalty=None)\n",
      "  warnings.warn(\n",
      "/Users/arzaan/PycharmProjects/ComputationalIntelligence/venv/lib/python3.12/site-packages/sklearn/linear_model/_logistic.py:1207: UserWarning: Setting penalty=None will ignore the C and l1_ratio parameters\n",
      "  warnings.warn(\n",
      "/Users/arzaan/PycharmProjects/ComputationalIntelligence/venv/lib/python3.12/site-packages/sklearn/utils/validation.py:1408: DataConversionWarning: A column-vector y was passed when a 1d array was expected. Please change the shape of y to (n_samples, ), for example using ravel().\n",
      "  y = column_or_1d(y, warn=True)\n",
      "/Users/arzaan/PycharmProjects/ComputationalIntelligence/venv/lib/python3.12/site-packages/sklearn/linear_model/_logistic.py:1196: UserWarning: l1_ratio parameter is only used when penalty is 'elasticnet'. Got (penalty=None)\n",
      "  warnings.warn(\n",
      "/Users/arzaan/PycharmProjects/ComputationalIntelligence/venv/lib/python3.12/site-packages/sklearn/linear_model/_logistic.py:1207: UserWarning: Setting penalty=None will ignore the C and l1_ratio parameters\n",
      "  warnings.warn(\n",
      "/Users/arzaan/PycharmProjects/ComputationalIntelligence/venv/lib/python3.12/site-packages/sklearn/utils/validation.py:1408: DataConversionWarning: A column-vector y was passed when a 1d array was expected. Please change the shape of y to (n_samples, ), for example using ravel().\n",
      "  y = column_or_1d(y, warn=True)\n",
      "/Users/arzaan/PycharmProjects/ComputationalIntelligence/venv/lib/python3.12/site-packages/sklearn/utils/validation.py:1408: DataConversionWarning: A column-vector y was passed when a 1d array was expected. Please change the shape of y to (n_samples, ), for example using ravel().\n",
      "  y = column_or_1d(y, warn=True)\n",
      "/Users/arzaan/PycharmProjects/ComputationalIntelligence/venv/lib/python3.12/site-packages/sklearn/linear_model/_logistic.py:1196: UserWarning: l1_ratio parameter is only used when penalty is 'elasticnet'. Got (penalty=None)\n",
      "  warnings.warn(\n",
      "/Users/arzaan/PycharmProjects/ComputationalIntelligence/venv/lib/python3.12/site-packages/sklearn/linear_model/_logistic.py:1207: UserWarning: Setting penalty=None will ignore the C and l1_ratio parameters\n",
      "  warnings.warn(\n",
      "/Users/arzaan/PycharmProjects/ComputationalIntelligence/venv/lib/python3.12/site-packages/sklearn/linear_model/_logistic.py:1196: UserWarning: l1_ratio parameter is only used when penalty is 'elasticnet'. Got (penalty=None)\n",
      "  warnings.warn(\n",
      "/Users/arzaan/PycharmProjects/ComputationalIntelligence/venv/lib/python3.12/site-packages/sklearn/linear_model/_logistic.py:1207: UserWarning: Setting penalty=None will ignore the C and l1_ratio parameters\n",
      "  warnings.warn(\n",
      "/Users/arzaan/PycharmProjects/ComputationalIntelligence/venv/lib/python3.12/site-packages/sklearn/utils/validation.py:1408: DataConversionWarning: A column-vector y was passed when a 1d array was expected. Please change the shape of y to (n_samples, ), for example using ravel().\n",
      "  y = column_or_1d(y, warn=True)\n",
      "/Users/arzaan/PycharmProjects/ComputationalIntelligence/venv/lib/python3.12/site-packages/sklearn/linear_model/_logistic.py:1196: UserWarning: l1_ratio parameter is only used when penalty is 'elasticnet'. Got (penalty=l2)\n",
      "  warnings.warn(\n",
      "/Users/arzaan/PycharmProjects/ComputationalIntelligence/venv/lib/python3.12/site-packages/sklearn/utils/validation.py:1408: DataConversionWarning: A column-vector y was passed when a 1d array was expected. Please change the shape of y to (n_samples, ), for example using ravel().\n",
      "  y = column_or_1d(y, warn=True)\n",
      "/Users/arzaan/PycharmProjects/ComputationalIntelligence/venv/lib/python3.12/site-packages/sklearn/utils/validation.py:1408: DataConversionWarning: A column-vector y was passed when a 1d array was expected. Please change the shape of y to (n_samples, ), for example using ravel().\n",
      "  y = column_or_1d(y, warn=True)\n",
      "/Users/arzaan/PycharmProjects/ComputationalIntelligence/venv/lib/python3.12/site-packages/sklearn/linear_model/_logistic.py:1196: UserWarning: l1_ratio parameter is only used when penalty is 'elasticnet'. Got (penalty=None)\n",
      "  warnings.warn(\n",
      "/Users/arzaan/PycharmProjects/ComputationalIntelligence/venv/lib/python3.12/site-packages/sklearn/linear_model/_logistic.py:1207: UserWarning: Setting penalty=None will ignore the C and l1_ratio parameters\n",
      "  warnings.warn(\n",
      "/Users/arzaan/PycharmProjects/ComputationalIntelligence/venv/lib/python3.12/site-packages/sklearn/utils/validation.py:1408: DataConversionWarning: A column-vector y was passed when a 1d array was expected. Please change the shape of y to (n_samples, ), for example using ravel().\n",
      "  y = column_or_1d(y, warn=True)\n",
      "/Users/arzaan/PycharmProjects/ComputationalIntelligence/venv/lib/python3.12/site-packages/sklearn/linear_model/_logistic.py:1196: UserWarning: l1_ratio parameter is only used when penalty is 'elasticnet'. Got (penalty=l2)\n",
      "  warnings.warn(\n",
      "/Users/arzaan/PycharmProjects/ComputationalIntelligence/venv/lib/python3.12/site-packages/sklearn/utils/validation.py:1408: DataConversionWarning: A column-vector y was passed when a 1d array was expected. Please change the shape of y to (n_samples, ), for example using ravel().\n",
      "  y = column_or_1d(y, warn=True)\n",
      "/Users/arzaan/PycharmProjects/ComputationalIntelligence/venv/lib/python3.12/site-packages/sklearn/linear_model/_logistic.py:1196: UserWarning: l1_ratio parameter is only used when penalty is 'elasticnet'. Got (penalty=None)\n",
      "  warnings.warn(\n",
      "/Users/arzaan/PycharmProjects/ComputationalIntelligence/venv/lib/python3.12/site-packages/sklearn/linear_model/_logistic.py:1207: UserWarning: Setting penalty=None will ignore the C and l1_ratio parameters\n",
      "  warnings.warn(\n",
      "/Users/arzaan/PycharmProjects/ComputationalIntelligence/venv/lib/python3.12/site-packages/sklearn/utils/validation.py:1408: DataConversionWarning: A column-vector y was passed when a 1d array was expected. Please change the shape of y to (n_samples, ), for example using ravel().\n",
      "  y = column_or_1d(y, warn=True)\n",
      "/Users/arzaan/PycharmProjects/ComputationalIntelligence/venv/lib/python3.12/site-packages/sklearn/linear_model/_logistic.py:1196: UserWarning: l1_ratio parameter is only used when penalty is 'elasticnet'. Got (penalty=None)\n",
      "  warnings.warn(\n",
      "/Users/arzaan/PycharmProjects/ComputationalIntelligence/venv/lib/python3.12/site-packages/sklearn/linear_model/_logistic.py:1207: UserWarning: Setting penalty=None will ignore the C and l1_ratio parameters\n",
      "  warnings.warn(\n",
      "/Users/arzaan/PycharmProjects/ComputationalIntelligence/venv/lib/python3.12/site-packages/sklearn/utils/validation.py:1408: DataConversionWarning: A column-vector y was passed when a 1d array was expected. Please change the shape of y to (n_samples, ), for example using ravel().\n",
      "  y = column_or_1d(y, warn=True)\n",
      "/Users/arzaan/PycharmProjects/ComputationalIntelligence/venv/lib/python3.12/site-packages/sklearn/linear_model/_logistic.py:1196: UserWarning: l1_ratio parameter is only used when penalty is 'elasticnet'. Got (penalty=l2)\n",
      "  warnings.warn(\n",
      "/Users/arzaan/PycharmProjects/ComputationalIntelligence/venv/lib/python3.12/site-packages/sklearn/utils/validation.py:1408: DataConversionWarning: A column-vector y was passed when a 1d array was expected. Please change the shape of y to (n_samples, ), for example using ravel().\n",
      "  y = column_or_1d(y, warn=True)\n",
      "/Users/arzaan/PycharmProjects/ComputationalIntelligence/venv/lib/python3.12/site-packages/sklearn/linear_model/_logistic.py:1196: UserWarning: l1_ratio parameter is only used when penalty is 'elasticnet'. Got (penalty=None)\n",
      "  warnings.warn(\n",
      "/Users/arzaan/PycharmProjects/ComputationalIntelligence/venv/lib/python3.12/site-packages/sklearn/linear_model/_logistic.py:1207: UserWarning: Setting penalty=None will ignore the C and l1_ratio parameters\n",
      "  warnings.warn(\n",
      "/Users/arzaan/PycharmProjects/ComputationalIntelligence/venv/lib/python3.12/site-packages/sklearn/linear_model/_logistic.py:1196: UserWarning: l1_ratio parameter is only used when penalty is 'elasticnet'. Got (penalty=None)\n",
      "  warnings.warn(\n",
      "/Users/arzaan/PycharmProjects/ComputationalIntelligence/venv/lib/python3.12/site-packages/sklearn/linear_model/_logistic.py:1207: UserWarning: Setting penalty=None will ignore the C and l1_ratio parameters\n",
      "  warnings.warn(\n",
      "/Users/arzaan/PycharmProjects/ComputationalIntelligence/venv/lib/python3.12/site-packages/sklearn/utils/validation.py:1408: DataConversionWarning: A column-vector y was passed when a 1d array was expected. Please change the shape of y to (n_samples, ), for example using ravel().\n",
      "  y = column_or_1d(y, warn=True)\n",
      "/Users/arzaan/PycharmProjects/ComputationalIntelligence/venv/lib/python3.12/site-packages/sklearn/linear_model/_logistic.py:1196: UserWarning: l1_ratio parameter is only used when penalty is 'elasticnet'. Got (penalty=l2)\n",
      "  warnings.warn(\n",
      "/Users/arzaan/PycharmProjects/ComputationalIntelligence/venv/lib/python3.12/site-packages/sklearn/utils/validation.py:1408: DataConversionWarning: A column-vector y was passed when a 1d array was expected. Please change the shape of y to (n_samples, ), for example using ravel().\n",
      "  y = column_or_1d(y, warn=True)\n",
      "/Users/arzaan/PycharmProjects/ComputationalIntelligence/venv/lib/python3.12/site-packages/sklearn/utils/validation.py:1408: DataConversionWarning: A column-vector y was passed when a 1d array was expected. Please change the shape of y to (n_samples, ), for example using ravel().\n",
      "  y = column_or_1d(y, warn=True)\n",
      "/Users/arzaan/PycharmProjects/ComputationalIntelligence/venv/lib/python3.12/site-packages/sklearn/linear_model/_logistic.py:1196: UserWarning: l1_ratio parameter is only used when penalty is 'elasticnet'. Got (penalty=l2)\n",
      "  warnings.warn(\n",
      "/Users/arzaan/PycharmProjects/ComputationalIntelligence/venv/lib/python3.12/site-packages/sklearn/utils/validation.py:1408: DataConversionWarning: A column-vector y was passed when a 1d array was expected. Please change the shape of y to (n_samples, ), for example using ravel().\n",
      "  y = column_or_1d(y, warn=True)\n",
      "/Users/arzaan/PycharmProjects/ComputationalIntelligence/venv/lib/python3.12/site-packages/sklearn/linear_model/_logistic.py:1196: UserWarning: l1_ratio parameter is only used when penalty is 'elasticnet'. Got (penalty=l2)\n",
      "  warnings.warn(\n",
      "/Users/arzaan/PycharmProjects/ComputationalIntelligence/venv/lib/python3.12/site-packages/sklearn/linear_model/_logistic.py:1196: UserWarning: l1_ratio parameter is only used when penalty is 'elasticnet'. Got (penalty=l2)\n",
      "  warnings.warn(\n",
      "/Users/arzaan/PycharmProjects/ComputationalIntelligence/venv/lib/python3.12/site-packages/sklearn/utils/validation.py:1408: DataConversionWarning: A column-vector y was passed when a 1d array was expected. Please change the shape of y to (n_samples, ), for example using ravel().\n",
      "  y = column_or_1d(y, warn=True)\n",
      "/Users/arzaan/PycharmProjects/ComputationalIntelligence/venv/lib/python3.12/site-packages/sklearn/utils/validation.py:1408: DataConversionWarning: A column-vector y was passed when a 1d array was expected. Please change the shape of y to (n_samples, ), for example using ravel().\n",
      "  y = column_or_1d(y, warn=True)\n"
     ]
    }
   ],
   "source": [
    "#Logistic Regression\n",
    "lr = LogisticRegression(random_state=41, n_jobs=-1)\n",
    "#scoring to be done by balanced accuracy function defined above\n",
    "lr_search = RandomizedSearchCV(lr, params, n_iter=50, scoring=scorer, n_jobs=-1, cv=gkf, random_state=42)\n",
    "lr_search.fit(train_data_us.iloc[:, :-1], y_us, groups=train_data_us['Info_cluster'])\n",
    "print(\"Logistic Regression best params:\", lr_search.best_params_)\n",
    "print(\"Logistic Regression best score:\", lr_search.best_score_)"
   ],
   "metadata": {
    "collapsed": false,
    "ExecuteTime": {
     "end_time": "2025-04-06T02:37:40.541937Z",
     "start_time": "2025-04-06T02:37:37.764036Z"
    }
   }
  },
  {
   "cell_type": "code",
   "execution_count": 14,
   "outputs": [
    {
     "name": "stderr",
     "output_type": "stream",
     "text": [
      "/Users/arzaan/PycharmProjects/ComputationalIntelligence/venv/lib/python3.12/site-packages/sklearn/linear_model/_logistic.py:1196: UserWarning: l1_ratio parameter is only used when penalty is 'elasticnet'. Got (penalty=l2)\n",
      "  warnings.warn(\n",
      "/Users/arzaan/PycharmProjects/ComputationalIntelligence/venv/lib/python3.12/site-packages/sklearn/utils/validation.py:1408: DataConversionWarning: A column-vector y was passed when a 1d array was expected. Please change the shape of y to (n_samples, ), for example using ravel().\n",
      "  y = column_or_1d(y, warn=True)\n"
     ]
    },
    {
     "name": "stdout",
     "output_type": "stream",
     "text": [
      "TP: 5792 FP: 87 TN: 57 FN: 3710\n",
      "Specificity: 0.3958333333333333\n",
      "Sensitivity: 0.6095558829720059\n",
      "Logistic Regression balanced accuracy: 0.5026946081526696\n",
      "TP: 286 FP: 257 TN: 181 FN: 152\n",
      "Specificity: 0.4132420091324201\n",
      "Sensitivity: 0.6529680365296804\n",
      "Logistic Regression balanced accuracy on train data: 0.5331050228310502\n"
     ]
    }
   ],
   "source": [
    "lr = LogisticRegression(random_state=41, n_jobs=-1, **lr_search.best_params_)\n",
    "lr.fit(train_data_us.iloc[:, :-1], y_us)\n",
    "y_pred = lr.predict(X_val_pca)\n",
    "print(\"Logistic Regression balanced accuracy:\", balanced_accuracy(y_val, y_pred))\n",
    "y_pred = lr.predict(train_data_us.iloc[:, :-1])\n",
    "print(\"Logistic Regression balanced accuracy on train data:\", balanced_accuracy(y_us, y_pred))"
   ],
   "metadata": {
    "collapsed": false,
    "ExecuteTime": {
     "end_time": "2025-04-08T01:51:23.073235Z",
     "start_time": "2025-04-08T01:51:21.460440Z"
    }
   }
  },
  {
   "cell_type": "markdown",
   "metadata": {
    "id": "AkwgMBtPf1j1"
   },
   "source": [
    "## Consolidate the Data Mining Pipeline "
   ]
  },
  {
   "cell_type": "code",
   "execution_count": 18,
   "metadata": {
    "ExecuteTime": {
     "end_time": "2025-04-08T03:10:48.844665Z",
     "start_time": "2025-04-08T03:07:57.946724Z"
    }
   },
   "outputs": [
    {
     "name": "stderr",
     "output_type": "stream",
     "text": [
      "/var/folders/0n/sggn66691kd6g5mtyzpq2hv80000gn/T/ipykernel_93796/4256672866.py:71: PerformanceWarning: DataFrame is highly fragmented.  This is usually the result of calling `frame.insert` many times, which has poor performance.  Consider joining all columns at once using pd.concat(axis=1) instead. To get a de-fragmented frame, use `newframe = frame.copy()`\n",
      "/var/folders/0n/sggn66691kd6g5mtyzpq2hv80000gn/T/ipykernel_93796/4256672866.py:71: PerformanceWarning: DataFrame is highly fragmented.  This is usually the result of calling `frame.insert` many times, which has poor performance.  Consider joining all columns at once using pd.concat(axis=1) instead. To get a de-fragmented frame, use `newframe = frame.copy()`\n",
      "/var/folders/0n/sggn66691kd6g5mtyzpq2hv80000gn/T/ipykernel_93796/4256672866.py:71: PerformanceWarning: DataFrame is highly fragmented.  This is usually the result of calling `frame.insert` many times, which has poor performance.  Consider joining all columns at once using pd.concat(axis=1) instead. To get a de-fragmented frame, use `newframe = frame.copy()`\n",
      "/var/folders/0n/sggn66691kd6g5mtyzpq2hv80000gn/T/ipykernel_93796/4256672866.py:71: PerformanceWarning: DataFrame is highly fragmented.  This is usually the result of calling `frame.insert` many times, which has poor performance.  Consider joining all columns at once using pd.concat(axis=1) instead. To get a de-fragmented frame, use `newframe = frame.copy()`\n",
      "/var/folders/0n/sggn66691kd6g5mtyzpq2hv80000gn/T/ipykernel_93796/4256672866.py:71: PerformanceWarning: DataFrame is highly fragmented.  This is usually the result of calling `frame.insert` many times, which has poor performance.  Consider joining all columns at once using pd.concat(axis=1) instead. To get a de-fragmented frame, use `newframe = frame.copy()`\n",
      "/var/folders/0n/sggn66691kd6g5mtyzpq2hv80000gn/T/ipykernel_93796/4256672866.py:71: PerformanceWarning: DataFrame is highly fragmented.  This is usually the result of calling `frame.insert` many times, which has poor performance.  Consider joining all columns at once using pd.concat(axis=1) instead. To get a de-fragmented frame, use `newframe = frame.copy()`\n",
      "/var/folders/0n/sggn66691kd6g5mtyzpq2hv80000gn/T/ipykernel_93796/4256672866.py:71: PerformanceWarning: DataFrame is highly fragmented.  This is usually the result of calling `frame.insert` many times, which has poor performance.  Consider joining all columns at once using pd.concat(axis=1) instead. To get a de-fragmented frame, use `newframe = frame.copy()`\n",
      "/var/folders/0n/sggn66691kd6g5mtyzpq2hv80000gn/T/ipykernel_93796/4256672866.py:71: PerformanceWarning: DataFrame is highly fragmented.  This is usually the result of calling `frame.insert` many times, which has poor performance.  Consider joining all columns at once using pd.concat(axis=1) instead. To get a de-fragmented frame, use `newframe = frame.copy()`\n",
      "/Users/arzaan/PycharmProjects/ComputationalIntelligence/venv/lib/python3.12/site-packages/sklearn/linear_model/_logistic.py:1196: UserWarning: l1_ratio parameter is only used when penalty is 'elasticnet'. Got (penalty=l2)\n",
      "  warnings.warn(\n",
      "/Users/arzaan/PycharmProjects/ComputationalIntelligence/venv/lib/python3.12/site-packages/sklearn/pipeline.py:62: FutureWarning: This Pipeline instance is not fitted yet. Call 'fit' with appropriate arguments before using other methods such as transform, predict, etc. This will raise an error in 1.8 instead of the current warning.\n",
      "  warnings.warn(\n",
      "/Users/arzaan/PycharmProjects/ComputationalIntelligence/venv/lib/python3.12/site-packages/sklearn/linear_model/_logistic.py:1196: UserWarning: l1_ratio parameter is only used when penalty is 'elasticnet'. Got (penalty=l2)\n",
      "  warnings.warn(\n",
      "/Users/arzaan/PycharmProjects/ComputationalIntelligence/venv/lib/python3.12/site-packages/sklearn/linear_model/_logistic.py:1196: UserWarning: l1_ratio parameter is only used when penalty is 'elasticnet'. Got (penalty=l2)\n",
      "  warnings.warn(\n",
      "/Users/arzaan/PycharmProjects/ComputationalIntelligence/venv/lib/python3.12/site-packages/sklearn/linear_model/_logistic.py:1196: UserWarning: l1_ratio parameter is only used when penalty is 'elasticnet'. Got (penalty=l2)\n",
      "  warnings.warn(\n",
      "/Users/arzaan/PycharmProjects/ComputationalIntelligence/venv/lib/python3.12/site-packages/sklearn/pipeline.py:62: FutureWarning: This Pipeline instance is not fitted yet. Call 'fit' with appropriate arguments before using other methods such as transform, predict, etc. This will raise an error in 1.8 instead of the current warning.\n",
      "  warnings.warn(\n",
      "/Users/arzaan/PycharmProjects/ComputationalIntelligence/venv/lib/python3.12/site-packages/sklearn/pipeline.py:62: FutureWarning: This Pipeline instance is not fitted yet. Call 'fit' with appropriate arguments before using other methods such as transform, predict, etc. This will raise an error in 1.8 instead of the current warning.\n",
      "  warnings.warn(\n",
      "/Users/arzaan/PycharmProjects/ComputationalIntelligence/venv/lib/python3.12/site-packages/sklearn/pipeline.py:62: FutureWarning: This Pipeline instance is not fitted yet. Call 'fit' with appropriate arguments before using other methods such as transform, predict, etc. This will raise an error in 1.8 instead of the current warning.\n",
      "  warnings.warn(\n",
      "/Users/arzaan/PycharmProjects/ComputationalIntelligence/venv/lib/python3.12/site-packages/sklearn/linear_model/_logistic.py:1196: UserWarning: l1_ratio parameter is only used when penalty is 'elasticnet'. Got (penalty=l2)\n",
      "  warnings.warn(\n",
      "/var/folders/0n/sggn66691kd6g5mtyzpq2hv80000gn/T/ipykernel_93796/4256672866.py:71: PerformanceWarning: DataFrame is highly fragmented.  This is usually the result of calling `frame.insert` many times, which has poor performance.  Consider joining all columns at once using pd.concat(axis=1) instead. To get a de-fragmented frame, use `newframe = frame.copy()`\n",
      "/Users/arzaan/PycharmProjects/ComputationalIntelligence/venv/lib/python3.12/site-packages/sklearn/pipeline.py:62: FutureWarning: This Pipeline instance is not fitted yet. Call 'fit' with appropriate arguments before using other methods such as transform, predict, etc. This will raise an error in 1.8 instead of the current warning.\n",
      "  warnings.warn(\n",
      "/Users/arzaan/PycharmProjects/ComputationalIntelligence/venv/lib/python3.12/site-packages/sklearn/linear_model/_logistic.py:1196: UserWarning: l1_ratio parameter is only used when penalty is 'elasticnet'. Got (penalty=l2)\n",
      "  warnings.warn(\n",
      "/Users/arzaan/PycharmProjects/ComputationalIntelligence/venv/lib/python3.12/site-packages/sklearn/pipeline.py:62: FutureWarning: This Pipeline instance is not fitted yet. Call 'fit' with appropriate arguments before using other methods such as transform, predict, etc. This will raise an error in 1.8 instead of the current warning.\n",
      "  warnings.warn(\n",
      "/Users/arzaan/PycharmProjects/ComputationalIntelligence/venv/lib/python3.12/site-packages/sklearn/linear_model/_logistic.py:1196: UserWarning: l1_ratio parameter is only used when penalty is 'elasticnet'. Got (penalty=l2)\n",
      "  warnings.warn(\n",
      "/Users/arzaan/PycharmProjects/ComputationalIntelligence/venv/lib/python3.12/site-packages/sklearn/linear_model/_logistic.py:1196: UserWarning: l1_ratio parameter is only used when penalty is 'elasticnet'. Got (penalty=l2)\n",
      "  warnings.warn(\n",
      "/var/folders/0n/sggn66691kd6g5mtyzpq2hv80000gn/T/ipykernel_93796/4256672866.py:71: PerformanceWarning: DataFrame is highly fragmented.  This is usually the result of calling `frame.insert` many times, which has poor performance.  Consider joining all columns at once using pd.concat(axis=1) instead. To get a de-fragmented frame, use `newframe = frame.copy()`\n",
      "/var/folders/0n/sggn66691kd6g5mtyzpq2hv80000gn/T/ipykernel_93796/4256672866.py:71: PerformanceWarning: DataFrame is highly fragmented.  This is usually the result of calling `frame.insert` many times, which has poor performance.  Consider joining all columns at once using pd.concat(axis=1) instead. To get a de-fragmented frame, use `newframe = frame.copy()`\n",
      "/var/folders/0n/sggn66691kd6g5mtyzpq2hv80000gn/T/ipykernel_93796/4256672866.py:71: PerformanceWarning: DataFrame is highly fragmented.  This is usually the result of calling `frame.insert` many times, which has poor performance.  Consider joining all columns at once using pd.concat(axis=1) instead. To get a de-fragmented frame, use `newframe = frame.copy()`\n",
      "/Users/arzaan/PycharmProjects/ComputationalIntelligence/venv/lib/python3.12/site-packages/sklearn/pipeline.py:62: FutureWarning: This Pipeline instance is not fitted yet. Call 'fit' with appropriate arguments before using other methods such as transform, predict, etc. This will raise an error in 1.8 instead of the current warning.\n",
      "  warnings.warn(\n",
      "/Users/arzaan/PycharmProjects/ComputationalIntelligence/venv/lib/python3.12/site-packages/sklearn/pipeline.py:62: FutureWarning: This Pipeline instance is not fitted yet. Call 'fit' with appropriate arguments before using other methods such as transform, predict, etc. This will raise an error in 1.8 instead of the current warning.\n",
      "  warnings.warn(\n",
      "/var/folders/0n/sggn66691kd6g5mtyzpq2hv80000gn/T/ipykernel_93796/4256672866.py:71: PerformanceWarning: DataFrame is highly fragmented.  This is usually the result of calling `frame.insert` many times, which has poor performance.  Consider joining all columns at once using pd.concat(axis=1) instead. To get a de-fragmented frame, use `newframe = frame.copy()`\n",
      "/var/folders/0n/sggn66691kd6g5mtyzpq2hv80000gn/T/ipykernel_93796/4256672866.py:71: PerformanceWarning: DataFrame is highly fragmented.  This is usually the result of calling `frame.insert` many times, which has poor performance.  Consider joining all columns at once using pd.concat(axis=1) instead. To get a de-fragmented frame, use `newframe = frame.copy()`\n",
      "/var/folders/0n/sggn66691kd6g5mtyzpq2hv80000gn/T/ipykernel_93796/4256672866.py:71: PerformanceWarning: DataFrame is highly fragmented.  This is usually the result of calling `frame.insert` many times, which has poor performance.  Consider joining all columns at once using pd.concat(axis=1) instead. To get a de-fragmented frame, use `newframe = frame.copy()`\n",
      "/Users/arzaan/PycharmProjects/ComputationalIntelligence/venv/lib/python3.12/site-packages/sklearn/linear_model/_logistic.py:1196: UserWarning: l1_ratio parameter is only used when penalty is 'elasticnet'. Got (penalty=l2)\n",
      "  warnings.warn(\n"
     ]
    },
    {
     "name": "stdout",
     "output_type": "stream",
     "text": [
      "TP: 3136 FP: 12 TN: 11 FN: 2365\n",
      "Specificity: 0.4782608695652174\n",
      "Sensitivity: 0.5700781676058898\n",
      "[CV] END ..............................scaler__type=standard; total time= 1.3min\n",
      "[CV] END ................................scaler__type=minmax; total time=  23.4s\n",
      "TP: 3281 FP: 46 TN: 28 FN: 2161\n",
      "Specificity: 0.3783783783783784\n",
      "Sensitivity: 0.6029033443586916\n"
     ]
    },
    {
     "name": "stderr",
     "output_type": "stream",
     "text": [
      "/Users/arzaan/PycharmProjects/ComputationalIntelligence/venv/lib/python3.12/site-packages/sklearn/pipeline.py:62: FutureWarning: This Pipeline instance is not fitted yet. Call 'fit' with appropriate arguments before using other methods such as transform, predict, etc. This will raise an error in 1.8 instead of the current warning.\n",
      "  warnings.warn(\n",
      "/Users/arzaan/PycharmProjects/ComputationalIntelligence/venv/lib/python3.12/site-packages/sklearn/linear_model/_logistic.py:1196: UserWarning: l1_ratio parameter is only used when penalty is 'elasticnet'. Got (penalty=l2)\n",
      "  warnings.warn(\n",
      "/Users/arzaan/PycharmProjects/ComputationalIntelligence/venv/lib/python3.12/site-packages/sklearn/pipeline.py:62: FutureWarning: This Pipeline instance is not fitted yet. Call 'fit' with appropriate arguments before using other methods such as transform, predict, etc. This will raise an error in 1.8 instead of the current warning.\n",
      "  warnings.warn(\n",
      "/Users/arzaan/PycharmProjects/ComputationalIntelligence/venv/lib/python3.12/site-packages/sklearn/model_selection/_validation.py:528: FitFailedWarning: \n",
      "5 fits failed out of a total of 15.\n",
      "The score on these train-test partitions for these parameters will be set to nan.\n",
      "If these failures are not expected, you can try to debug them by setting error_score='raise'.\n",
      "\n",
      "Below are more details about the failures:\n",
      "--------------------------------------------------------------------------------\n",
      "5 fits failed with the following error:\n",
      "Traceback (most recent call last):\n",
      "  File \"/Users/arzaan/PycharmProjects/ComputationalIntelligence/venv/lib/python3.12/site-packages/sklearn/model_selection/_validation.py\", line 866, in _fit_and_score\n",
      "    estimator.fit(X_train, y_train, **fit_params)\n",
      "  File \"/Users/arzaan/PycharmProjects/ComputationalIntelligence/venv/lib/python3.12/site-packages/sklearn/base.py\", line 1389, in wrapper\n",
      "    return fit_method(estimator, *args, **kwargs)\n",
      "           ^^^^^^^^^^^^^^^^^^^^^^^^^^^^^^^^^^^^^^\n",
      "  File \"/Users/arzaan/PycharmProjects/ComputationalIntelligence/venv/lib/python3.12/site-packages/sklearn/pipeline.py\", line 654, in fit\n",
      "    Xt = self._fit(X, y, routed_params, raw_params=params)\n",
      "         ^^^^^^^^^^^^^^^^^^^^^^^^^^^^^^^^^^^^^^^^^^^^^^^^^\n",
      "  File \"/Users/arzaan/PycharmProjects/ComputationalIntelligence/venv/lib/python3.12/site-packages/sklearn/pipeline.py\", line 588, in _fit\n",
      "    X, fitted_transformer = fit_transform_one_cached(\n",
      "                            ^^^^^^^^^^^^^^^^^^^^^^^^^\n",
      "  File \"/Users/arzaan/PycharmProjects/ComputationalIntelligence/venv/lib/python3.12/site-packages/joblib/memory.py\", line 312, in __call__\n",
      "    return self.func(*args, **kwargs)\n",
      "           ^^^^^^^^^^^^^^^^^^^^^^^^^^\n",
      "  File \"/Users/arzaan/PycharmProjects/ComputationalIntelligence/venv/lib/python3.12/site-packages/sklearn/pipeline.py\", line 1551, in _fit_transform_one\n",
      "    res = transformer.fit_transform(X, y, **params.get(\"fit_transform\", {}))\n",
      "          ^^^^^^^^^^^^^^^^^^^^^^^^^^^^^^^^^^^^^^^^^^^^^^^^^^^^^^^^^^^^^^^^^^\n",
      "  File \"/Users/arzaan/PycharmProjects/ComputationalIntelligence/venv/lib/python3.12/site-packages/sklearn/utils/_set_output.py\", line 319, in wrapped\n",
      "    data_to_wrap = f(self, X, *args, **kwargs)\n",
      "                   ^^^^^^^^^^^^^^^^^^^^^^^^^^^\n",
      "  File \"/var/folders/0n/sggn66691kd6g5mtyzpq2hv80000gn/T/ipykernel_93796/4256672866.py\", line 77, in fit_transform\n",
      "AttributeError: 'NoneType' object has no attribute 'fit'\n",
      "\n",
      "  warnings.warn(some_fits_failed_message, FitFailedWarning)\n",
      "/Users/arzaan/PycharmProjects/ComputationalIntelligence/venv/lib/python3.12/site-packages/sklearn/model_selection/_search.py:1108: UserWarning: One or more of the test scores are non-finite: [0.50056696 0.50119961        nan]\n",
      "  warnings.warn(\n"
     ]
    },
    {
     "name": "stdout",
     "output_type": "stream",
     "text": [
      "TP: 2969 FP: 23 TN: 17 FN: 2503\n",
      "Specificity: 0.425\n",
      "Sensitivity: 0.5425804093567251\n",
      "[CV] END ................................scaler__type=robust; total time= 1.3min\n",
      "[CV] END ................................scaler__type=minmax; total time=  25.3s\n",
      "TP: 3136 FP: 12 TN: 11 FN: 2365\n",
      "Specificity: 0.4782608695652174\n",
      "Sensitivity: 0.5700781676058898\n",
      "TP: 3099 FP: 87 TN: 63 FN: 2267\n",
      "Specificity: 0.42\n",
      "Sensitivity: 0.5775251584047708\n"
     ]
    },
    {
     "name": "stderr",
     "output_type": "stream",
     "text": [
      "/var/folders/0n/sggn66691kd6g5mtyzpq2hv80000gn/T/ipykernel_93796/4256672866.py:71: PerformanceWarning: DataFrame is highly fragmented.  This is usually the result of calling `frame.insert` many times, which has poor performance.  Consider joining all columns at once using pd.concat(axis=1) instead. To get a de-fragmented frame, use `newframe = frame.copy()`\n",
      "  X['is_not_outlier'] = outlier_preds\n",
      "/Users/arzaan/PycharmProjects/ComputationalIntelligence/venv/lib/python3.12/site-packages/sklearn/linear_model/_logistic.py:1196: UserWarning: l1_ratio parameter is only used when penalty is 'elasticnet'. Got (penalty=l2)\n",
      "  warnings.warn(\n",
      "Python(96554) MallocStackLogging: can't turn off malloc stack logging because it was not enabled.\n"
     ]
    },
    {
     "name": "stdout",
     "output_type": "stream",
     "text": [
      "Best params: {'scaler__type': 'robust'}\n",
      "Best score: 0.5011996078725078\n"
     ]
    },
    {
     "name": "stderr",
     "output_type": "stream",
     "text": [
      "Python(96555) MallocStackLogging: can't turn off malloc stack logging because it was not enabled.\n"
     ]
    }
   ],
   "source": [
    "import pandas as pd\n",
    "import numpy as np\n",
    "from sklearn.pipeline import Pipeline\n",
    "from sklearn.decomposition import PCA\n",
    "from sklearn.ensemble import IsolationForest\n",
    "from sklearn.linear_model import LogisticRegression\n",
    "from sklearn.base import BaseEstimator, TransformerMixin, ClassifierMixin\n",
    "from sklearn.model_selection import GroupShuffleSplit\n",
    "from sklearn.preprocessing import StandardScaler, MinMaxScaler, RobustScaler, MaxAbsScaler\n",
    "from imblearn.under_sampling import RandomUnderSampler\n",
    "from sklearn.metrics import confusion_matrix, make_scorer\n",
    "from sklearn.model_selection import GridSearchCV, GroupKFold\n",
    "\n",
    "def balanced_accuracy(y_true, y_pred):\n",
    "    tn, fp, fn, tp = confusion_matrix(y_true, y_pred).ravel()\n",
    "    specificity = tn / (tn + fp)\n",
    "    sensitivity = tp / (tp + fn)\n",
    "    print(\"TP:\", tp, \"FP:\", fp, \"TN:\", tn, \"FN:\", fn)\n",
    "    print(\"Specificity:\", specificity)\n",
    "    print(\"Sensitivity:\", sensitivity)\n",
    "    return (specificity + sensitivity) / 2\n",
    "\n",
    "class DropInfoCluster(BaseEstimator, TransformerMixin):\n",
    "    def __init__(self):\n",
    "        self.columns_to_drop = None\n",
    "        \n",
    "    def fit(self, X, y=None):\n",
    "        return self.fit_transform(X, y)\n",
    "    \n",
    "    def fit_transform(self, X, y=None):\n",
    "        return X.drop('Info_cluster', axis=1)\n",
    "\n",
    "    def transform(self, X):\n",
    "        return X.drop('Info_cluster', axis=1)\n",
    "    \n",
    "class Imputer(BaseEstimator, TransformerMixin):\n",
    "    \n",
    "    def __init__(self):\n",
    "        self.fill_values_ = None\n",
    "        \n",
    "    def fit(self, X, y=None):\n",
    "        return self.fit_transform(X, y)\n",
    "    \n",
    "    def fit_transform(self, X, y):\n",
    "        self.fill_values_ = X.mean()\n",
    "        X = X.fillna(self.fill_values_)\n",
    "        return X\n",
    "\n",
    "    def transform(self, X):\n",
    "        X = X.fillna(self.fill_values_)\n",
    "        return X\n",
    "\n",
    "# Custom Transformer for Outlier Removal\n",
    "class Scaler(BaseEstimator, TransformerMixin):\n",
    "    def __init__(self, type='standard'):\n",
    "        self.type = type\n",
    "        self.iso_forest = IsolationForest(random_state=42, n_jobs=-1)\n",
    "        self.scaler = None\n",
    "\n",
    "        \n",
    "    def fit(self, X, y=None):\n",
    "        return self.fit_transform(X, y)\n",
    "\n",
    "    def fit_transform(self, X, y):\n",
    "        if self.type == 'standard':\n",
    "            self.scaler = StandardScaler()\n",
    "        elif self.type == 'robust':\n",
    "            self.scaler = RobustScaler()\n",
    "        \n",
    "        outlier_preds = self.iso_forest.fit_predict(X)\n",
    "        X['is_not_outlier'] = outlier_preds\n",
    "        \n",
    "        no_outliers = X[X['is_not_outlier'] == 1]\n",
    "        no_outliers = no_outliers.drop(['is_not_outlier'], axis=1)\n",
    "        \n",
    "        # Fit the scaler\n",
    "        self.scaler.fit(no_outliers)\n",
    "        transformed = self.scaler.transform(X.iloc[:, :-1])\n",
    "        transformed = pd.DataFrame(transformed, columns=X.columns[:-1])\n",
    "        transformed['is_not_outlier'] = X['is_not_outlier'].values\n",
    "        \n",
    "        \n",
    "        return transformed\n",
    "\n",
    "    def transform(self, X):\n",
    "        transformed = self.scaler.transform(X)\n",
    "        transformed = pd.DataFrame(transformed, columns=X.columns)\n",
    "            \n",
    "        return transformed\n",
    "    \n",
    "class PCATransformer(BaseEstimator, TransformerMixin):\n",
    "    def __init__(self):\n",
    "        self.pca = PCA(n_components=3, random_state=42)\n",
    "        \n",
    "    def fit(self, X, y=None):\n",
    "        return self.fit_transform(X, y)\n",
    "\n",
    "    def fit_transform(self, X, y=None):\n",
    "        data = X[X['is_not_outlier'] == 1]\n",
    "        data = data.drop(['is_not_outlier'], axis=1)\n",
    "        self.pca.fit(data)\n",
    "        transformed = self.pca.transform(X.iloc[:, :-1])\n",
    "        transformed=pd.DataFrame(transformed, columns=[f'PC{i+1}' for i in range(transformed.shape[1])])\n",
    "        transformed['is_not_outlier'] = X['is_not_outlier'].values\n",
    "        \n",
    "        return transformed\n",
    "\n",
    "    def transform(self, X):  \n",
    "\n",
    "        transformed = self.pca.transform(X)\n",
    "        transformed=pd.DataFrame(transformed, columns=[f'PC{i+1}' for i in range(transformed.shape[1])])\n",
    "            \n",
    "        return transformed\n",
    "    \n",
    "class UnderSampleAndLogisticRegression(BaseEstimator, ClassifierMixin):\n",
    "    def __init__(self):\n",
    "        self.params = {'warm_start': True, 'tol': 0.01, 'solver': 'newton-cg', 'penalty': 'l2', 'max_iter': 200, 'l1_ratio': 0.9, 'intercept_scaling': 0.1, 'fit_intercept': False, 'dual': False, 'C': 0.01}\n",
    "        self.lr = LogisticRegression(random_state=41, n_jobs=-1, **self.params)\n",
    "        self.rus = RandomUnderSampler(random_state=42)\n",
    "        \n",
    "    def fit(self, X, y=None):\n",
    "        return self.fit_transform(X,y)\n",
    "    \n",
    "    def transform(self, X):\n",
    "        pass\n",
    "        \n",
    "    def fit_transform(self, X, y):\n",
    "        # get indices where is_not_outlier == 1\n",
    "        X['Class'] = y.tolist()\n",
    "        \n",
    "        X = X[X['is_not_outlier'] == 1]\n",
    "        X = X.drop(['is_not_outlier'], axis=1)\n",
    "        \n",
    "        y = X['Class']\n",
    "        X = X.drop(['Class'], axis=1)\n",
    "        \n",
    "        X, y = self.rus.fit_resample(X, y)\n",
    "        X = pd.DataFrame(X)\n",
    "        \n",
    "        self.lr.fit(X, y)\n",
    "\n",
    "        return self\n",
    "\n",
    "    def predict(self, X):\n",
    "        return self.lr.predict(X)\n",
    "\n",
    "    def predict_proba(self, X):\n",
    "        return self.lr.predict_proba(X)\n",
    "\n",
    "# Load Data\n",
    "df = pd.read_csv(\"df.csv\")\n",
    "df=df.drop(['Info_PepID', 'Info_organism_id', 'Info_protein_id', 'Info_pos',\n",
    "       'Info_AA', 'Info_epitope_id', 'Info_nPos', 'Info_nNeg', 'Info_organism_id', 'feat_esm1b_649'], axis=1)\n",
    "\n",
    "missing_rows = df.isna().sum(axis=1)\n",
    "df= df.drop(df[missing_rows >= 1214].index)\n",
    "\n",
    "# Using GroupShuffleSplit to split the data by Info_cluster so that the clusters are not split between train and test\n",
    "gss = GroupShuffleSplit(n_splits=2, test_size=0.2, random_state=42)\n",
    "train_idx, test_idx = next(gss.split(df, groups=df['Info_cluster'])) # split by cluster, not by individual\n",
    "train_df = df.iloc[train_idx]\n",
    "X_test = df.iloc[test_idx]\n",
    "y_test = X_test['Class']\n",
    "X_test = X_test.drop(['Class'], axis=1)\n",
    "\n",
    "gss = GroupShuffleSplit(n_splits=2, test_size=0.2, random_state=6)\n",
    "train_idx, val_idx = next(gss.split(train_df, groups=train_df['Info_cluster'])) # split by cluster, not by individual\n",
    "X_train = train_df.iloc[train_idx]\n",
    "y_train = X_train['Class']\n",
    "X_train = X_train.drop(['Class'], axis=1)\n",
    "\n",
    "# Define Pipeline with Logistic Regression\n",
    "pipeline = Pipeline([\n",
    "    ('dropcolumns', DropInfoCluster()),\n",
    "    ('impute', Imputer()),  # Fill missing values with mean\n",
    "    ('scaler', Scaler()),  # Scale features\n",
    "    ('pca', PCATransformer()),  # Reduce dimensionality\n",
    "    ('undersampleAndlogreg', UnderSampleAndLogisticRegression(\n",
    "    )) \n",
    "])\n",
    "\n",
    "gkf = GroupKFold(n_splits=5)\n",
    "\n",
    "param_grid = {\n",
    "    'scaler__type': ['standard', 'robust', 'minmax'],\n",
    "}\n",
    "grid_search = GridSearchCV(\n",
    "    pipeline,\n",
    "    param_grid,\n",
    "    scoring=make_scorer(balanced_accuracy, greater_is_better=True),  # or a custom scorer\n",
    "    cv=gkf,\n",
    "    n_jobs=-1\n",
    ")\n",
    "grid_search.fit(X_train, y_train, groups=X_train['Info_cluster'])\n",
    "print(\"Best params:\", grid_search.best_params_)\n",
    "print(\"Best score:\", grid_search.best_score_)"
   ]
  },
  {
   "cell_type": "markdown",
   "metadata": {
    "id": "LL8gcj_uisoz"
   },
   "source": [
    "## Performance evaluation on test split\n",
    "[_Evaluate the performance of your final pipeline on the final test split. You can report many different performance metrics, but don't forget to report the main one (see the CW brief for details)_]"
   ]
  },
  {
   "cell_type": "code",
   "execution_count": 22,
   "outputs": [
    {
     "name": "stderr",
     "output_type": "stream",
     "text": [
      "/var/folders/0n/sggn66691kd6g5mtyzpq2hv80000gn/T/ipykernel_93796/4256672866.py:71: PerformanceWarning: DataFrame is highly fragmented.  This is usually the result of calling `frame.insert` many times, which has poor performance.  Consider joining all columns at once using pd.concat(axis=1) instead. To get a de-fragmented frame, use `newframe = frame.copy()`\n",
      "  X['is_not_outlier'] = outlier_preds\n",
      "/Users/arzaan/PycharmProjects/ComputationalIntelligence/venv/lib/python3.12/site-packages/sklearn/linear_model/_logistic.py:1196: UserWarning: l1_ratio parameter is only used when penalty is 'elasticnet'. Got (penalty=l2)\n",
      "  warnings.warn(\n",
      "/Users/arzaan/PycharmProjects/ComputationalIntelligence/venv/lib/python3.12/site-packages/sklearn/pipeline.py:62: FutureWarning: This Pipeline instance is not fitted yet. Call 'fit' with appropriate arguments before using other methods such as transform, predict, etc. This will raise an error in 1.8 instead of the current warning.\n",
      "  warnings.warn(\n"
     ]
    },
    {
     "name": "stdout",
     "output_type": "stream",
     "text": [
      "TP: 5778 FP: 86 TN: 58 FN: 3724\n",
      "Specificity: 0.4027777777777778\n",
      "Sensitivity: 0.6080825089454852\n"
     ]
    },
    {
     "name": "stderr",
     "output_type": "stream",
     "text": [
      "/Users/arzaan/PycharmProjects/ComputationalIntelligence/venv/lib/python3.12/site-packages/sklearn/pipeline.py:62: FutureWarning: This Pipeline instance is not fitted yet. Call 'fit' with appropriate arguments before using other methods such as transform, predict, etc. This will raise an error in 1.8 instead of the current warning.\n",
      "  warnings.warn(\n"
     ]
    },
    {
     "data": {
      "text/plain": "np.float64(0.5054301433616315)"
     },
     "execution_count": 22,
     "metadata": {},
     "output_type": "execute_result"
    }
   ],
   "source": [
    "pipeline = Pipeline([\n",
    "    ('dropcolumns', DropInfoCluster()),\n",
    "    ('impute', Imputer()),  # Fill missing values with mean\n",
    "    ('scaler', Scaler(type='robust')),  # Scale features\n",
    "    ('pca', PCATransformer()),  # Reduce dimensionality\n",
    "    ('undersampleAndlogreg', UnderSampleAndLogisticRegression(\n",
    "    )) \n",
    "])\n",
    "pipeline.fit_transform(X_train, y_train)\n",
    "pipeline.transform(X_test)\n",
    "\n",
    "y_pred = pipeline.predict(X_test)\n",
    "balanced_accuracy(y_test, y_pred)"
   ],
   "metadata": {
    "collapsed": false,
    "ExecuteTime": {
     "end_time": "2025-04-08T03:13:28.721880Z",
     "start_time": "2025-04-08T03:13:20.036689Z"
    }
   }
  },
  {
   "cell_type": "markdown",
   "metadata": {
    "id": "cZgEHl1HFLki"
   },
   "source": [
    "## Generation of predictions on holdout set"
   ]
  },
  {
   "cell_type": "code",
   "execution_count": 32,
   "metadata": {
    "ExecuteTime": {
     "end_time": "2025-04-08T03:26:32.662493Z",
     "start_time": "2025-04-08T03:26:30.783487Z"
    }
   },
   "outputs": [
    {
     "name": "stderr",
     "output_type": "stream",
     "text": [
      "/Users/arzaan/PycharmProjects/ComputationalIntelligence/venv/lib/python3.12/site-packages/sklearn/pipeline.py:62: FutureWarning: This Pipeline instance is not fitted yet. Call 'fit' with appropriate arguments before using other methods such as transform, predict, etc. This will raise an error in 1.8 instead of the current warning.\n",
      "  warnings.warn(\n",
      "/Users/arzaan/PycharmProjects/ComputationalIntelligence/venv/lib/python3.12/site-packages/sklearn/pipeline.py:62: FutureWarning: This Pipeline instance is not fitted yet. Call 'fit' with appropriate arguments before using other methods such as transform, predict, etc. This will raise an error in 1.8 instead of the current warning.\n",
      "  warnings.warn(\n"
     ]
    }
   ],
   "source": [
    "holdout = pd.read_csv(\"df_holdout.csv\")\n",
    "holdout_copy = holdout.drop(['Info_PepID', 'Info_organism_id', 'Info_protein_id', 'Info_pos',\n",
    "       'Info_AA', 'Info_epitope_id', 'Info_nPos', 'Info_nNeg', 'Info_organism_id', 'feat_esm1b_649'], axis=1)\n",
    "pipeline.transform(holdout_copy)\n",
    "y_pred = pipeline.predict(holdout_copy)\n",
    "holdout['Prediction'] = y_pred.tolist()\n",
    "holdout = holdout[['Info_PepID', 'Info_pos', 'Prediction']]\n",
    "holdout.to_csv('holdout_predictions.csv', index=False)"
   ]
  },
  {
   "cell_type": "markdown",
   "metadata": {
    "id": "fB_qyQIvqwIp"
   },
   "source": [
    "## References\n",
    "[_If you cited any specific references in this doc, please add them here._]"
   ]
  },
  {
   "cell_type": "code",
   "execution_count": 44,
   "metadata": {
    "ExecuteTime": {
     "end_time": "2025-03-30T11:26:49.595988Z",
     "start_time": "2025-03-30T11:26:49.575098Z"
    }
   },
   "outputs": [],
   "source": []
  }
 ],
 "metadata": {
  "colab": {
   "provenance": [],
   "toc_visible": true
  },
  "kernelspec": {
   "display_name": "Python 3 (ipykernel)",
   "language": "python",
   "name": "python3"
  },
  "language_info": {
   "codemirror_mode": {
    "name": "ipython",
    "version": 3
   },
   "file_extension": ".py",
   "mimetype": "text/x-python",
   "name": "python",
   "nbconvert_exporter": "python",
   "pygments_lexer": "ipython3",
   "version": "3.9.12"
  }
 },
 "nbformat": 4,
 "nbformat_minor": 4
}
